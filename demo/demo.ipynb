{
 "cells": [
  {
   "cell_type": "markdown",
   "id": "04751563",
   "metadata": {},
   "source": [
    "## Table of contents\n",
    "1. [Introduction](#Introduction)\n",
    "2. [Quickstart](#Quickstart)\n",
    "3. [Applying styles](#Applying-styles)\n",
    "4. [Relative positioning](#Relative-positioning)"
   ]
  },
  {
   "cell_type": "markdown",
   "id": "51059598",
   "metadata": {},
   "source": [
    "## Introduction"
   ]
  },
  {
   "cell_type": "markdown",
   "id": "00926ac4",
   "metadata": {},
   "source": [
    "## Quickstart"
   ]
  },
  {
   "cell_type": "code",
   "execution_count": 1,
   "id": "982bdf8c",
   "metadata": {},
   "outputs": [],
   "source": [
    "import IPython.display\n",
    "import tempfile\n",
    "import os\n",
    "import time"
   ]
  },
  {
   "cell_type": "code",
   "execution_count": 2,
   "id": "71b516ba",
   "metadata": {},
   "outputs": [],
   "source": [
    "import momapy.sbgn.io\n",
    "import momapy.sbgn.styling\n",
    "import momapy.sbgn.utils\n",
    "import momapy.rendering\n",
    "import momapy.builder\n",
    "import momapy.coloring\n",
    "import momapy.styling"
   ]
  },
  {
   "cell_type": "code",
   "execution_count": 3,
   "id": "7f00e3d3",
   "metadata": {},
   "outputs": [],
   "source": [
    "filenames = []\n",
    "def display(map_, width=450, height=300):\n",
    "    if momapy.builder.isinstance_or_builder(map_, (momapy.core.Map, momapy.core.LayoutElement)):\n",
    "        f, filename = tempfile.mkstemp(dir=\".\", suffix=\".svg\")\n",
    "        if momapy.builder.isinstance_or_builder(map_, (momapy.core.LayoutElement)):\n",
    "            if isinstance(map_, momapy.core.LayoutElement):\n",
    "                map_ = momapy.builder.builder_from_object(map_)\n",
    "            map_layout = momapy.core.MapLayoutBuilder()\n",
    "            map_layout.add_element(map_)\n",
    "            map_layout.width = width\n",
    "            map_layout.height = height\n",
    "            map_layout.position = momapy.geometry.PointBuilder(width / 2, height / 2)\n",
    "            map_ = momapy.sbgn.pd.SBGNPDMapBuilder(layout=map_layout)\n",
    "        momapy.rendering.render_map(map_, filename, renderer=\"svg-native\")\n",
    "    else:\n",
    "        filename = map_\n",
    "    print(os.path.split(filename)[-1])\n",
    "    s = \"<img src='{}' width={}>\".format(os.path.split(filename)[-1], width)\n",
    "    IPython.display.display(IPython.display.HTML(s))\n",
    "    filenames.append(filename)\n",
    "    \n",
    "def show_room(cls, type_=\"anchor\"):\n",
    "    WIDTH = 450\n",
    "    HEIGHT = 300\n",
    "    POSITION = momapy.geometry.PointBuilder(WIDTH / 2, HEIGHT / 2)\n",
    "    SCALE = 5\n",
    "    FONT_SIZE = 12\n",
    "    DISTANCE = 6\n",
    "    CROSS_SIZE = 12\n",
    "    ANCHORS = {\n",
    "        \"north_west\": \"south_east\",\n",
    "        \"north\": \"south\",\n",
    "        \"north_east\": \"south_west\",\n",
    "        \"east\": \"west\",\n",
    "        \"south_east\": \"north_west\",\n",
    "        \"south\": \"north\",\n",
    "        \"south_west\": \"north_east\",\n",
    "        \"west\": \"east\",\n",
    "        \"center\": \"center\",\n",
    "        \"label_center\": \"label_center\"\n",
    "    }\n",
    "    ANGLE_STEP = 15\n",
    "    AUXILLIARY_UNIT_WIDTH = 18\n",
    "    AUXILLIARY_UNIT_HEIGHT = 9\n",
    "    if not issubclass(cls, momapy.builder.Builder):\n",
    "        cls = momapy.builder.get_or_make_builder_cls(cls)\n",
    "    m = cls()\n",
    "    m.position=POSITION\n",
    "    m.width = m.width * SCALE\n",
    "    m.height = m.height * SCALE\n",
    "    for attr in [\"offset\", \"left_connector_length\", \"right_connector_length\"]: \n",
    "        if hasattr(m, attr):\n",
    "            setattr(m, attr, getattr(m, attr) * SCALE)\n",
    "    if type_ == \"angle\":\n",
    "        StateVariableLayoutBuilder = momapy.builder.get_or_make_builder_cls(momapy.sbgn.pd.StateVariableLayout)\n",
    "        UnitOfInformationLayoutBuilder = momapy.builder.get_or_make_builder_cls(momapy.sbgn.pd.UnitOfInformationLayout)\n",
    "        s1 = StateVariableLayoutBuilder(\n",
    "            width=AUXILLIARY_UNIT_WIDTH * SCALE,\n",
    "            height=AUXILLIARY_UNIT_HEIGHT * SCALE,\n",
    "            position=m.self_angle(130)\n",
    "        )\n",
    "        m.add_element(s1)\n",
    "        s2 = StateVariableLayoutBuilder(\n",
    "            width=AUXILLIARY_UNIT_WIDTH * SCALE,\n",
    "            height=AUXILLIARY_UNIT_HEIGHT * SCALE,\n",
    "            position=m.self_angle(50)\n",
    "        )\n",
    "        m.add_element(s2)\n",
    "        u1 = UnitOfInformationLayoutBuilder(\n",
    "            width=AUXILLIARY_UNIT_WIDTH * SCALE,\n",
    "            height=AUXILLIARY_UNIT_HEIGHT * SCALE,\n",
    "            position=m.south()\n",
    "        )\n",
    "        m.add_element(u1)\n",
    "    CrossPointBuilder = momapy.builder.get_or_make_builder_cls(momapy.shapes.CrossPoint)\n",
    "    if type_ == \"anchor\":\n",
    "        l = ANCHORS.keys()\n",
    "    elif type_ == \"angle\" or type_ == \"self_angle\":\n",
    "        l = range(0, 360, ANGLE_STEP)\n",
    "    for i, elem in enumerate(l):\n",
    "        if type_ == \"anchor\":\n",
    "            position = getattr(m, elem)()\n",
    "            text = elem\n",
    "        elif type_ == \"angle\":\n",
    "            position = m.angle(elem)\n",
    "            text = str(elem)\n",
    "        elif type_ == \"self_angle\":\n",
    "            position = m.self_angle(elem)\n",
    "            text = str(elem)\n",
    "        cross = CrossPointBuilder(\n",
    "            width = CROSS_SIZE,\n",
    "            height = CROSS_SIZE,\n",
    "            position = position,\n",
    "            stroke_width = 1.5,\n",
    "            stroke = momapy.coloring.colors.red,\n",
    "            label = momapy.core.TextLayoutBuilder(\n",
    "                text=text,\n",
    "                font_family = \"Arial\",\n",
    "                font_size = FONT_SIZE,\n",
    "            ),\n",
    "        )\n",
    "        if type_ == \"anchor\":\n",
    "            if elem == \"label_center\":\n",
    "                func_name = \"set_below_left_of\"\n",
    "                attach = \"north_east\"\n",
    "            elif elem == \"center\":\n",
    "                func_name = \"set_above_right_of\"\n",
    "                attach = \"south_west\"\n",
    "            else:\n",
    "                func_name = \"set_{}_of\".format(elem.replace(\"north\", \"above\").replace(\"east\", \"right\").replace(\"south\", \"below\").replace(\"west\", \"left\"))\n",
    "                attach = ANCHORS[elem]\n",
    "        elif type_ == \"self_angle\" or type_ == \"angle\":\n",
    "            if i % 2 == 0:\n",
    "                func_name = \"set_above_right_of\"\n",
    "                attach = \"south_west\"\n",
    "            else:\n",
    "                func_name = \"set_below_right_of\"\n",
    "                attach = \"north_west\"\n",
    "        getattr(momapy.positioning, func_name)(cross.label, cross, DISTANCE, anchor=attach)\n",
    "        m.add_element(cross)\n",
    "    map_layout = momapy.core.MapLayoutBuilder(\n",
    "        layout_elements=momapy.core.TupleBuilder([m]),\n",
    "        position=POSITION,\n",
    "        width=WIDTH,\n",
    "        height=HEIGHT\n",
    "    )\n",
    "    map_ = momapy.sbgn.pd.SBGNPDMapBuilder(layout=map_layout)\n",
    "    display(map_)\n",
    "    \n",
    "def cleanup():\n",
    "    time.sleep(2)\n",
    "    for filename in filenames:\n",
    "        os.remove(filename)"
   ]
  },
  {
   "cell_type": "code",
   "execution_count": 4,
   "id": "ea8c9f24",
   "metadata": {},
   "outputs": [
    {
     "name": "stdout",
     "output_type": "stream",
     "text": [
      "tmpaw6mrfsv.svg\n"
     ]
    },
    {
     "data": {
      "text/html": [
       "<img src='tmpaw6mrfsv.svg' width=400>"
      ],
      "text/plain": [
       "<IPython.core.display.HTML object>"
      ]
     },
     "metadata": {},
     "output_type": "display_data"
    }
   ],
   "source": [
    "m1 = momapy.sbgn.io.read_file(\"phospho1.sbgn\")\n",
    "display(m1, 400)"
   ]
  },
  {
   "cell_type": "code",
   "execution_count": 5,
   "id": "a5dada7f",
   "metadata": {},
   "outputs": [
    {
     "name": "stdout",
     "output_type": "stream",
     "text": [
      "tmp09ccef5b.svg\n"
     ]
    },
    {
     "data": {
      "text/html": [
       "<img src='tmp09ccef5b.svg' width=300>"
      ],
      "text/plain": [
       "<IPython.core.display.HTML object>"
      ]
     },
     "metadata": {},
     "output_type": "display_data"
    }
   ],
   "source": [
    "m2 = momapy.sbgn.io.read_file(\"phospho2.sbgn\")\n",
    "display(m2, 300)"
   ]
  },
  {
   "cell_type": "code",
   "execution_count": 6,
   "id": "3d25a5b8",
   "metadata": {},
   "outputs": [
    {
     "data": {
      "text/plain": [
       "False"
      ]
     },
     "execution_count": 6,
     "metadata": {},
     "output_type": "execute_result"
    }
   ],
   "source": [
    "m1 == m2"
   ]
  },
  {
   "cell_type": "code",
   "execution_count": 7,
   "id": "7d0155e8",
   "metadata": {},
   "outputs": [
    {
     "data": {
      "text/plain": [
       "False"
      ]
     },
     "execution_count": 7,
     "metadata": {},
     "output_type": "execute_result"
    }
   ],
   "source": [
    "m1.layout == m2.layout"
   ]
  },
  {
   "cell_type": "code",
   "execution_count": 8,
   "id": "f2b75b47",
   "metadata": {},
   "outputs": [
    {
     "data": {
      "text/plain": [
       "True"
      ]
     },
     "execution_count": 8,
     "metadata": {},
     "output_type": "execute_result"
    }
   ],
   "source": [
    "m1.model == m2.model"
   ]
  },
  {
   "cell_type": "code",
   "execution_count": 9,
   "id": "29cc2990",
   "metadata": {},
   "outputs": [
    {
     "name": "stdout",
     "output_type": "stream",
     "text": [
      "cannot assign to field 'stroke'\n"
     ]
    }
   ],
   "source": [
    "try:\n",
    "    m1.layout.stroke = momapy.coloring.colors.red\n",
    "except Exception as e:\n",
    "    print(e)"
   ]
  },
  {
   "cell_type": "code",
   "execution_count": 10,
   "id": "7853cd79",
   "metadata": {},
   "outputs": [],
   "source": [
    "m1_builder = momapy.builder.builder_from_object(m1)"
   ]
  },
  {
   "cell_type": "code",
   "execution_count": 11,
   "id": "d573efa2",
   "metadata": {},
   "outputs": [
    {
     "name": "stdout",
     "output_type": "stream",
     "text": [
      "tmpg4ww9fu0.svg\n"
     ]
    },
    {
     "data": {
      "text/html": [
       "<img src='tmpg4ww9fu0.svg' width=400>"
      ],
      "text/plain": [
       "<IPython.core.display.HTML object>"
      ]
     },
     "metadata": {},
     "output_type": "display_data"
    }
   ],
   "source": [
    "m1_builder.layout.stroke = momapy.coloring.colors.red\n",
    "m1_builder.layout.stroke_width = 3\n",
    "display(m1_builder, 400)"
   ]
  },
  {
   "cell_type": "code",
   "execution_count": 12,
   "id": "fc9e18cb",
   "metadata": {},
   "outputs": [],
   "source": [
    "m1_builder = momapy.sbgn.io.read_file(\"phospho1.sbgn\", return_builder=True)"
   ]
  },
  {
   "cell_type": "code",
   "execution_count": 13,
   "id": "280c61c8",
   "metadata": {
    "scrolled": false
   },
   "outputs": [
    {
     "name": "stdout",
     "output_type": "stream",
     "text": [
      "tmpr6jp__0i.svg\n"
     ]
    },
    {
     "data": {
      "text/html": [
       "<img src='tmpr6jp__0i.svg' width=400>"
      ],
      "text/plain": [
       "<IPython.core.display.HTML object>"
      ]
     },
     "metadata": {},
     "output_type": "display_data"
    }
   ],
   "source": [
    "m1_builder.layout.stroke = momapy.coloring.colors.red\n",
    "m1_builder.layout.stroke_width = 3\n",
    "display(m1_builder, 400)"
   ]
  },
  {
   "cell_type": "code",
   "execution_count": 14,
   "id": "fe7233ab",
   "metadata": {},
   "outputs": [
    {
     "data": {
      "text/plain": [
       "True"
      ]
     },
     "execution_count": 14,
     "metadata": {},
     "output_type": "execute_result"
    }
   ],
   "source": [
    "m1 = momapy.sbgn.io.read_file(\"phospho1.sbgn\")\n",
    "m1_builder = momapy.builder.builder_from_object(m1)\n",
    "m1 == m1_builder.build()"
   ]
  },
  {
   "cell_type": "markdown",
   "id": "d3522844",
   "metadata": {},
   "source": [
    "### So what is the purpose of the non builder object?"
   ]
  },
  {
   "cell_type": "code",
   "execution_count": 15,
   "id": "026c3693",
   "metadata": {},
   "outputs": [
    {
     "data": {
      "text/plain": [
       "False"
      ]
     },
     "execution_count": 15,
     "metadata": {},
     "output_type": "execute_result"
    }
   ],
   "source": [
    "m1a_builder = momapy.sbgn.io.read_file(\"phospho1.sbgn\", return_builder=True)\n",
    "m1b_builder = momapy.sbgn.io.read_file(\"phospho1.sbgn\", return_builder=True)\n",
    "m1a_builder == m1b_builder"
   ]
  },
  {
   "cell_type": "code",
   "execution_count": 16,
   "id": "522d6429",
   "metadata": {},
   "outputs": [
    {
     "data": {
      "text/plain": [
       "True"
      ]
     },
     "execution_count": 16,
     "metadata": {},
     "output_type": "execute_result"
    }
   ],
   "source": [
    "m1a = m1a_builder.build()\n",
    "m1b = m1b_builder.build()\n",
    "m1a == m1b"
   ]
  },
  {
   "cell_type": "code",
   "execution_count": 17,
   "id": "cb860b1b",
   "metadata": {},
   "outputs": [],
   "source": [
    "m1_builder = momapy.sbgn.io.read_file(\"phospho1.sbgn\", return_builder=True)\n",
    "m1_builder.layout.stroke_width = 3\n",
    "m1_builder.layout.stroke = momapy.coloring.colors.red\n",
    "m1 = m1_builder.build()"
   ]
  },
  {
   "cell_type": "code",
   "execution_count": 18,
   "id": "6e9c7832",
   "metadata": {},
   "outputs": [],
   "source": [
    "s = set([])\n",
    "for i in range(256):\n",
    "    for j in range(0):\n",
    "            m1_builder.layout.stroke = momapy.coloring.rgba(i, j, 0, 1.0)\n",
    "            s.add(m1_builder.build())\n",
    "l = list(s)"
   ]
  },
  {
   "cell_type": "code",
   "execution_count": 19,
   "id": "c1a698dc",
   "metadata": {
    "scrolled": true
   },
   "outputs": [
    {
     "name": "stdout",
     "output_type": "stream",
     "text": [
      "CPU times: user 95 µs, sys: 32 µs, total: 127 µs\n",
      "Wall time: 131 µs\n"
     ]
    },
    {
     "data": {
      "text/plain": [
       "False"
      ]
     },
     "execution_count": 19,
     "metadata": {},
     "output_type": "execute_result"
    }
   ],
   "source": [
    "%%time\n",
    "m1 in s"
   ]
  },
  {
   "cell_type": "code",
   "execution_count": 20,
   "id": "9b263331",
   "metadata": {
    "scrolled": true
   },
   "outputs": [
    {
     "name": "stdout",
     "output_type": "stream",
     "text": [
      "CPU times: user 4 µs, sys: 0 ns, total: 4 µs\n",
      "Wall time: 6.91 µs\n"
     ]
    },
    {
     "data": {
      "text/plain": [
       "False"
      ]
     },
     "execution_count": 20,
     "metadata": {},
     "output_type": "execute_result"
    }
   ],
   "source": [
    "%%time\n",
    "m1 in l"
   ]
  },
  {
   "cell_type": "markdown",
   "id": "fe4a762d",
   "metadata": {},
   "source": [
    "### Submap"
   ]
  },
  {
   "cell_type": "code",
   "execution_count": 21,
   "id": "8f4c5391",
   "metadata": {},
   "outputs": [
    {
     "name": "stdout",
     "output_type": "stream",
     "text": [
      "tmpz5fkq7zp.svg\n"
     ]
    },
    {
     "data": {
      "text/html": [
       "<img src='tmpz5fkq7zp.svg' width=450>"
      ],
      "text/plain": [
       "<IPython.core.display.HTML object>"
      ]
     },
     "metadata": {},
     "output_type": "display_data"
    }
   ],
   "source": [
    "m1_builder = momapy.sbgn.io.read_file(\"phospho1comp.sbgn\", return_builder=True)\n",
    "m1 = m1_builder.build()\n",
    "display(m1)"
   ]
  },
  {
   "cell_type": "code",
   "execution_count": 22,
   "id": "d4a07e0e",
   "metadata": {},
   "outputs": [
    {
     "name": "stdout",
     "output_type": "stream",
     "text": [
      "tmp2huc3z2x.svg\n"
     ]
    },
    {
     "data": {
      "text/html": [
       "<img src='tmp2huc3z2x.svg' width=450>"
      ],
      "text/plain": [
       "<IPython.core.display.HTML object>"
      ]
     },
     "metadata": {},
     "output_type": "display_data"
    }
   ],
   "source": [
    "m2_builder = momapy.sbgn.io.read_file(\"phospho1.sbgn\", return_builder=True)\n",
    "m2_builder.layout.position = m1_builder.layout.position\n",
    "m2_builder.layout.width = m1_builder.layout.width\n",
    "m2_builder.layout.height = m1_builder.layout.height\n",
    "m2 = m2_builder.build()\n",
    "display(m2)"
   ]
  },
  {
   "cell_type": "code",
   "execution_count": 23,
   "id": "0f98fa06",
   "metadata": {},
   "outputs": [
    {
     "data": {
      "text/plain": [
       "False"
      ]
     },
     "execution_count": 23,
     "metadata": {},
     "output_type": "execute_result"
    }
   ],
   "source": [
    "m1.is_submap(m2)"
   ]
  },
  {
   "cell_type": "code",
   "execution_count": 24,
   "id": "4ce96a6c",
   "metadata": {},
   "outputs": [
    {
     "data": {
      "text/plain": [
       "True"
      ]
     },
     "execution_count": 24,
     "metadata": {},
     "output_type": "execute_result"
    }
   ],
   "source": [
    "m1.layout.is_sublayout(m2.layout)"
   ]
  },
  {
   "cell_type": "code",
   "execution_count": 25,
   "id": "9a088abf",
   "metadata": {},
   "outputs": [
    {
     "data": {
      "text/plain": [
       "False"
      ]
     },
     "execution_count": 25,
     "metadata": {},
     "output_type": "execute_result"
    }
   ],
   "source": [
    "m1.model.is_submodel(m2.model)"
   ]
  },
  {
   "cell_type": "markdown",
   "id": "8e51099a",
   "metadata": {},
   "source": [
    "## Applying styles"
   ]
  },
  {
   "cell_type": "code",
   "execution_count": 26,
   "id": "dfcdbcab",
   "metadata": {},
   "outputs": [],
   "source": [
    "m1_builder = momapy.sbgn.io.read_file(\"phospho1.sbgn\", return_builder=True)\n",
    "momapy.sbgn.utils.set_layout_to_fit_content(m1_builder, xsep=10, ysep=10)"
   ]
  },
  {
   "cell_type": "code",
   "execution_count": 27,
   "id": "03c234f7",
   "metadata": {
    "scrolled": false
   },
   "outputs": [
    {
     "name": "stdout",
     "output_type": "stream",
     "text": [
      "tmpwrxfhr0g.svg\n"
     ]
    },
    {
     "data": {
      "text/html": [
       "<img src='tmpwrxfhr0g.svg' width=450>"
      ],
      "text/plain": [
       "<IPython.core.display.HTML object>"
      ]
     },
     "metadata": {},
     "output_type": "display_data"
    }
   ],
   "source": [
    "display(m1_builder)"
   ]
  },
  {
   "cell_type": "code",
   "execution_count": 28,
   "id": "1e8c7125",
   "metadata": {
    "scrolled": true
   },
   "outputs": [
    {
     "name": "stdout",
     "output_type": "stream",
     "text": [
      "tmpfzr0w06w.svg\n"
     ]
    },
    {
     "data": {
      "text/html": [
       "<img src='tmpfzr0w06w.svg' width=450>"
      ],
      "text/plain": [
       "<IPython.core.display.HTML object>"
      ]
     },
     "metadata": {},
     "output_type": "display_data"
    }
   ],
   "source": [
    "momapy.styling.apply_style_sheet(m1_builder.layout, momapy.sbgn.styling.default_colorscheme)\n",
    "display(m1_builder)"
   ]
  },
  {
   "cell_type": "code",
   "execution_count": 29,
   "id": "d655725a",
   "metadata": {},
   "outputs": [
    {
     "name": "stdout",
     "output_type": "stream",
     "text": [
      "tmpgsj5k2vg.svg\n"
     ]
    },
    {
     "data": {
      "text/html": [
       "<img src='tmpgsj5k2vg.svg' width=450>"
      ],
      "text/plain": [
       "<IPython.core.display.HTML object>"
      ]
     },
     "metadata": {},
     "output_type": "display_data"
    }
   ],
   "source": [
    "momapy.styling.apply_style_sheet(m1_builder.layout, momapy.sbgn.styling.shadows)\n",
    "display(m1_builder)"
   ]
  },
  {
   "cell_type": "code",
   "execution_count": 30,
   "id": "c1d6a3ed",
   "metadata": {
    "scrolled": true
   },
   "outputs": [
    {
     "name": "stdout",
     "output_type": "stream",
     "text": [
      "tmp7bved5ws.svg\n"
     ]
    },
    {
     "data": {
      "text/html": [
       "<img src='tmp7bved5ws.svg' width=450>"
      ],
      "text/plain": [
       "<IPython.core.display.HTML object>"
      ]
     },
     "metadata": {},
     "output_type": "display_data"
    }
   ],
   "source": [
    "momapy.styling.apply_style_sheet(m1_builder.layout, momapy.sbgn.styling.newt)\n",
    "display(m1_builder)"
   ]
  },
  {
   "cell_type": "code",
   "execution_count": 31,
   "id": "9be7986c",
   "metadata": {},
   "outputs": [
    {
     "name": "stdout",
     "output_type": "stream",
     "text": [
      "tmp6xg67zrs.svg\n"
     ]
    },
    {
     "data": {
      "text/html": [
       "<img src='tmp6xg67zrs.svg' width=450>"
      ],
      "text/plain": [
       "<IPython.core.display.HTML object>"
      ]
     },
     "metadata": {},
     "output_type": "display_data"
    }
   ],
   "source": [
    "momapy.sbgn.utils.set_auxilliary_units_to_borders(m1_builder)\n",
    "momapy.sbgn.utils.set_arcs_to_borders(m1_builder)\n",
    "display(m1_builder)"
   ]
  },
  {
   "cell_type": "code",
   "execution_count": 32,
   "id": "f2020a4d",
   "metadata": {},
   "outputs": [
    {
     "name": "stdout",
     "output_type": "stream",
     "text": [
      "tmpc30944ts.svg\n"
     ]
    },
    {
     "data": {
      "text/html": [
       "<img src='tmpc30944ts.svg' width=450>"
      ],
      "text/plain": [
       "<IPython.core.display.HTML object>"
      ]
     },
     "metadata": {},
     "output_type": "display_data"
    }
   ],
   "source": [
    "momapy.styling.apply_style_sheet(m1_builder.layout, momapy.sbgn.styling.vanted)\n",
    "display(m1_builder)"
   ]
  },
  {
   "cell_type": "code",
   "execution_count": 33,
   "id": "b955a1bd",
   "metadata": {},
   "outputs": [
    {
     "name": "stdout",
     "output_type": "stream",
     "text": [
      "tmp4uq6rti5.svg\n"
     ]
    },
    {
     "data": {
      "text/html": [
       "<img src='tmp4uq6rti5.svg' width=450>"
      ],
      "text/plain": [
       "<IPython.core.display.HTML object>"
      ]
     },
     "metadata": {},
     "output_type": "display_data"
    }
   ],
   "source": [
    "momapy.sbgn.utils.set_auxilliary_units_to_borders(m1_builder)\n",
    "momapy.sbgn.utils.set_arcs_to_borders(m1_builder)\n",
    "display(m1_builder)"
   ]
  },
  {
   "cell_type": "code",
   "execution_count": 34,
   "id": "59986209",
   "metadata": {
    "scrolled": true
   },
   "outputs": [
    {
     "name": "stdout",
     "output_type": "stream",
     "text": [
      "tmp2t20pl2m.svg\n"
     ]
    },
    {
     "data": {
      "text/html": [
       "<img src='tmp2t20pl2m.svg' width=450>"
      ],
      "text/plain": [
       "<IPython.core.display.HTML object>"
      ]
     },
     "metadata": {},
     "output_type": "display_data"
    }
   ],
   "source": [
    "s = \"\"\"\n",
    "    MacromoleculeLayout {\n",
    "        stroke_width: 3;\n",
    "        fill: red;\n",
    "    }\n",
    "    \n",
    "    StateVariableLayout > TextLayout {\n",
    "        font_color: green;\n",
    "    }\n",
    "    \"\"\"\n",
    "my_style_sheet = momapy.styling.read_string(s)\n",
    "momapy.styling.apply_style_sheet(m1_builder.layout, my_style_sheet)\n",
    "display(m1_builder)"
   ]
  },
  {
   "cell_type": "code",
   "execution_count": 35,
   "id": "05370a47",
   "metadata": {
    "scrolled": true
   },
   "outputs": [
    {
     "name": "stdout",
     "output_type": "stream",
     "text": [
      "tmp35s48dxq.svg\n"
     ]
    },
    {
     "data": {
      "text/html": [
       "<img src='tmp35s48dxq.svg' width=450>"
      ],
      "text/plain": [
       "<IPython.core.display.HTML object>"
      ]
     },
     "metadata": {},
     "output_type": "display_data"
    }
   ],
   "source": [
    "s = s.replace(\"red\", \"blue\")\n",
    "with open(\"my_style_sheet.css\", \"w\") as f:\n",
    "    f.write(s)\n",
    "my_style_sheet = momapy.styling.read_file(\"my_style_sheet.css\")\n",
    "momapy.styling.apply_style_sheet(m1_builder.layout, my_style_sheet)\n",
    "display(m1_builder)"
   ]
  },
  {
   "cell_type": "markdown",
   "id": "f41e41f2",
   "metadata": {},
   "source": [
    "## Relative positioning"
   ]
  },
  {
   "cell_type": "code",
   "execution_count": 36,
   "id": "c9dac181",
   "metadata": {
    "scrolled": false
   },
   "outputs": [],
   "source": [
    "MacromoleculeLayoutBuilder = momapy.builder.get_or_make_builder_cls(momapy.sbgn.pd.MacromoleculeLayout)\n",
    "m = MacromoleculeLayoutBuilder(\n",
    "        position=momapy.geometry.PointBuilder(225, 150),\n",
    "        width=300,\n",
    "        height=150,\n",
    "        stroke_width=1,\n",
    "        rounded_corners=15,\n",
    "        stroke=momapy.coloring.colors.black,\n",
    ")"
   ]
  },
  {
   "cell_type": "code",
   "execution_count": 37,
   "id": "98090915",
   "metadata": {
    "scrolled": false
   },
   "outputs": [
    {
     "data": {
      "text/plain": [
       "Point(x=80.99999999999999, y=78.00000000000001)"
      ]
     },
     "execution_count": 37,
     "metadata": {},
     "output_type": "execute_result"
    }
   ],
   "source": [
    "m.north_west()"
   ]
  },
  {
   "cell_type": "code",
   "execution_count": 38,
   "id": "bae7f016",
   "metadata": {
    "scrolled": false
   },
   "outputs": [
    {
     "name": "stdout",
     "output_type": "stream",
     "text": [
      "tmpbbh20al1.svg\n"
     ]
    },
    {
     "data": {
      "text/html": [
       "<img src='tmpbbh20al1.svg' width=450>"
      ],
      "text/plain": [
       "<IPython.core.display.HTML object>"
      ]
     },
     "metadata": {},
     "output_type": "display_data"
    }
   ],
   "source": [
    "CrossPointBuilder = momapy.builder.get_or_make_builder_cls(momapy.shapes.CrossPoint)\n",
    "cross_point = CrossPointBuilder(\n",
    "    width=12.0,\n",
    "    height=12.0,\n",
    "    stroke_width=1.5,\n",
    "    stroke=momapy.coloring.colors.red\n",
    ")\n",
    "cross_point.position = m.north_west()\n",
    "m.add_element(cross_point)\n",
    "display(m)"
   ]
  },
  {
   "cell_type": "markdown",
   "id": "27dae8ad",
   "metadata": {},
   "source": [
    "All nodes have at least the following anchor points:\n",
    "* north_west\n",
    "* north\n",
    "* north_east\n",
    "* east\n",
    "* south_east\n",
    "* south\n",
    "* south_west\n",
    "* west\n",
    "* center\n",
    "* label_center"
   ]
  },
  {
   "cell_type": "code",
   "execution_count": 39,
   "id": "adab907b",
   "metadata": {},
   "outputs": [
    {
     "name": "stdout",
     "output_type": "stream",
     "text": [
      "tmpu_mdtgvp.svg\n"
     ]
    },
    {
     "data": {
      "text/html": [
       "<img src='tmpu_mdtgvp.svg' width=450>"
      ],
      "text/plain": [
       "<IPython.core.display.HTML object>"
      ]
     },
     "metadata": {},
     "output_type": "display_data"
    }
   ],
   "source": [
    "show_room(momapy.sbgn.pd.MacromoleculeLayout)"
   ]
  },
  {
   "cell_type": "code",
   "execution_count": 40,
   "id": "e4234482",
   "metadata": {
    "scrolled": true
   },
   "outputs": [
    {
     "name": "stdout",
     "output_type": "stream",
     "text": [
      "tmp22hmhxh2.svg\n"
     ]
    },
    {
     "data": {
      "text/html": [
       "<img src='tmp22hmhxh2.svg' width=450>"
      ],
      "text/plain": [
       "<IPython.core.display.HTML object>"
      ]
     },
     "metadata": {},
     "output_type": "display_data"
    }
   ],
   "source": [
    "show_room(momapy.sbgn.pd.GenericProcessLayout)"
   ]
  },
  {
   "cell_type": "code",
   "execution_count": 41,
   "id": "1320e4b7",
   "metadata": {
    "scrolled": true
   },
   "outputs": [
    {
     "name": "stdout",
     "output_type": "stream",
     "text": [
      "tmpmtiheama.svg\n"
     ]
    },
    {
     "data": {
      "text/html": [
       "<img src='tmpmtiheama.svg' width=450>"
      ],
      "text/plain": [
       "<IPython.core.display.HTML object>"
      ]
     },
     "metadata": {},
     "output_type": "display_data"
    }
   ],
   "source": [
    "show_room(momapy.sbgn.pd.ComplexMultimerLayout)"
   ]
  },
  {
   "cell_type": "code",
   "execution_count": 42,
   "id": "5434b542",
   "metadata": {
    "scrolled": false
   },
   "outputs": [
    {
     "data": {
      "text/plain": [
       "Point(x=181.69872981077808, y=74.99999999999999)"
      ]
     },
     "execution_count": 42,
     "metadata": {},
     "output_type": "execute_result"
    }
   ],
   "source": [
    "m.self_angle(120)"
   ]
  },
  {
   "cell_type": "code",
   "execution_count": 43,
   "id": "df90b29b",
   "metadata": {
    "scrolled": false
   },
   "outputs": [
    {
     "name": "stdout",
     "output_type": "stream",
     "text": [
      "tmpamfgivji.svg\n"
     ]
    },
    {
     "data": {
      "text/html": [
       "<img src='tmpamfgivji.svg' width=450>"
      ],
      "text/plain": [
       "<IPython.core.display.HTML object>"
      ]
     },
     "metadata": {},
     "output_type": "display_data"
    }
   ],
   "source": [
    "cross_point.position = m.self_angle(120)\n",
    "display(m)"
   ]
  },
  {
   "cell_type": "code",
   "execution_count": 44,
   "id": "ea18a471",
   "metadata": {
    "scrolled": false
   },
   "outputs": [
    {
     "name": "stdout",
     "output_type": "stream",
     "text": [
      "tmp6flmjqga.svg\n"
     ]
    },
    {
     "data": {
      "text/html": [
       "<img src='tmp6flmjqga.svg' width=450>"
      ],
      "text/plain": [
       "<IPython.core.display.HTML object>"
      ]
     },
     "metadata": {},
     "output_type": "display_data"
    }
   ],
   "source": [
    "show_room(momapy.sbgn.pd.ComplexMultimerLayout, \"self_angle\")"
   ]
  },
  {
   "cell_type": "code",
   "execution_count": 45,
   "id": "952bf79c",
   "metadata": {},
   "outputs": [],
   "source": [
    "m.layout_elements.clear()\n",
    "StateVariableLayoutBuilder = momapy.builder.get_or_make_builder_cls(momapy.sbgn.pd.StateVariableLayout)"
   ]
  },
  {
   "cell_type": "code",
   "execution_count": 46,
   "id": "34fae339",
   "metadata": {
    "scrolled": true
   },
   "outputs": [
    {
     "name": "stdout",
     "output_type": "stream",
     "text": [
      "tmp9iisbm4w.svg\n"
     ]
    },
    {
     "data": {
      "text/html": [
       "<img src='tmp9iisbm4w.svg' width=450>"
      ],
      "text/plain": [
       "<IPython.core.display.HTML object>"
      ]
     },
     "metadata": {},
     "output_type": "display_data"
    }
   ],
   "source": [
    "s = StateVariableLayoutBuilder(\n",
    "    width=90,\n",
    "    height=45\n",
    ")\n",
    "s.position = m.self_angle(120)\n",
    "m.add_element(s)\n",
    "cross_point.position = m.self_angle(120)\n",
    "m.add_element(cross_point)\n",
    "display(m)"
   ]
  },
  {
   "cell_type": "code",
   "execution_count": 47,
   "id": "13c858e6",
   "metadata": {
    "scrolled": false
   },
   "outputs": [
    {
     "name": "stdout",
     "output_type": "stream",
     "text": [
      "tmpvymw15ub.svg\n"
     ]
    },
    {
     "data": {
      "text/html": [
       "<img src='tmpvymw15ub.svg' width=450>"
      ],
      "text/plain": [
       "<IPython.core.display.HTML object>"
      ]
     },
     "metadata": {},
     "output_type": "display_data"
    }
   ],
   "source": [
    "cross_point.position = m.angle(120)\n",
    "display(m)"
   ]
  },
  {
   "cell_type": "code",
   "execution_count": 48,
   "id": "f2c19c95",
   "metadata": {
    "scrolled": true
   },
   "outputs": [
    {
     "name": "stdout",
     "output_type": "stream",
     "text": [
      "tmpjd8784oh.svg\n"
     ]
    },
    {
     "data": {
      "text/html": [
       "<img src='tmpjd8784oh.svg' width=450>"
      ],
      "text/plain": [
       "<IPython.core.display.HTML object>"
      ]
     },
     "metadata": {},
     "output_type": "display_data"
    }
   ],
   "source": [
    "show_room(momapy.sbgn.pd.MacromoleculeLayout, \"angle\")"
   ]
  }
 ],
 "metadata": {
  "kernelspec": {
   "display_name": "my-virtualenv-name",
   "language": "python",
   "name": "my-virtualenv-name"
  },
  "language_info": {
   "codemirror_mode": {
    "name": "ipython",
    "version": 3
   },
   "file_extension": ".py",
   "mimetype": "text/x-python",
   "name": "python",
   "nbconvert_exporter": "python",
   "pygments_lexer": "ipython3",
   "version": "3.10.8"
  }
 },
 "nbformat": 4,
 "nbformat_minor": 5
}
