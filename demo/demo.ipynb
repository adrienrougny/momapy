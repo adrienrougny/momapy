{
 "cells": [
  {
   "cell_type": "code",
   "execution_count": 1,
   "id": "982bdf8c",
   "metadata": {},
   "outputs": [],
   "source": [
    "import IPython.display\n",
    "import tempfile\n",
    "import os\n",
    "import time"
   ]
  },
  {
   "cell_type": "code",
   "execution_count": 2,
   "id": "71b516ba",
   "metadata": {},
   "outputs": [],
   "source": [
    "import momapy.sbgn.io\n",
    "import momapy.sbgn.styling\n",
    "import momapy.sbgn.utils\n",
    "import momapy.rendering\n",
    "import momapy.builder\n",
    "import momapy.coloring\n",
    "import momapy.styling"
   ]
  },
  {
   "cell_type": "code",
   "execution_count": 3,
   "id": "7f00e3d3",
   "metadata": {},
   "outputs": [],
   "source": [
    "filenames = []\n",
    "def display(map_, width=400):\n",
    "    if momapy.builder.isinstance_or_builder(map_, momapy.core.Map):\n",
    "        f, filename = tempfile.mkstemp(dir=\".\", suffix=\".svg\")\n",
    "        momapy.rendering.render_map(map_, filename, renderer=\"svg-native\")\n",
    "    else:\n",
    "        filename = map_\n",
    "    print(os.path.split(filename)[-1])\n",
    "    s = \"<img src='{}' width={}>\".format(os.path.split(filename)[-1], width)\n",
    "    IPython.display.display(IPython.display.HTML(s))\n",
    "    filenames.append(filename)\n",
    "    \n",
    "def cleanup():\n",
    "    time.sleep(2)\n",
    "    for filename in filenames:\n",
    "        os.remove(filename)"
   ]
  },
  {
   "cell_type": "code",
   "execution_count": 4,
   "id": "ea8c9f24",
   "metadata": {},
   "outputs": [
    {
     "name": "stdout",
     "output_type": "stream",
     "text": [
      "tmp2_r0s1yx.svg\n"
     ]
    },
    {
     "data": {
      "text/html": [
       "<img src='tmp2_r0s1yx.svg' width=400>"
      ],
      "text/plain": [
       "<IPython.core.display.HTML object>"
      ]
     },
     "metadata": {},
     "output_type": "display_data"
    }
   ],
   "source": [
    "m1 = momapy.sbgn.io.read_file(\"phospho1.sbgn\")\n",
    "display(m1, 400)"
   ]
  },
  {
   "cell_type": "code",
   "execution_count": 5,
   "id": "a5dada7f",
   "metadata": {},
   "outputs": [
    {
     "name": "stdout",
     "output_type": "stream",
     "text": [
      "tmp3fikrdxr.svg\n"
     ]
    },
    {
     "data": {
      "text/html": [
       "<img src='tmp3fikrdxr.svg' width=300>"
      ],
      "text/plain": [
       "<IPython.core.display.HTML object>"
      ]
     },
     "metadata": {},
     "output_type": "display_data"
    }
   ],
   "source": [
    "m2 = momapy.sbgn.io.read_file(\"phospho2.sbgn\")\n",
    "display(m2, 300)"
   ]
  },
  {
   "cell_type": "code",
   "execution_count": 6,
   "id": "3d25a5b8",
   "metadata": {},
   "outputs": [
    {
     "data": {
      "text/plain": [
       "False"
      ]
     },
     "execution_count": 6,
     "metadata": {},
     "output_type": "execute_result"
    }
   ],
   "source": [
    "m1 == m2"
   ]
  },
  {
   "cell_type": "code",
   "execution_count": 7,
   "id": "7d0155e8",
   "metadata": {},
   "outputs": [
    {
     "data": {
      "text/plain": [
       "False"
      ]
     },
     "execution_count": 7,
     "metadata": {},
     "output_type": "execute_result"
    }
   ],
   "source": [
    "m1.layout == m2.layout"
   ]
  },
  {
   "cell_type": "code",
   "execution_count": 8,
   "id": "f2b75b47",
   "metadata": {},
   "outputs": [
    {
     "data": {
      "text/plain": [
       "True"
      ]
     },
     "execution_count": 8,
     "metadata": {},
     "output_type": "execute_result"
    }
   ],
   "source": [
    "m1.model == m2.model"
   ]
  },
  {
   "cell_type": "code",
   "execution_count": 9,
   "id": "29cc2990",
   "metadata": {},
   "outputs": [
    {
     "name": "stdout",
     "output_type": "stream",
     "text": [
      "cannot assign to field 'stroke'\n"
     ]
    }
   ],
   "source": [
    "try:\n",
    "    m1.layout.stroke = momapy.coloring.colors.red\n",
    "except Exception as e:\n",
    "    print(e)"
   ]
  },
  {
   "cell_type": "code",
   "execution_count": 10,
   "id": "7853cd79",
   "metadata": {},
   "outputs": [],
   "source": [
    "m1_builder = momapy.builder.builder_from_object(m1)"
   ]
  },
  {
   "cell_type": "code",
   "execution_count": 11,
   "id": "d573efa2",
   "metadata": {},
   "outputs": [
    {
     "name": "stdout",
     "output_type": "stream",
     "text": [
      "tmpm565wfkl.svg\n"
     ]
    },
    {
     "data": {
      "text/html": [
       "<img src='tmpm565wfkl.svg' width=400>"
      ],
      "text/plain": [
       "<IPython.core.display.HTML object>"
      ]
     },
     "metadata": {},
     "output_type": "display_data"
    }
   ],
   "source": [
    "m1_builder.layout.stroke = momapy.coloring.colors.red\n",
    "m1_builder.layout.stroke_width = 3\n",
    "display(m1_builder, 400)"
   ]
  },
  {
   "cell_type": "code",
   "execution_count": 12,
   "id": "fc9e18cb",
   "metadata": {},
   "outputs": [],
   "source": [
    "m1_builder = momapy.sbgn.io.read_file(\"phospho1.sbgn\", return_builder=True)"
   ]
  },
  {
   "cell_type": "code",
   "execution_count": 13,
   "id": "280c61c8",
   "metadata": {
    "scrolled": false
   },
   "outputs": [
    {
     "name": "stdout",
     "output_type": "stream",
     "text": [
      "tmpvmf1fq4t.svg\n"
     ]
    },
    {
     "data": {
      "text/html": [
       "<img src='tmpvmf1fq4t.svg' width=400>"
      ],
      "text/plain": [
       "<IPython.core.display.HTML object>"
      ]
     },
     "metadata": {},
     "output_type": "display_data"
    }
   ],
   "source": [
    "m1_builder.layout.stroke = momapy.coloring.colors.red\n",
    "m1_builder.layout.stroke_width = 3\n",
    "display(m1_builder, 400)"
   ]
  },
  {
   "cell_type": "code",
   "execution_count": 14,
   "id": "fe7233ab",
   "metadata": {},
   "outputs": [
    {
     "data": {
      "text/plain": [
       "True"
      ]
     },
     "execution_count": 14,
     "metadata": {},
     "output_type": "execute_result"
    }
   ],
   "source": [
    "m1 = momapy.sbgn.io.read_file(\"phospho1.sbgn\")\n",
    "m1_builder = momapy.builder.builder_from_object(m1)\n",
    "m1 == m1_builder.build()"
   ]
  },
  {
   "cell_type": "markdown",
   "id": "d3522844",
   "metadata": {},
   "source": [
    "### So what is the purpose of the non builder object?"
   ]
  },
  {
   "cell_type": "code",
   "execution_count": 15,
   "id": "026c3693",
   "metadata": {},
   "outputs": [
    {
     "data": {
      "text/plain": [
       "False"
      ]
     },
     "execution_count": 15,
     "metadata": {},
     "output_type": "execute_result"
    }
   ],
   "source": [
    "m1a_builder = momapy.sbgn.io.read_file(\"phospho1.sbgn\", return_builder=True)\n",
    "m1b_builder = momapy.sbgn.io.read_file(\"phospho1.sbgn\", return_builder=True)\n",
    "m1a_builder == m1b_builder"
   ]
  },
  {
   "cell_type": "code",
   "execution_count": 16,
   "id": "522d6429",
   "metadata": {},
   "outputs": [
    {
     "data": {
      "text/plain": [
       "True"
      ]
     },
     "execution_count": 16,
     "metadata": {},
     "output_type": "execute_result"
    }
   ],
   "source": [
    "m1a = m1a_builder.build()\n",
    "m1b = m1b_builder.build()\n",
    "m1a == m1b"
   ]
  },
  {
   "cell_type": "code",
   "execution_count": 17,
   "id": "cb860b1b",
   "metadata": {},
   "outputs": [],
   "source": [
    "m1_builder = momapy.sbgn.io.read_file(\"phospho1.sbgn\", return_builder=True)\n",
    "m1_builder.layout.stroke_width = 3\n",
    "m1_builder.layout.stroke = momapy.coloring.colors.red\n",
    "m1 = m1_builder.build()"
   ]
  },
  {
   "cell_type": "code",
   "execution_count": 18,
   "id": "6e9c7832",
   "metadata": {},
   "outputs": [],
   "source": [
    "s = set([])\n",
    "for i in range(256):\n",
    "    for j in range(0):\n",
    "            m1_builder.layout.stroke = momapy.coloring.rgba(i, j, 0, 1.0)\n",
    "            s.add(m1_builder.build())\n",
    "l = list(s)"
   ]
  },
  {
   "cell_type": "code",
   "execution_count": 19,
   "id": "c1a698dc",
   "metadata": {
    "scrolled": true
   },
   "outputs": [
    {
     "name": "stdout",
     "output_type": "stream",
     "text": [
      "CPU times: user 106 µs, sys: 26 µs, total: 132 µs\n",
      "Wall time: 135 µs\n"
     ]
    },
    {
     "data": {
      "text/plain": [
       "False"
      ]
     },
     "execution_count": 19,
     "metadata": {},
     "output_type": "execute_result"
    }
   ],
   "source": [
    "%%time\n",
    "m1 in s"
   ]
  },
  {
   "cell_type": "code",
   "execution_count": 20,
   "id": "9b263331",
   "metadata": {
    "scrolled": true
   },
   "outputs": [
    {
     "name": "stdout",
     "output_type": "stream",
     "text": [
      "CPU times: user 5 µs, sys: 0 ns, total: 5 µs\n",
      "Wall time: 8.34 µs\n"
     ]
    },
    {
     "data": {
      "text/plain": [
       "False"
      ]
     },
     "execution_count": 20,
     "metadata": {},
     "output_type": "execute_result"
    }
   ],
   "source": [
    "%%time\n",
    "m1 in l"
   ]
  },
  {
   "cell_type": "markdown",
   "id": "2431e2a4",
   "metadata": {},
   "source": [
    "### Submap"
   ]
  },
  {
   "cell_type": "code",
   "execution_count": 21,
   "id": "8f439bb5",
   "metadata": {},
   "outputs": [
    {
     "name": "stdout",
     "output_type": "stream",
     "text": [
      "tmpyxon4omd.svg\n"
     ]
    },
    {
     "data": {
      "text/html": [
       "<img src='tmpyxon4omd.svg' width=400>"
      ],
      "text/plain": [
       "<IPython.core.display.HTML object>"
      ]
     },
     "metadata": {},
     "output_type": "display_data"
    }
   ],
   "source": [
    "m1_builder = momapy.sbgn.io.read_file(\"phospho1comp.sbgn\", return_builder=True)\n",
    "m1 = m1_builder.build()\n",
    "display(m1)"
   ]
  },
  {
   "cell_type": "code",
   "execution_count": 22,
   "id": "372a9f0a",
   "metadata": {},
   "outputs": [
    {
     "name": "stdout",
     "output_type": "stream",
     "text": [
      "tmpdnbm81av.svg\n"
     ]
    },
    {
     "data": {
      "text/html": [
       "<img src='tmpdnbm81av.svg' width=400>"
      ],
      "text/plain": [
       "<IPython.core.display.HTML object>"
      ]
     },
     "metadata": {},
     "output_type": "display_data"
    }
   ],
   "source": [
    "m2_builder = momapy.sbgn.io.read_file(\"phospho1.sbgn\", return_builder=True)\n",
    "m2_builder.layout.position = m1_builder.layout.position\n",
    "m2_builder.layout.width = m1_builder.layout.width\n",
    "m2_builder.layout.height = m1_builder.layout.height\n",
    "m2 = m2_builder.build()\n",
    "display(m2)"
   ]
  },
  {
   "cell_type": "code",
   "execution_count": 23,
   "id": "a5ffd804",
   "metadata": {},
   "outputs": [
    {
     "data": {
      "text/plain": [
       "False"
      ]
     },
     "execution_count": 23,
     "metadata": {},
     "output_type": "execute_result"
    }
   ],
   "source": [
    "m1.is_submap(m2)"
   ]
  },
  {
   "cell_type": "code",
   "execution_count": 24,
   "id": "548844a5",
   "metadata": {},
   "outputs": [
    {
     "data": {
      "text/plain": [
       "True"
      ]
     },
     "execution_count": 24,
     "metadata": {},
     "output_type": "execute_result"
    }
   ],
   "source": [
    "m1.layout.is_sublayout(m2.layout)"
   ]
  },
  {
   "cell_type": "code",
   "execution_count": 25,
   "id": "1f7ba0db",
   "metadata": {},
   "outputs": [
    {
     "data": {
      "text/plain": [
       "False"
      ]
     },
     "execution_count": 25,
     "metadata": {},
     "output_type": "execute_result"
    }
   ],
   "source": [
    "m1.model.is_submodel(m2.model)"
   ]
  },
  {
   "cell_type": "markdown",
   "id": "2452017c",
   "metadata": {},
   "source": [
    "### Styling"
   ]
  },
  {
   "cell_type": "code",
   "execution_count": 26,
   "id": "9120e3e5",
   "metadata": {},
   "outputs": [],
   "source": [
    "m1_builder = momapy.sbgn.io.read_file(\"phospho1.sbgn\", return_builder=True)\n",
    "momapy.sbgn.utils.set_layout_to_fit_content(m1_builder, xsep=10, ysep=10)"
   ]
  },
  {
   "cell_type": "code",
   "execution_count": 27,
   "id": "c7deb72d",
   "metadata": {
    "scrolled": false
   },
   "outputs": [
    {
     "name": "stdout",
     "output_type": "stream",
     "text": [
      "tmpnpwtjm8y.svg\n"
     ]
    },
    {
     "data": {
      "text/html": [
       "<img src='tmpnpwtjm8y.svg' width=400>"
      ],
      "text/plain": [
       "<IPython.core.display.HTML object>"
      ]
     },
     "metadata": {},
     "output_type": "display_data"
    }
   ],
   "source": [
    "display(m1_builder)"
   ]
  },
  {
   "cell_type": "code",
   "execution_count": 28,
   "id": "90875294",
   "metadata": {
    "scrolled": true
   },
   "outputs": [
    {
     "name": "stdout",
     "output_type": "stream",
     "text": [
      "tmp3jbcv17a.svg\n"
     ]
    },
    {
     "data": {
      "text/html": [
       "<img src='tmp3jbcv17a.svg' width=400>"
      ],
      "text/plain": [
       "<IPython.core.display.HTML object>"
      ]
     },
     "metadata": {},
     "output_type": "display_data"
    }
   ],
   "source": [
    "momapy.styling.apply_style_sheet(m1_builder.layout, momapy.sbgn.styling.default_colorscheme)\n",
    "display(m1_builder)"
   ]
  },
  {
   "cell_type": "code",
   "execution_count": 29,
   "id": "c7f2cc0b",
   "metadata": {},
   "outputs": [
    {
     "name": "stdout",
     "output_type": "stream",
     "text": [
      "tmpxsa639wo.svg\n"
     ]
    },
    {
     "data": {
      "text/html": [
       "<img src='tmpxsa639wo.svg' width=400>"
      ],
      "text/plain": [
       "<IPython.core.display.HTML object>"
      ]
     },
     "metadata": {},
     "output_type": "display_data"
    }
   ],
   "source": [
    "momapy.styling.apply_style_sheet(m1_builder.layout, momapy.sbgn.styling.shadows)\n",
    "display(m1_builder)"
   ]
  },
  {
   "cell_type": "code",
   "execution_count": 30,
   "id": "d2d5e5a2",
   "metadata": {
    "scrolled": true
   },
   "outputs": [
    {
     "name": "stdout",
     "output_type": "stream",
     "text": [
      "tmpe8r2evfd.svg\n"
     ]
    },
    {
     "data": {
      "text/html": [
       "<img src='tmpe8r2evfd.svg' width=400>"
      ],
      "text/plain": [
       "<IPython.core.display.HTML object>"
      ]
     },
     "metadata": {},
     "output_type": "display_data"
    }
   ],
   "source": [
    "momapy.styling.apply_style_sheet(m1_builder.layout, momapy.sbgn.styling.newt)\n",
    "display(m1_builder)"
   ]
  },
  {
   "cell_type": "code",
   "execution_count": 31,
   "id": "b663a866",
   "metadata": {},
   "outputs": [
    {
     "name": "stdout",
     "output_type": "stream",
     "text": [
      "tmpclk7yc3b.svg\n"
     ]
    },
    {
     "data": {
      "text/html": [
       "<img src='tmpclk7yc3b.svg' width=400>"
      ],
      "text/plain": [
       "<IPython.core.display.HTML object>"
      ]
     },
     "metadata": {},
     "output_type": "display_data"
    }
   ],
   "source": [
    "momapy.sbgn.utils.set_auxilliary_units_to_borders(m1_builder)\n",
    "momapy.sbgn.utils.set_arcs_to_borders(m1_builder)\n",
    "display(m1_builder)"
   ]
  },
  {
   "cell_type": "code",
   "execution_count": 32,
   "id": "a4f1b82c",
   "metadata": {},
   "outputs": [
    {
     "name": "stdout",
     "output_type": "stream",
     "text": [
      "tmpe7phfg32.svg\n"
     ]
    },
    {
     "data": {
      "text/html": [
       "<img src='tmpe7phfg32.svg' width=400>"
      ],
      "text/plain": [
       "<IPython.core.display.HTML object>"
      ]
     },
     "metadata": {},
     "output_type": "display_data"
    }
   ],
   "source": [
    "momapy.styling.apply_style_sheet(m1_builder.layout, momapy.sbgn.styling.vanted)\n",
    "display(m1_builder)"
   ]
  },
  {
   "cell_type": "code",
   "execution_count": 33,
   "id": "490aca74",
   "metadata": {},
   "outputs": [
    {
     "name": "stdout",
     "output_type": "stream",
     "text": [
      "tmpqrdojarw.svg\n"
     ]
    },
    {
     "data": {
      "text/html": [
       "<img src='tmpqrdojarw.svg' width=400>"
      ],
      "text/plain": [
       "<IPython.core.display.HTML object>"
      ]
     },
     "metadata": {},
     "output_type": "display_data"
    }
   ],
   "source": [
    "momapy.sbgn.utils.set_auxilliary_units_to_borders(m1_builder)\n",
    "momapy.sbgn.utils.set_arcs_to_borders(m1_builder)\n",
    "display(m1_builder)"
   ]
  },
  {
   "cell_type": "code",
   "execution_count": 34,
   "id": "59986209",
   "metadata": {},
   "outputs": [
    {
     "name": "stdout",
     "output_type": "stream",
     "text": [
      "tmpnm3d4x__.svg\n"
     ]
    },
    {
     "data": {
      "text/html": [
       "<img src='tmpnm3d4x__.svg' width=400>"
      ],
      "text/plain": [
       "<IPython.core.display.HTML object>"
      ]
     },
     "metadata": {},
     "output_type": "display_data"
    }
   ],
   "source": [
    "with open(\"my_style_sheet.css\", \"w\") as f:\n",
    "    f.write(\n",
    "        \"\"\"\n",
    "        MacromoleculeLayout {\n",
    "            stroke_width: 3;\n",
    "            fill: red;\n",
    "        }\n",
    "    \n",
    "        StateVariableLayout > TextLayout {\n",
    "            font_color: green;\n",
    "        }\n",
    "        \"\"\"\n",
    "    )\n",
    "my_style_sheet = momapy.styling.read_file(\"my_style_sheet.css\")\n",
    "momapy.styling.apply_style_sheet(m1_builder.layout, my_style_sheet)\n",
    "display(m1_builder)"
   ]
  },
  {
   "cell_type": "code",
   "execution_count": 35,
   "id": "0e88de69",
   "metadata": {},
   "outputs": [],
   "source": [
    "cleanup()"
   ]
  }
 ],
 "metadata": {
  "kernelspec": {
   "display_name": "my-virtualenv-name",
   "language": "python",
   "name": "my-virtualenv-name"
  },
  "language_info": {
   "codemirror_mode": {
    "name": "ipython",
    "version": 3
   },
   "file_extension": ".py",
   "mimetype": "text/x-python",
   "name": "python",
   "nbconvert_exporter": "python",
   "pygments_lexer": "ipython3",
   "version": "3.10.8"
  }
 },
 "nbformat": 4,
 "nbformat_minor": 5
}
