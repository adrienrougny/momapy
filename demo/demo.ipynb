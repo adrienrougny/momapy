{
 "cells": [
  {
   "cell_type": "code",
   "execution_count": 1,
   "id": "982bdf8c",
   "metadata": {},
   "outputs": [],
   "source": [
    "import IPython.display\n",
    "import tempfile\n",
    "import os\n",
    "import time"
   ]
  },
  {
   "cell_type": "code",
   "execution_count": 2,
   "id": "71b516ba",
   "metadata": {},
   "outputs": [],
   "source": [
    "import momapy.sbgn.io\n",
    "import momapy.sbgn.styling\n",
    "import momapy.sbgn.utils\n",
    "import momapy.rendering\n",
    "import momapy.builder\n",
    "import momapy.coloring\n",
    "import momapy.styling"
   ]
  },
  {
   "cell_type": "code",
   "execution_count": 3,
   "id": "7f00e3d3",
   "metadata": {},
   "outputs": [],
   "source": [
    "filenames = []\n",
    "def display(map_, width=400):\n",
    "    if momapy.builder.isinstance_or_builder(map_, (momapy.core.Map, momapy.core.LayoutElement)):\n",
    "        f, filename = tempfile.mkstemp(dir=\".\", suffix=\".svg\")\n",
    "        if momapy.builder.isinstance_or_builder(map_, (momapy.core.LayoutElement)):\n",
    "            map_layout = momapy.core.MapLayoutBuilder()\n",
    "            map_layout.add_element(map_)\n",
    "            momapy.positioning.set_fit(map_layout, map_layout.layout_elements, xsep=10, ysep=10)\n",
    "            map_ = momapy.sbgn.pd.SBGNPDMapBuilder(layout=map_layout)\n",
    "        momapy.rendering.render_map(map_, filename, renderer=\"svg-native\", to_top_left=True)\n",
    "    else:\n",
    "        filename = map_\n",
    "    print(os.path.split(filename)[-1])\n",
    "    s = \"<img src='{}' width={}>\".format(os.path.split(filename)[-1], width)\n",
    "    IPython.display.display(IPython.display.HTML(s))\n",
    "    filenames.append(filename)\n",
    "    \n",
    "def cleanup():\n",
    "    time.sleep(2)\n",
    "    for filename in filenames:\n",
    "        os.remove(filename)"
   ]
  },
  {
   "cell_type": "code",
   "execution_count": 4,
   "id": "ea8c9f24",
   "metadata": {},
   "outputs": [
    {
     "name": "stdout",
     "output_type": "stream",
     "text": [
      "tmpawe_7tvx.svg\n"
     ]
    },
    {
     "data": {
      "text/html": [
       "<img src='tmpawe_7tvx.svg' width=400>"
      ],
      "text/plain": [
       "<IPython.core.display.HTML object>"
      ]
     },
     "metadata": {},
     "output_type": "display_data"
    }
   ],
   "source": [
    "m1 = momapy.sbgn.io.read_file(\"phospho1.sbgn\")\n",
    "display(m1, 400)"
   ]
  },
  {
   "cell_type": "code",
   "execution_count": 5,
   "id": "a5dada7f",
   "metadata": {},
   "outputs": [
    {
     "name": "stdout",
     "output_type": "stream",
     "text": [
      "tmpajuoxe7b.svg\n"
     ]
    },
    {
     "data": {
      "text/html": [
       "<img src='tmpajuoxe7b.svg' width=300>"
      ],
      "text/plain": [
       "<IPython.core.display.HTML object>"
      ]
     },
     "metadata": {},
     "output_type": "display_data"
    }
   ],
   "source": [
    "m2 = momapy.sbgn.io.read_file(\"phospho2.sbgn\")\n",
    "display(m2, 300)"
   ]
  },
  {
   "cell_type": "code",
   "execution_count": 6,
   "id": "3d25a5b8",
   "metadata": {},
   "outputs": [
    {
     "data": {
      "text/plain": [
       "False"
      ]
     },
     "execution_count": 6,
     "metadata": {},
     "output_type": "execute_result"
    }
   ],
   "source": [
    "m1 == m2"
   ]
  },
  {
   "cell_type": "code",
   "execution_count": 7,
   "id": "7d0155e8",
   "metadata": {},
   "outputs": [
    {
     "data": {
      "text/plain": [
       "False"
      ]
     },
     "execution_count": 7,
     "metadata": {},
     "output_type": "execute_result"
    }
   ],
   "source": [
    "m1.layout == m2.layout"
   ]
  },
  {
   "cell_type": "code",
   "execution_count": 8,
   "id": "f2b75b47",
   "metadata": {},
   "outputs": [
    {
     "data": {
      "text/plain": [
       "True"
      ]
     },
     "execution_count": 8,
     "metadata": {},
     "output_type": "execute_result"
    }
   ],
   "source": [
    "m1.model == m2.model"
   ]
  },
  {
   "cell_type": "code",
   "execution_count": 9,
   "id": "29cc2990",
   "metadata": {},
   "outputs": [
    {
     "name": "stdout",
     "output_type": "stream",
     "text": [
      "cannot assign to field 'stroke'\n"
     ]
    }
   ],
   "source": [
    "try:\n",
    "    m1.layout.stroke = momapy.coloring.colors.red\n",
    "except Exception as e:\n",
    "    print(e)"
   ]
  },
  {
   "cell_type": "code",
   "execution_count": 10,
   "id": "7853cd79",
   "metadata": {},
   "outputs": [],
   "source": [
    "m1_builder = momapy.builder.builder_from_object(m1)"
   ]
  },
  {
   "cell_type": "code",
   "execution_count": 11,
   "id": "d573efa2",
   "metadata": {},
   "outputs": [
    {
     "name": "stdout",
     "output_type": "stream",
     "text": [
      "tmp16rbrogj.svg\n"
     ]
    },
    {
     "data": {
      "text/html": [
       "<img src='tmp16rbrogj.svg' width=400>"
      ],
      "text/plain": [
       "<IPython.core.display.HTML object>"
      ]
     },
     "metadata": {},
     "output_type": "display_data"
    }
   ],
   "source": [
    "m1_builder.layout.stroke = momapy.coloring.colors.red\n",
    "m1_builder.layout.stroke_width = 3\n",
    "display(m1_builder, 400)"
   ]
  },
  {
   "cell_type": "code",
   "execution_count": 12,
   "id": "fc9e18cb",
   "metadata": {},
   "outputs": [],
   "source": [
    "m1_builder = momapy.sbgn.io.read_file(\"phospho1.sbgn\", return_builder=True)"
   ]
  },
  {
   "cell_type": "code",
   "execution_count": 13,
   "id": "280c61c8",
   "metadata": {
    "scrolled": false
   },
   "outputs": [
    {
     "name": "stdout",
     "output_type": "stream",
     "text": [
      "tmpobkv8r26.svg\n"
     ]
    },
    {
     "data": {
      "text/html": [
       "<img src='tmpobkv8r26.svg' width=400>"
      ],
      "text/plain": [
       "<IPython.core.display.HTML object>"
      ]
     },
     "metadata": {},
     "output_type": "display_data"
    }
   ],
   "source": [
    "m1_builder.layout.stroke = momapy.coloring.colors.red\n",
    "m1_builder.layout.stroke_width = 3\n",
    "display(m1_builder, 400)"
   ]
  },
  {
   "cell_type": "code",
   "execution_count": 14,
   "id": "fe7233ab",
   "metadata": {},
   "outputs": [
    {
     "data": {
      "text/plain": [
       "True"
      ]
     },
     "execution_count": 14,
     "metadata": {},
     "output_type": "execute_result"
    }
   ],
   "source": [
    "m1 = momapy.sbgn.io.read_file(\"phospho1.sbgn\")\n",
    "m1_builder = momapy.builder.builder_from_object(m1)\n",
    "m1 == m1_builder.build()"
   ]
  },
  {
   "cell_type": "markdown",
   "id": "d3522844",
   "metadata": {},
   "source": [
    "### So what is the purpose of the non builder object?"
   ]
  },
  {
   "cell_type": "code",
   "execution_count": 15,
   "id": "026c3693",
   "metadata": {},
   "outputs": [
    {
     "data": {
      "text/plain": [
       "False"
      ]
     },
     "execution_count": 15,
     "metadata": {},
     "output_type": "execute_result"
    }
   ],
   "source": [
    "m1a_builder = momapy.sbgn.io.read_file(\"phospho1.sbgn\", return_builder=True)\n",
    "m1b_builder = momapy.sbgn.io.read_file(\"phospho1.sbgn\", return_builder=True)\n",
    "m1a_builder == m1b_builder"
   ]
  },
  {
   "cell_type": "code",
   "execution_count": 16,
   "id": "522d6429",
   "metadata": {},
   "outputs": [
    {
     "data": {
      "text/plain": [
       "True"
      ]
     },
     "execution_count": 16,
     "metadata": {},
     "output_type": "execute_result"
    }
   ],
   "source": [
    "m1a = m1a_builder.build()\n",
    "m1b = m1b_builder.build()\n",
    "m1a == m1b"
   ]
  },
  {
   "cell_type": "code",
   "execution_count": 17,
   "id": "cb860b1b",
   "metadata": {},
   "outputs": [],
   "source": [
    "m1_builder = momapy.sbgn.io.read_file(\"phospho1.sbgn\", return_builder=True)\n",
    "m1_builder.layout.stroke_width = 3\n",
    "m1_builder.layout.stroke = momapy.coloring.colors.red\n",
    "m1 = m1_builder.build()"
   ]
  },
  {
   "cell_type": "code",
   "execution_count": 18,
   "id": "6e9c7832",
   "metadata": {},
   "outputs": [],
   "source": [
    "s = set([])\n",
    "for i in range(256):\n",
    "    for j in range(0):\n",
    "            m1_builder.layout.stroke = momapy.coloring.rgba(i, j, 0, 1.0)\n",
    "            s.add(m1_builder.build())\n",
    "l = list(s)"
   ]
  },
  {
   "cell_type": "code",
   "execution_count": 19,
   "id": "c1a698dc",
   "metadata": {
    "scrolled": true
   },
   "outputs": [
    {
     "name": "stdout",
     "output_type": "stream",
     "text": [
      "CPU times: user 130 µs, sys: 48 µs, total: 178 µs\n",
      "Wall time: 184 µs\n"
     ]
    },
    {
     "data": {
      "text/plain": [
       "False"
      ]
     },
     "execution_count": 19,
     "metadata": {},
     "output_type": "execute_result"
    }
   ],
   "source": [
    "%%time\n",
    "m1 in s"
   ]
  },
  {
   "cell_type": "code",
   "execution_count": 20,
   "id": "9b263331",
   "metadata": {
    "scrolled": true
   },
   "outputs": [
    {
     "name": "stdout",
     "output_type": "stream",
     "text": [
      "CPU times: user 5 µs, sys: 2 µs, total: 7 µs\n",
      "Wall time: 12.4 µs\n"
     ]
    },
    {
     "data": {
      "text/plain": [
       "False"
      ]
     },
     "execution_count": 20,
     "metadata": {},
     "output_type": "execute_result"
    }
   ],
   "source": [
    "%%time\n",
    "m1 in l"
   ]
  },
  {
   "cell_type": "markdown",
   "id": "aa954c24",
   "metadata": {},
   "source": [
    "### Submap"
   ]
  },
  {
   "cell_type": "code",
   "execution_count": 21,
   "id": "8063a1c2",
   "metadata": {},
   "outputs": [
    {
     "name": "stdout",
     "output_type": "stream",
     "text": [
      "tmpv0vvkc7h.svg\n"
     ]
    },
    {
     "data": {
      "text/html": [
       "<img src='tmpv0vvkc7h.svg' width=400>"
      ],
      "text/plain": [
       "<IPython.core.display.HTML object>"
      ]
     },
     "metadata": {},
     "output_type": "display_data"
    }
   ],
   "source": [
    "m1_builder = momapy.sbgn.io.read_file(\"phospho1comp.sbgn\", return_builder=True)\n",
    "m1 = m1_builder.build()\n",
    "display(m1)"
   ]
  },
  {
   "cell_type": "code",
   "execution_count": 22,
   "id": "3eca53b7",
   "metadata": {},
   "outputs": [
    {
     "name": "stdout",
     "output_type": "stream",
     "text": [
      "tmp3t78ra5e.svg\n"
     ]
    },
    {
     "data": {
      "text/html": [
       "<img src='tmp3t78ra5e.svg' width=400>"
      ],
      "text/plain": [
       "<IPython.core.display.HTML object>"
      ]
     },
     "metadata": {},
     "output_type": "display_data"
    }
   ],
   "source": [
    "m2_builder = momapy.sbgn.io.read_file(\"phospho1.sbgn\", return_builder=True)\n",
    "m2_builder.layout.position = m1_builder.layout.position\n",
    "m2_builder.layout.width = m1_builder.layout.width\n",
    "m2_builder.layout.height = m1_builder.layout.height\n",
    "m2 = m2_builder.build()\n",
    "display(m2)"
   ]
  },
  {
   "cell_type": "code",
   "execution_count": 23,
   "id": "8e1ec24f",
   "metadata": {},
   "outputs": [
    {
     "data": {
      "text/plain": [
       "False"
      ]
     },
     "execution_count": 23,
     "metadata": {},
     "output_type": "execute_result"
    }
   ],
   "source": [
    "m1.is_submap(m2)"
   ]
  },
  {
   "cell_type": "code",
   "execution_count": 24,
   "id": "5e6e6c34",
   "metadata": {},
   "outputs": [
    {
     "data": {
      "text/plain": [
       "True"
      ]
     },
     "execution_count": 24,
     "metadata": {},
     "output_type": "execute_result"
    }
   ],
   "source": [
    "m1.layout.is_sublayout(m2.layout)"
   ]
  },
  {
   "cell_type": "code",
   "execution_count": 25,
   "id": "8b89a940",
   "metadata": {},
   "outputs": [
    {
     "data": {
      "text/plain": [
       "False"
      ]
     },
     "execution_count": 25,
     "metadata": {},
     "output_type": "execute_result"
    }
   ],
   "source": [
    "m1.model.is_submodel(m2.model)"
   ]
  },
  {
   "cell_type": "markdown",
   "id": "c1477a0f",
   "metadata": {},
   "source": [
    "### Styling"
   ]
  },
  {
   "cell_type": "code",
   "execution_count": 26,
   "id": "e0fdb4dc",
   "metadata": {},
   "outputs": [],
   "source": [
    "m1_builder = momapy.sbgn.io.read_file(\"phospho1.sbgn\", return_builder=True)\n",
    "momapy.sbgn.utils.set_layout_to_fit_content(m1_builder, xsep=10, ysep=10)"
   ]
  },
  {
   "cell_type": "code",
   "execution_count": 27,
   "id": "a669fefe",
   "metadata": {
    "scrolled": false
   },
   "outputs": [
    {
     "name": "stdout",
     "output_type": "stream",
     "text": [
      "tmp57zg5lgj.svg\n"
     ]
    },
    {
     "data": {
      "text/html": [
       "<img src='tmp57zg5lgj.svg' width=400>"
      ],
      "text/plain": [
       "<IPython.core.display.HTML object>"
      ]
     },
     "metadata": {},
     "output_type": "display_data"
    }
   ],
   "source": [
    "display(m1_builder)"
   ]
  },
  {
   "cell_type": "code",
   "execution_count": 28,
   "id": "f0e98f2e",
   "metadata": {
    "scrolled": true
   },
   "outputs": [
    {
     "name": "stdout",
     "output_type": "stream",
     "text": [
      "tmpfkbopg9g.svg\n"
     ]
    },
    {
     "data": {
      "text/html": [
       "<img src='tmpfkbopg9g.svg' width=400>"
      ],
      "text/plain": [
       "<IPython.core.display.HTML object>"
      ]
     },
     "metadata": {},
     "output_type": "display_data"
    }
   ],
   "source": [
    "momapy.styling.apply_style_sheet(m1_builder.layout, momapy.sbgn.styling.default_colorscheme)\n",
    "display(m1_builder)"
   ]
  },
  {
   "cell_type": "code",
   "execution_count": 29,
   "id": "1f50fe4e",
   "metadata": {},
   "outputs": [
    {
     "name": "stdout",
     "output_type": "stream",
     "text": [
      "tmpdplikfbn.svg\n"
     ]
    },
    {
     "data": {
      "text/html": [
       "<img src='tmpdplikfbn.svg' width=400>"
      ],
      "text/plain": [
       "<IPython.core.display.HTML object>"
      ]
     },
     "metadata": {},
     "output_type": "display_data"
    }
   ],
   "source": [
    "momapy.styling.apply_style_sheet(m1_builder.layout, momapy.sbgn.styling.shadows)\n",
    "display(m1_builder)"
   ]
  },
  {
   "cell_type": "code",
   "execution_count": 30,
   "id": "2c98cc62",
   "metadata": {
    "scrolled": true
   },
   "outputs": [
    {
     "name": "stdout",
     "output_type": "stream",
     "text": [
      "tmpqivl128t.svg\n"
     ]
    },
    {
     "data": {
      "text/html": [
       "<img src='tmpqivl128t.svg' width=400>"
      ],
      "text/plain": [
       "<IPython.core.display.HTML object>"
      ]
     },
     "metadata": {},
     "output_type": "display_data"
    }
   ],
   "source": [
    "momapy.styling.apply_style_sheet(m1_builder.layout, momapy.sbgn.styling.newt)\n",
    "display(m1_builder)"
   ]
  },
  {
   "cell_type": "code",
   "execution_count": 31,
   "id": "c20640fb",
   "metadata": {},
   "outputs": [
    {
     "name": "stdout",
     "output_type": "stream",
     "text": [
      "tmpibjmghiq.svg\n"
     ]
    },
    {
     "data": {
      "text/html": [
       "<img src='tmpibjmghiq.svg' width=400>"
      ],
      "text/plain": [
       "<IPython.core.display.HTML object>"
      ]
     },
     "metadata": {},
     "output_type": "display_data"
    }
   ],
   "source": [
    "momapy.sbgn.utils.set_auxilliary_units_to_borders(m1_builder)\n",
    "momapy.sbgn.utils.set_arcs_to_borders(m1_builder)\n",
    "display(m1_builder)"
   ]
  },
  {
   "cell_type": "code",
   "execution_count": 32,
   "id": "d3259bec",
   "metadata": {},
   "outputs": [
    {
     "name": "stdout",
     "output_type": "stream",
     "text": [
      "tmpn36jv1y5.svg\n"
     ]
    },
    {
     "data": {
      "text/html": [
       "<img src='tmpn36jv1y5.svg' width=400>"
      ],
      "text/plain": [
       "<IPython.core.display.HTML object>"
      ]
     },
     "metadata": {},
     "output_type": "display_data"
    }
   ],
   "source": [
    "momapy.styling.apply_style_sheet(m1_builder.layout, momapy.sbgn.styling.vanted)\n",
    "display(m1_builder)"
   ]
  },
  {
   "cell_type": "code",
   "execution_count": 33,
   "id": "da29901e",
   "metadata": {},
   "outputs": [
    {
     "name": "stdout",
     "output_type": "stream",
     "text": [
      "tmp0zjp4d42.svg\n"
     ]
    },
    {
     "data": {
      "text/html": [
       "<img src='tmp0zjp4d42.svg' width=400>"
      ],
      "text/plain": [
       "<IPython.core.display.HTML object>"
      ]
     },
     "metadata": {},
     "output_type": "display_data"
    }
   ],
   "source": [
    "momapy.sbgn.utils.set_auxilliary_units_to_borders(m1_builder)\n",
    "momapy.sbgn.utils.set_arcs_to_borders(m1_builder)\n",
    "display(m1_builder)"
   ]
  },
  {
   "cell_type": "code",
   "execution_count": 34,
   "id": "59986209",
   "metadata": {},
   "outputs": [
    {
     "name": "stdout",
     "output_type": "stream",
     "text": [
      "tmp5q2ixsx1.svg\n"
     ]
    },
    {
     "data": {
      "text/html": [
       "<img src='tmp5q2ixsx1.svg' width=400>"
      ],
      "text/plain": [
       "<IPython.core.display.HTML object>"
      ]
     },
     "metadata": {},
     "output_type": "display_data"
    }
   ],
   "source": [
    "with open(\"my_style_sheet.css\", \"w\") as f:\n",
    "    f.write(\n",
    "        \"\"\"\n",
    "        MacromoleculeLayout {\n",
    "            stroke_width: 3;\n",
    "            fill: red;\n",
    "        }\n",
    "    \n",
    "        StateVariableLayout > TextLayout {\n",
    "            font_color: green;\n",
    "        }\n",
    "        \"\"\"\n",
    "    )\n",
    "my_style_sheet = momapy.styling.read_file(\"my_style_sheet.css\")\n",
    "momapy.styling.apply_style_sheet(m1_builder.layout, my_style_sheet)\n",
    "display(m1_builder)"
   ]
  },
  {
   "cell_type": "code",
   "execution_count": 35,
   "id": "131d51f6",
   "metadata": {
    "scrolled": false
   },
   "outputs": [
    {
     "name": "stdout",
     "output_type": "stream",
     "text": [
      "tmptrgkr1j4.svg\n"
     ]
    },
    {
     "data": {
      "text/html": [
       "<img src='tmptrgkr1j4.svg' width=400>"
      ],
      "text/plain": [
       "<IPython.core.display.HTML object>"
      ]
     },
     "metadata": {},
     "output_type": "display_data"
    }
   ],
   "source": [
    "macromolecule_builder = momapy.builder.get_or_make_builder_cls(momapy.sbgn.pd.MacromoleculeMultimerLayout)()\n",
    "macromolecule_builder.offset = 10.0\n",
    "macromolecule_builder.position = momapy.geometry.Point(200, 200)\n",
    "macromolecule_builder.width = 200.0\n",
    "macromolecule_builder.height = 100.0\n",
    "macromolecule_builder.stroke_width = 2.0\n",
    "macromolecule_builder.stroke = momapy.coloring.colors.black\n",
    "display(macromolecule_builder)"
   ]
  },
  {
   "cell_type": "code",
   "execution_count": 36,
   "id": "6c68d695",
   "metadata": {},
   "outputs": [
    {
     "name": "stdout",
     "output_type": "stream",
     "text": [
      "tmpsyrczv1l.svg\n"
     ]
    },
    {
     "data": {
      "text/html": [
       "<img src='tmpsyrczv1l.svg' width=400>"
      ],
      "text/plain": [
       "<IPython.core.display.HTML object>"
      ]
     },
     "metadata": {},
     "output_type": "display_data"
    }
   ],
   "source": [
    "for anchor in [\"north_west\", \"north\", \"north_east\", \"east\", \"south_east\", \"south\", \"south_west\", \"west\", \"center\", \"label_center\"]:\n",
    "    cross = momapy.builder.get_or_make_builder_cls(momapy.shapes.CrossPoint)()\n",
    "    cross.width = 10.0\n",
    "    cross.height = 10.0\n",
    "    cross.position = getattr(macromolecule_builder, anchor)()\n",
    "    cross.stroke_width = 2.0\n",
    "    cross.stroke = momapy.coloring.colors.green\n",
    "    label = momapy.builder.get_or_make_builder_cls(momapy.core.TextLayout)()\n",
    "    label.text=anchor\n",
    "    label.font_family = \"Arial\"\n",
    "    label.font_size = 10.0\n",
    "    momapy.positioning.set_above_right_of(label, cross, 7, anchor=\"west\")\n",
    "    cross.label = label\n",
    "    macromolecule_builder.add_element(cross)\n",
    "display(macromolecule_builder)"
   ]
  },
  {
   "cell_type": "code",
   "execution_count": 37,
   "id": "09abdaf7",
   "metadata": {},
   "outputs": [
    {
     "name": "stdout",
     "output_type": "stream",
     "text": [
      "tmpvbv8ruia.svg\n"
     ]
    },
    {
     "data": {
      "text/html": [
       "<img src='tmpvbv8ruia.svg' width=400>"
      ],
      "text/plain": [
       "<IPython.core.display.HTML object>"
      ]
     },
     "metadata": {},
     "output_type": "display_data"
    }
   ],
   "source": [
    "macromolecule_builder.layout_elements.clear()\n",
    "for angle in range(0, 360, 15):\n",
    "    cross = momapy.builder.get_or_make_builder_cls(momapy.shapes.CrossPoint)()\n",
    "    cross.width = 10.0\n",
    "    cross.height = 10.0\n",
    "    cross.position = macromolecule_builder.self_angle(angle)\n",
    "    cross.stroke_width = 2.0\n",
    "    cross.stroke = momapy.coloring.colors.green\n",
    "    label = momapy.builder.get_or_make_builder_cls(momapy.core.TextLayout)()\n",
    "    label.text=str(angle)\n",
    "    label.font_family = \"Arial\"\n",
    "    label.font_size = 10.0\n",
    "    momapy.positioning.set_above_right_of(label, cross, 7, anchor=\"west\")\n",
    "    cross.label = label\n",
    "    macromolecule_builder.add_element(cross)\n",
    "display(macromolecule_builder)"
   ]
  }
 ],
 "metadata": {
  "kernelspec": {
   "display_name": "my-virtualenv-name",
   "language": "python",
   "name": "my-virtualenv-name"
  },
  "language_info": {
   "codemirror_mode": {
    "name": "ipython",
    "version": 3
   },
   "file_extension": ".py",
   "mimetype": "text/x-python",
   "name": "python",
   "nbconvert_exporter": "python",
   "pygments_lexer": "ipython3",
   "version": "3.10.8"
  }
 },
 "nbformat": 4,
 "nbformat_minor": 5
}
