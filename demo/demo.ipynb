{
 "cells": [
  {
   "cell_type": "code",
   "execution_count": 1,
   "id": "982bdf8c",
   "metadata": {},
   "outputs": [],
   "source": [
    "import IPython.display\n",
    "import tempfile\n",
    "import os"
   ]
  },
  {
   "cell_type": "code",
   "execution_count": 2,
   "id": "71b516ba",
   "metadata": {},
   "outputs": [],
   "source": [
    "import momapy.sbgn.io\n",
    "import momapy.rendering\n",
    "import momapy.builder\n",
    "import momapy.coloring"
   ]
  },
  {
   "cell_type": "code",
   "execution_count": 3,
   "id": "7f00e3d3",
   "metadata": {},
   "outputs": [],
   "source": [
    "def display(map_, width=400):\n",
    "    f, filename = tempfile.mkstemp(dir=\".\", suffix=\".svg\")\n",
    "    momapy.rendering.render_map(map_, filename, renderer=\"svg-native\")\n",
    "    s = \"<img src='{}' width={}>\".format(os.path.split(filename)[-1], width)\n",
    "    IPython.display.display(IPython.display.HTML(s))"
   ]
  },
  {
   "cell_type": "code",
   "execution_count": 4,
   "id": "ea8c9f24",
   "metadata": {},
   "outputs": [
    {
     "data": {
      "text/html": [
       "<img src='tmph2hxvt3g.svg' width=400>"
      ],
      "text/plain": [
       "<IPython.core.display.HTML object>"
      ]
     },
     "metadata": {},
     "output_type": "display_data"
    }
   ],
   "source": [
    "m1 = momapy.sbgn.io.read_file(\"phospho1.sbgn\")\n",
    "display(m1, 400)"
   ]
  },
  {
   "cell_type": "code",
   "execution_count": 5,
   "id": "a5dada7f",
   "metadata": {},
   "outputs": [
    {
     "data": {
      "text/html": [
       "<img src='tmp3njakjf2.svg' width=300>"
      ],
      "text/plain": [
       "<IPython.core.display.HTML object>"
      ]
     },
     "metadata": {},
     "output_type": "display_data"
    }
   ],
   "source": [
    "m2 = momapy.sbgn.io.read_file(\"phospho2.sbgn\")\n",
    "display(m2, 300)"
   ]
  },
  {
   "cell_type": "code",
   "execution_count": 6,
   "id": "3d25a5b8",
   "metadata": {},
   "outputs": [
    {
     "data": {
      "text/plain": [
       "False"
      ]
     },
     "execution_count": 6,
     "metadata": {},
     "output_type": "execute_result"
    }
   ],
   "source": [
    "m1 == m2"
   ]
  },
  {
   "cell_type": "code",
   "execution_count": 7,
   "id": "7d0155e8",
   "metadata": {},
   "outputs": [
    {
     "data": {
      "text/plain": [
       "False"
      ]
     },
     "execution_count": 7,
     "metadata": {},
     "output_type": "execute_result"
    }
   ],
   "source": [
    "m1.layout == m2.layout"
   ]
  },
  {
   "cell_type": "code",
   "execution_count": 8,
   "id": "f2b75b47",
   "metadata": {},
   "outputs": [
    {
     "data": {
      "text/plain": [
       "True"
      ]
     },
     "execution_count": 8,
     "metadata": {},
     "output_type": "execute_result"
    }
   ],
   "source": [
    "m1.model == m2.model"
   ]
  },
  {
   "cell_type": "code",
   "execution_count": 9,
   "id": "29cc2990",
   "metadata": {},
   "outputs": [
    {
     "name": "stdout",
     "output_type": "stream",
     "text": [
      "cannot assign to field 'stroke'\n"
     ]
    }
   ],
   "source": [
    "try:\n",
    "    m1.layout.stroke = momapy.coloring.colors.red\n",
    "except Exception as e:\n",
    "    print(e)"
   ]
  },
  {
   "cell_type": "code",
   "execution_count": 10,
   "id": "7853cd79",
   "metadata": {},
   "outputs": [],
   "source": [
    "m1_builder = momapy.builder.builder_from_object(m1)"
   ]
  },
  {
   "cell_type": "code",
   "execution_count": 11,
   "id": "d573efa2",
   "metadata": {},
   "outputs": [
    {
     "data": {
      "text/html": [
       "<img src='tmph7_3h4me.svg' width=400>"
      ],
      "text/plain": [
       "<IPython.core.display.HTML object>"
      ]
     },
     "metadata": {},
     "output_type": "display_data"
    }
   ],
   "source": [
    "m1_builder.layout.stroke = momapy.coloring.colors.red\n",
    "m1_builder.layout.stroke_width = 2\n",
    "display(m1_builder, 400)"
   ]
  },
  {
   "cell_type": "code",
   "execution_count": 12,
   "id": "fc9e18cb",
   "metadata": {},
   "outputs": [],
   "source": [
    "m1_builder = momapy.sbgn.io.read_file(\"phospho1.sbgn\", return_builder=True)"
   ]
  },
  {
   "cell_type": "code",
   "execution_count": 13,
   "id": "280c61c8",
   "metadata": {
    "scrolled": false
   },
   "outputs": [
    {
     "data": {
      "text/html": [
       "<img src='tmpx2zhd0j2.svg' width=400>"
      ],
      "text/plain": [
       "<IPython.core.display.HTML object>"
      ]
     },
     "metadata": {},
     "output_type": "display_data"
    }
   ],
   "source": [
    "m1_builder.layout.stroke = momapy.coloring.colors.red\n",
    "m1_builder.layout.stroke_width = 2\n",
    "display(m1_builder, 400)"
   ]
  },
  {
   "cell_type": "markdown",
   "id": "d3522844",
   "metadata": {},
   "source": [
    "### So what is the purpose of the non builder object?"
   ]
  },
  {
   "cell_type": "code",
   "execution_count": 14,
   "id": "026c3693",
   "metadata": {},
   "outputs": [
    {
     "data": {
      "text/plain": [
       "False"
      ]
     },
     "execution_count": 14,
     "metadata": {},
     "output_type": "execute_result"
    }
   ],
   "source": [
    "m1a_builder = momapy.sbgn.io.read_file(\"phospho1.sbgn\", return_builder=True)\n",
    "m1b_builder = momapy.sbgn.io.read_file(\"phospho1.sbgn\", return_builder=True)\n",
    "m1a_builder == m1b_builder"
   ]
  },
  {
   "cell_type": "code",
   "execution_count": 15,
   "id": "522d6429",
   "metadata": {},
   "outputs": [
    {
     "data": {
      "text/plain": [
       "True"
      ]
     },
     "execution_count": 15,
     "metadata": {},
     "output_type": "execute_result"
    }
   ],
   "source": [
    "m1a = m1a_builder.build()\n",
    "m1b = m1b_builder.build()\n",
    "m1a == m1b"
   ]
  },
  {
   "cell_type": "code",
   "execution_count": null,
   "id": "6e9c7832",
   "metadata": {},
   "outputs": [],
   "source": [
    "s = set([])\n",
    "for i in range(0, 255):\n",
    "    for j in range(0, 255):\n",
    "        for k in range(0, 255):\n",
    "            m1a_builder.layout.stroke = momapy.coloring.rgb(i, j, k)\n",
    "            s.add(m1a_builder.build())"
   ]
  },
  {
   "cell_type": "code",
   "execution_count": null,
   "id": "c1a698dc",
   "metadata": {},
   "outputs": [],
   "source": [
    "m1a in s"
   ]
  },
  {
   "cell_type": "code",
   "execution_count": null,
   "id": "ced4740e",
   "metadata": {},
   "outputs": [],
   "source": []
  }
 ],
 "metadata": {
  "kernelspec": {
   "display_name": "my-virtualenv-name",
   "language": "python",
   "name": "my-virtualenv-name"
  },
  "language_info": {
   "codemirror_mode": {
    "name": "ipython",
    "version": 3
   },
   "file_extension": ".py",
   "mimetype": "text/x-python",
   "name": "python",
   "nbconvert_exporter": "python",
   "pygments_lexer": "ipython3",
   "version": "3.10.8"
  }
 },
 "nbformat": 4,
 "nbformat_minor": 5
}
