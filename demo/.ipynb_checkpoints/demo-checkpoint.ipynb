{
 "cells": [
  {
   "cell_type": "code",
   "execution_count": 1,
   "id": "982bdf8c",
   "metadata": {},
   "outputs": [],
   "source": [
    "import IPython.display "
   ]
  },
  {
   "cell_type": "code",
   "execution_count": 2,
   "id": "71b516ba",
   "metadata": {},
   "outputs": [],
   "source": [
    "import momapy.sbgn.io\n",
    "import momapy.rendering"
   ]
  },
  {
   "cell_type": "code",
   "execution_count": 3,
   "id": "ea8c9f24",
   "metadata": {},
   "outputs": [],
   "source": [
    "m1 = momapy.sbgn.io.read_file(\"phospho1.sbgn\")"
   ]
  },
  {
   "cell_type": "code",
   "execution_count": 4,
   "id": "0b51c91e",
   "metadata": {},
   "outputs": [],
   "source": [
    "momapy.rendering.render_map(m1, \"phospho1.svg\", renderer=\"svg-native\")"
   ]
  },
  {
   "cell_type": "code",
   "execution_count": 5,
   "id": "de7b15c1",
   "metadata": {},
   "outputs": [
    {
     "data": {
      "text/html": [
       "<img src='phospho1.svg' width=600>"
      ],
      "text/plain": [
       "<IPython.core.display.HTML object>"
      ]
     },
     "execution_count": 5,
     "metadata": {},
     "output_type": "execute_result"
    }
   ],
   "source": [
    "IPython.display.HTML(\"<img src='phospho1.svg' width=600>\")"
   ]
  },
  {
   "cell_type": "code",
   "execution_count": null,
   "id": "dc46387e",
   "metadata": {},
   "outputs": [],
   "source": []
  }
 ],
 "metadata": {
  "kernelspec": {
   "display_name": "Python 3 (ipykernel)",
   "language": "python",
   "name": "python3"
  },
  "language_info": {
   "codemirror_mode": {
    "name": "ipython",
    "version": 3
   },
   "file_extension": ".py",
   "mimetype": "text/x-python",
   "name": "python",
   "nbconvert_exporter": "python",
   "pygments_lexer": "ipython3",
   "version": "3.10.8"
  }
 },
 "nbformat": 4,
 "nbformat_minor": 5
}
