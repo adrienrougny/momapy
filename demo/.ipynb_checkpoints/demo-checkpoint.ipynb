{
 "cells": [
  {
   "cell_type": "code",
   "execution_count": 1,
   "id": "982bdf8c",
   "metadata": {},
   "outputs": [],
   "source": [
    "import IPython.display\n",
    "import tempfile\n",
    "import os\n",
    "import time"
   ]
  },
  {
   "cell_type": "code",
   "execution_count": 2,
   "id": "71b516ba",
   "metadata": {},
   "outputs": [],
   "source": [
    "import momapy.sbgn.io\n",
    "import momapy.sbgn.styling\n",
    "import momapy.sbgn.utils\n",
    "import momapy.rendering\n",
    "import momapy.builder\n",
    "import momapy.coloring\n",
    "import momapy.styling"
   ]
  },
  {
   "cell_type": "code",
   "execution_count": 3,
   "id": "7f00e3d3",
   "metadata": {},
   "outputs": [],
   "source": [
    "filenames = []\n",
    "def display(map_, width=400):\n",
    "    if momapy.builder.isinstance_or_builder(map_, momapy.core.Map):\n",
    "        f, filename = tempfile.mkstemp(dir=\".\", suffix=\".svg\")\n",
    "        momapy.rendering.render_map(map_, filename, renderer=\"svg-native\")\n",
    "    else:\n",
    "        filename = map_\n",
    "    print(os.path.split(filename)[-1])\n",
    "    s = \"<img src='{}' width={}>\".format(os.path.split(filename)[-1], width)\n",
    "    IPython.display.display(IPython.display.HTML(s))\n",
    "    filenames.append(filename)\n",
    "    \n",
    "def cleanup():\n",
    "    time.sleep(2)\n",
    "    for filename in filenames:\n",
    "        os.remove(filename)"
   ]
  },
  {
   "cell_type": "code",
   "execution_count": 4,
   "id": "ea8c9f24",
   "metadata": {},
   "outputs": [
    {
     "ename": "OSError",
     "evalue": "Error reading file 'phospho1.sbgn': failed to load external entity \"phospho1.sbgn\"",
     "output_type": "error",
     "traceback": [
      "\u001b[0;31m---------------------------------------------------------------------------\u001b[0m",
      "\u001b[0;31mOSError\u001b[0m                                   Traceback (most recent call last)",
      "Cell \u001b[0;32mIn [4], line 1\u001b[0m\n\u001b[0;32m----> 1\u001b[0m m1 \u001b[38;5;241m=\u001b[39m \u001b[43mmomapy\u001b[49m\u001b[38;5;241;43m.\u001b[39;49m\u001b[43msbgn\u001b[49m\u001b[38;5;241;43m.\u001b[39;49m\u001b[43mio\u001b[49m\u001b[38;5;241;43m.\u001b[39;49m\u001b[43mread_file\u001b[49m\u001b[43m(\u001b[49m\u001b[38;5;124;43m\"\u001b[39;49m\u001b[38;5;124;43mphospho1.sbgn\u001b[39;49m\u001b[38;5;124;43m\"\u001b[39;49m\u001b[43m)\u001b[49m\n\u001b[1;32m      2\u001b[0m display(m1, \u001b[38;5;241m400\u001b[39m)\n",
      "File \u001b[0;32m~/code/momapy/momapy/sbgn/io.py:657\u001b[0m, in \u001b[0;36mread_file\u001b[0;34m(file_name, return_builder, tidy, style_sheet)\u001b[0m\n\u001b[1;32m    656\u001b[0m \u001b[38;5;28;01mdef\u001b[39;00m \u001b[38;5;21mread_file\u001b[39m(file_name, return_builder\u001b[38;5;241m=\u001b[39m\u001b[38;5;28;01mFalse\u001b[39;00m, tidy\u001b[38;5;241m=\u001b[39m\u001b[38;5;28;01mFalse\u001b[39;00m, style_sheet\u001b[38;5;241m=\u001b[39m\u001b[38;5;28;01mNone\u001b[39;00m):\n\u001b[0;32m--> 657\u001b[0m     libsbgn_sbgn \u001b[38;5;241m=\u001b[39m \u001b[43mlibsbgn\u001b[49m\u001b[38;5;241;43m.\u001b[39;49m\u001b[43mparse\u001b[49m\u001b[43m(\u001b[49m\u001b[43mfile_name\u001b[49m\u001b[43m,\u001b[49m\u001b[43m \u001b[49m\u001b[43msilence\u001b[49m\u001b[38;5;241;43m=\u001b[39;49m\u001b[38;5;28;43;01mTrue\u001b[39;49;00m\u001b[43m)\u001b[49m\n\u001b[1;32m    658\u001b[0m     libsbgn_map \u001b[38;5;241m=\u001b[39m libsbgn_sbgn\u001b[38;5;241m.\u001b[39mget_map()\n\u001b[1;32m    659\u001b[0m     language \u001b[38;5;241m=\u001b[39m libsbgn_map\u001b[38;5;241m.\u001b[39mget_language()\n",
      "File \u001b[0;32m~/.local/share/virtualenvs/momapy-yYU1GI1E/lib/python3.10/site-packages/libsbgnpy/libsbgn.py:4420\u001b[0m, in \u001b[0;36mparse\u001b[0;34m(inFileName, silence)\u001b[0m\n\u001b[1;32m   4418\u001b[0m \u001b[38;5;28;01mdef\u001b[39;00m \u001b[38;5;21mparse\u001b[39m(inFileName, silence\u001b[38;5;241m=\u001b[39m\u001b[38;5;28;01mFalse\u001b[39;00m):\n\u001b[1;32m   4419\u001b[0m     parser \u001b[38;5;241m=\u001b[39m \u001b[38;5;28;01mNone\u001b[39;00m\n\u001b[0;32m-> 4420\u001b[0m     doc \u001b[38;5;241m=\u001b[39m \u001b[43mparsexml_\u001b[49m\u001b[43m(\u001b[49m\u001b[43minFileName\u001b[49m\u001b[43m,\u001b[49m\u001b[43m \u001b[49m\u001b[43mparser\u001b[49m\u001b[43m)\u001b[49m\n\u001b[1;32m   4421\u001b[0m     rootNode \u001b[38;5;241m=\u001b[39m doc\u001b[38;5;241m.\u001b[39mgetroot()\n\u001b[1;32m   4422\u001b[0m     rootTag, rootClass \u001b[38;5;241m=\u001b[39m get_root_tag(rootNode)\n",
      "File \u001b[0;32m~/.local/share/virtualenvs/momapy-yYU1GI1E/lib/python3.10/site-packages/libsbgnpy/libsbgn.py:47\u001b[0m, in \u001b[0;36mparsexml_\u001b[0;34m(infile, parser, **kwargs)\u001b[0m\n\u001b[1;32m     44\u001b[0m     \u001b[38;5;28;01mexcept\u001b[39;00m \u001b[38;5;167;01mAttributeError\u001b[39;00m:\n\u001b[1;32m     45\u001b[0m         \u001b[38;5;66;03m# fallback to xml.etree\u001b[39;00m\n\u001b[1;32m     46\u001b[0m         parser \u001b[38;5;241m=\u001b[39m etree_\u001b[38;5;241m.\u001b[39mXMLParser()\n\u001b[0;32m---> 47\u001b[0m doc \u001b[38;5;241m=\u001b[39m \u001b[43metree_\u001b[49m\u001b[38;5;241;43m.\u001b[39;49m\u001b[43mparse\u001b[49m\u001b[43m(\u001b[49m\u001b[43minfile\u001b[49m\u001b[43m,\u001b[49m\u001b[43m \u001b[49m\u001b[43mparser\u001b[49m\u001b[38;5;241;43m=\u001b[39;49m\u001b[43mparser\u001b[49m\u001b[43m,\u001b[49m\u001b[43m \u001b[49m\u001b[38;5;241;43m*\u001b[39;49m\u001b[38;5;241;43m*\u001b[39;49m\u001b[43mkwargs\u001b[49m\u001b[43m)\u001b[49m\n\u001b[1;32m     48\u001b[0m \u001b[38;5;28;01mreturn\u001b[39;00m doc\n",
      "File \u001b[0;32msrc/lxml/etree.pyx:3538\u001b[0m, in \u001b[0;36mlxml.etree.parse\u001b[0;34m()\u001b[0m\n",
      "File \u001b[0;32msrc/lxml/parser.pxi:1876\u001b[0m, in \u001b[0;36mlxml.etree._parseDocument\u001b[0;34m()\u001b[0m\n",
      "File \u001b[0;32msrc/lxml/parser.pxi:1902\u001b[0m, in \u001b[0;36mlxml.etree._parseDocumentFromURL\u001b[0;34m()\u001b[0m\n",
      "File \u001b[0;32msrc/lxml/parser.pxi:1805\u001b[0m, in \u001b[0;36mlxml.etree._parseDocFromFile\u001b[0;34m()\u001b[0m\n",
      "File \u001b[0;32msrc/lxml/parser.pxi:1177\u001b[0m, in \u001b[0;36mlxml.etree._BaseParser._parseDocFromFile\u001b[0;34m()\u001b[0m\n",
      "File \u001b[0;32msrc/lxml/parser.pxi:615\u001b[0m, in \u001b[0;36mlxml.etree._ParserContext._handleParseResultDoc\u001b[0;34m()\u001b[0m\n",
      "File \u001b[0;32msrc/lxml/parser.pxi:725\u001b[0m, in \u001b[0;36mlxml.etree._handleParseResult\u001b[0;34m()\u001b[0m\n",
      "File \u001b[0;32msrc/lxml/parser.pxi:652\u001b[0m, in \u001b[0;36mlxml.etree._raiseParseError\u001b[0;34m()\u001b[0m\n",
      "\u001b[0;31mOSError\u001b[0m: Error reading file 'phospho1.sbgn': failed to load external entity \"phospho1.sbgn\""
     ]
    }
   ],
   "source": [
    "m1 = momapy.sbgn.io.read_file(\"phospho1.sbgn\")\n",
    "display(m1, 400)"
   ]
  },
  {
   "cell_type": "code",
   "execution_count": null,
   "id": "a5dada7f",
   "metadata": {},
   "outputs": [],
   "source": [
    "m2 = momapy.sbgn.io.read_file(\"phospho2.sbgn\")\n",
    "display(m2, 300)"
   ]
  },
  {
   "cell_type": "code",
   "execution_count": null,
   "id": "3d25a5b8",
   "metadata": {},
   "outputs": [],
   "source": [
    "m1 == m2"
   ]
  },
  {
   "cell_type": "code",
   "execution_count": null,
   "id": "7d0155e8",
   "metadata": {},
   "outputs": [],
   "source": [
    "m1.layout == m2.layout"
   ]
  },
  {
   "cell_type": "code",
   "execution_count": null,
   "id": "f2b75b47",
   "metadata": {},
   "outputs": [],
   "source": [
    "m1.model == m2.model"
   ]
  },
  {
   "cell_type": "code",
   "execution_count": null,
   "id": "29cc2990",
   "metadata": {},
   "outputs": [],
   "source": [
    "try:\n",
    "    m1.layout.stroke = momapy.coloring.colors.red\n",
    "except Exception as e:\n",
    "    print(e)"
   ]
  },
  {
   "cell_type": "code",
   "execution_count": null,
   "id": "7853cd79",
   "metadata": {},
   "outputs": [],
   "source": [
    "m1_builder = momapy.builder.builder_from_object(m1)"
   ]
  },
  {
   "cell_type": "code",
   "execution_count": null,
   "id": "d573efa2",
   "metadata": {},
   "outputs": [],
   "source": [
    "m1_builder.layout.stroke = momapy.coloring.colors.red\n",
    "m1_builder.layout.stroke_width = 3\n",
    "display(m1_builder, 400)"
   ]
  },
  {
   "cell_type": "code",
   "execution_count": null,
   "id": "fc9e18cb",
   "metadata": {},
   "outputs": [],
   "source": [
    "m1_builder = momapy.sbgn.io.read_file(\"phospho1.sbgn\", return_builder=True)"
   ]
  },
  {
   "cell_type": "code",
   "execution_count": null,
   "id": "280c61c8",
   "metadata": {
    "scrolled": false
   },
   "outputs": [],
   "source": [
    "m1_builder.layout.stroke = momapy.coloring.colors.red\n",
    "m1_builder.layout.stroke_width = 3\n",
    "display(m1_builder, 400)"
   ]
  },
  {
   "cell_type": "code",
   "execution_count": null,
   "id": "fe7233ab",
   "metadata": {},
   "outputs": [],
   "source": [
    "m1 = momapy.sbgn.io.read_file(\"phospho1.sbgn\")\n",
    "m1_builder = momapy.builder.builder_from_object(m1)\n",
    "m1 == m1_builder.build()"
   ]
  },
  {
   "cell_type": "markdown",
   "id": "d3522844",
   "metadata": {},
   "source": [
    "### So what is the purpose of the non builder object?"
   ]
  },
  {
   "cell_type": "code",
   "execution_count": null,
   "id": "026c3693",
   "metadata": {},
   "outputs": [],
   "source": [
    "m1a_builder = momapy.sbgn.io.read_file(\"phospho1.sbgn\", return_builder=True)\n",
    "m1b_builder = momapy.sbgn.io.read_file(\"phospho1.sbgn\", return_builder=True)\n",
    "m1a_builder == m1b_builder"
   ]
  },
  {
   "cell_type": "code",
   "execution_count": null,
   "id": "522d6429",
   "metadata": {},
   "outputs": [],
   "source": [
    "m1a = m1a_builder.build()\n",
    "m1b = m1b_builder.build()\n",
    "m1a == m1b"
   ]
  },
  {
   "cell_type": "code",
   "execution_count": null,
   "id": "cb860b1b",
   "metadata": {},
   "outputs": [],
   "source": [
    "m1_builder = momapy.sbgn.io.read_file(\"phospho1.sbgn\", return_builder=True)\n",
    "m1_builder.layout.stroke_width = 3\n",
    "m1_builder.layout.stroke = momapy.coloring.colors.red\n",
    "m1 = m1_builder.build()"
   ]
  },
  {
   "cell_type": "code",
   "execution_count": null,
   "id": "6e9c7832",
   "metadata": {},
   "outputs": [],
   "source": [
    "s = set([])\n",
    "for i in range(256):\n",
    "    for j in range(0):\n",
    "            m1_builder.layout.stroke = momapy.coloring.rgba(i, j, 0, 1.0)\n",
    "            s.add(m1_builder.build())\n",
    "l = list(s)"
   ]
  },
  {
   "cell_type": "code",
   "execution_count": null,
   "id": "c1a698dc",
   "metadata": {
    "scrolled": true
   },
   "outputs": [],
   "source": [
    "%%time\n",
    "m1 in s"
   ]
  },
  {
   "cell_type": "code",
   "execution_count": null,
   "id": "9b263331",
   "metadata": {
    "scrolled": true
   },
   "outputs": [],
   "source": [
    "%%time\n",
    "m1 in l"
   ]
  },
  {
   "cell_type": "markdown",
   "id": "091967e3",
   "metadata": {},
   "source": [
    "### Submap"
   ]
  },
  {
   "cell_type": "code",
   "execution_count": null,
   "id": "6bbdf556",
   "metadata": {},
   "outputs": [],
   "source": [
    "m1_builder = momapy.sbgn.io.read_file(\"phospho1comp.sbgn\", return_builder=True)\n",
    "m1 = m1_builder.build()\n",
    "display(m1)"
   ]
  },
  {
   "cell_type": "code",
   "execution_count": null,
   "id": "15e1aa20",
   "metadata": {},
   "outputs": [],
   "source": [
    "m2_builder = momapy.sbgn.io.read_file(\"phospho1.sbgn\", return_builder=True)\n",
    "m2_builder.layout.position = m1_builder.layout.position\n",
    "m2_builder.layout.width = m1_builder.layout.width\n",
    "m2_builder.layout.height = m1_builder.layout.height\n",
    "m2 = m2_builder.build()\n",
    "display(m2)"
   ]
  },
  {
   "cell_type": "code",
   "execution_count": null,
   "id": "1508388e",
   "metadata": {},
   "outputs": [],
   "source": [
    "m1.is_submap(m2)"
   ]
  },
  {
   "cell_type": "code",
   "execution_count": null,
   "id": "b3bf6eac",
   "metadata": {},
   "outputs": [],
   "source": [
    "m1.layout.is_sublayout(m2.layout)"
   ]
  },
  {
   "cell_type": "code",
   "execution_count": null,
   "id": "f2893e35",
   "metadata": {},
   "outputs": [],
   "source": [
    "m1.model.is_submodel(m2.model)"
   ]
  },
  {
   "cell_type": "markdown",
   "id": "0b6ca240",
   "metadata": {},
   "source": [
    "### Styling"
   ]
  },
  {
   "cell_type": "code",
   "execution_count": null,
   "id": "00591679",
   "metadata": {},
   "outputs": [],
   "source": [
    "m1_builder = momapy.sbgn.io.read_file(\"phospho1.sbgn\", return_builder=True)\n",
    "momapy.sbgn.utils.set_layout_to_fit_content(m1_builder, xsep=10, ysep=10)"
   ]
  },
  {
   "cell_type": "code",
   "execution_count": null,
   "id": "6574118b",
   "metadata": {
    "scrolled": false
   },
   "outputs": [],
   "source": [
    "display(m1_builder)"
   ]
  },
  {
   "cell_type": "code",
   "execution_count": null,
   "id": "101a9d79",
   "metadata": {
    "scrolled": true
   },
   "outputs": [],
   "source": [
    "momapy.styling.apply_style_sheet(m1_builder.layout, momapy.sbgn.styling.default_colorscheme)\n",
    "display(m1_builder)"
   ]
  },
  {
   "cell_type": "code",
   "execution_count": null,
   "id": "441d7ac3",
   "metadata": {},
   "outputs": [],
   "source": [
    "momapy.styling.apply_style_sheet(m1_builder.layout, momapy.sbgn.styling.shadows)\n",
    "display(m1_builder)"
   ]
  },
  {
   "cell_type": "code",
   "execution_count": null,
   "id": "b553920a",
   "metadata": {
    "scrolled": true
   },
   "outputs": [],
   "source": [
    "momapy.styling.apply_style_sheet(m1_builder.layout, momapy.sbgn.styling.newt)\n",
    "display(m1_builder)"
   ]
  },
  {
   "cell_type": "code",
   "execution_count": null,
   "id": "a4a28eab",
   "metadata": {},
   "outputs": [],
   "source": [
    "momapy.sbgn.utils.set_auxilliary_units_to_borders(m1_builder)\n",
    "momapy.sbgn.utils.set_arcs_to_borders(m1_builder)\n",
    "display(m1_builder)"
   ]
  },
  {
   "cell_type": "code",
   "execution_count": null,
   "id": "7328142d",
   "metadata": {},
   "outputs": [],
   "source": [
    "momapy.styling.apply_style_sheet(m1_builder.layout, momapy.sbgn.styling.vanted)\n",
    "display(m1_builder)"
   ]
  },
  {
   "cell_type": "code",
   "execution_count": null,
   "id": "a354c293",
   "metadata": {},
   "outputs": [],
   "source": [
    "momapy.sbgn.utils.set_auxilliary_units_to_borders(m1_builder)\n",
    "momapy.sbgn.utils.set_arcs_to_borders(m1_builder)\n",
    "display(m1_builder)"
   ]
  },
  {
   "cell_type": "code",
   "execution_count": null,
   "id": "59986209",
   "metadata": {},
   "outputs": [],
   "source": [
    "with open(\"my_style_sheet.css\", \"w\") as f:\n",
    "    f.write(\n",
    "        \"\"\"\n",
    "        MacromoleculeLayout {\n",
    "            stroke_width: 3;\n",
    "            fill: red;\n",
    "        }\n",
    "    \n",
    "        StateVariableLayout > TextLayout {\n",
    "            font_color: green;\n",
    "        }\n",
    "        \"\"\"\n",
    "    )\n",
    "my_style_sheet = momapy.styling.read_file(\"my_style_sheet.css\")\n",
    "momapy.styling.apply_style_sheet(m1_builder.layout, my_style_sheet)\n",
    "display(m1_builder)"
   ]
  },
  {
   "cell_type": "code",
   "execution_count": null,
   "id": "74c4851b",
   "metadata": {},
   "outputs": [],
   "source": [
    "cleanup()"
   ]
  }
 ],
 "metadata": {
  "kernelspec": {
   "display_name": "my-virtualenv-name",
   "language": "python",
   "name": "my-virtualenv-name"
  },
  "language_info": {
   "codemirror_mode": {
    "name": "ipython",
    "version": 3
   },
   "file_extension": ".py",
   "mimetype": "text/x-python",
   "name": "python",
   "nbconvert_exporter": "python",
   "pygments_lexer": "ipython3",
   "version": "3.10.8"
  }
 },
 "nbformat": 4,
 "nbformat_minor": 5
}
