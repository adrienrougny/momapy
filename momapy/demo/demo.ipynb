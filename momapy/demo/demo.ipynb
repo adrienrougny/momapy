{
 "cells": [
  {
   "cell_type": "markdown",
   "id": "b188df16",
   "metadata": {},
   "source": [
    "# MomaPy: a python library for molecular maps"
   ]
  },
  {
   "cell_type": "markdown",
   "id": "38c02689",
   "metadata": {},
   "source": [
    "The MomaPy library is a new python library for working with molecular maps such as SBGN maps.\n",
    "Its key feature is its definition of a map, that is now formed of two entities: a model, that describes what concepts are represented, and a layout, that describes how these concepts are represented.\n",
    "This definition is borrowed from SBML and its extensions layout/render, that allowed users to add a layout to an SBML model.\n",
    "MomaPy aims at extending this definition to all types of molecular maps, and in particular to SBGN maps.\n",
    "\n",
    "MomaPy offers the following features:\n",
    "* support for SBGN PD and AF maps (read/write SBGN-ML with annotations, rendering information, and notes)\n",
    "* decomposition of a map object into:\n",
    "    - a model object;\n",
    "    - a layout object;\n",
    "    - a mapping between the model and layout objects' subelements\n",
    "* map, model, layout and mapping objects comparison; fast object in set checking\n",
    "* rendering of maps to images (SVG, PDF, JPEG, PNG, WebP) and other surfaces (e.g. GLFW window)\n",
    "* support for styling and css like style sheets (including effects such as shadows)\n",
    "* automatic geometry and anchors (for arcs, shape borders)\n",
    "* local positioning (e.g. right of shape, fit set of shapes)\n",
    "* easy extension with new model and layout subelements"
   ]
  },
  {
   "cell_type": "code",
   "execution_count": 1,
   "id": "71b516ba",
   "metadata": {},
   "outputs": [],
   "source": [
    "import momapy.io\n",
    "import momapy.builder\n",
    "import momapy.coloring\n",
    "import momapy.styling\n",
    "import momapy.utils\n",
    "\n",
    "import momapy.sbgn.io.sbgnml\n",
    "import momapy.sbgn.styling\n",
    "import momapy.sbgn.utils"
   ]
  },
  {
   "cell_type": "code",
   "execution_count": 2,
   "id": "7f00e3d3",
   "metadata": {},
   "outputs": [],
   "source": [
    "from momapy.demo.utils import display, display_at, show_room, macromolecule_toy, complex_multimer_toy"
   ]
  },
  {
   "cell_type": "markdown",
   "id": "2738f562",
   "metadata": {},
   "source": [
    "# The `Map` object"
   ]
  },
  {
   "cell_type": "code",
   "execution_count": 3,
   "id": "ea8c9f24",
   "metadata": {
    "scrolled": false
   },
   "outputs": [
    {
     "name": "stderr",
     "output_type": "stream",
     "text": [
      "Fontconfig warning: \"/usr/share/fontconfig/conf.avail/05-reset-dirs-sample.conf\", line 6: unknown element \"reset-dirs\"\n"
     ]
    },
    {
     "data": {
      "image/png": "[encoded data removed]",
      "text/plain": [
       "Image(600, 450, ColorType.kBGRA_8888_ColorType, AlphaType.kPremul_AlphaType)"
      ]
     },
     "metadata": {},
     "output_type": "display_data"
    }
   ],
   "source": [
    "m = momapy.io.read(\"phospho1.sbgn\")\n",
    "display(m)"
   ]
  },
  {
   "cell_type": "markdown",
   "id": "225c6983",
   "metadata": {},
   "source": [
    "A Map object always contains a Model, a Layout and a LayoutModelMapping (that maps model elements to layout elements).\n",
    "It may also have additional attributes depending on its nature. For example, an SBGN PD map also has an id, notes, and annotations."
   ]
  },
  {
   "cell_type": "code",
   "execution_count": 4,
   "id": "a63e2eb1",
   "metadata": {
    "scrolled": true
   },
   "outputs": [
    {
     "name": "stdout",
     "output_type": "stream",
     "text": [
      "\u001b[30m<class 'momapy.sbgn.pd.SBGNPDMap'>\u001b[31m: SBGNPDMap(id=UUID('6e04b000-c0...\u001b[0m\n",
      "  \u001b[34m* id\u001b[35m: <class 'str'> = \u001b[31m6e04b000-c0fa-48fb-b216-45d923...\u001b[0m\n",
      "  \u001b[34m* model\u001b[35m: <class 'momapy.sbgn.pd.SBGNPDModel'> = \u001b[31mSBGNPDModel(id=UUID('cd59ec2e-...\u001b[0m\n",
      "  \u001b[34m* layout\u001b[35m: <class 'momapy.sbgn.pd.SBGNPDLayout'> = \u001b[31mSBGNPDLayout(id=UUID('301e95e6...\u001b[0m\n",
      "  \u001b[34m* layout_model_mapping\u001b[35m: <class 'momapy.core.LayoutModelMapping'> = \u001b[31mLayoutModelMapping(_singleton_...\u001b[0m\n",
      "  \u001b[34m* notes\u001b[35m: str | None = \u001b[31mNone\u001b[0m\n",
      "  \u001b[34m* annotations\u001b[35m: frozenset[momapy.sbgn.core.Annotation] = \u001b[31mfrozenset()\u001b[0m\n"
     ]
    }
   ],
   "source": [
    "momapy.utils.pretty_print(m)"
   ]
  },
  {
   "cell_type": "markdown",
   "id": "40ebf56f",
   "metadata": {},
   "source": [
    "## The `Model` object"
   ]
  },
  {
   "cell_type": "markdown",
   "id": "4ee3e9ff",
   "metadata": {},
   "source": [
    "A `Model` may have an arbitrary number of attributes, depending on its nature.\n",
    "For example, an `SBGNPDModel` has the following attributes: `entity_pools`, `processes`, `compartments`, `modulations`, `logical_operators`, `equivalence_operators`, `submaps` and `tags`, but also an `id`, `notes` and `annotations`."
   ]
  },
  {
   "cell_type": "code",
   "execution_count": 5,
   "id": "c47b3ee3",
   "metadata": {
    "scrolled": false
   },
   "outputs": [
    {
     "name": "stdout",
     "output_type": "stream",
     "text": [
      "\u001b[30m<class 'momapy.sbgn.pd.SBGNPDModel'>\u001b[31m: SBGNPDModel(id=UUID('cd59ec2e-...\u001b[0m\n",
      "  \u001b[34m* id\u001b[35m: <class 'str'> = \u001b[31mcd59ec2e-dc4f-452b-a08e-44d89c...\u001b[0m\n",
      "  \u001b[34m* notes\u001b[35m: str | None = \u001b[31mNone\u001b[0m\n",
      "  \u001b[34m* annotations\u001b[35m: frozenset[momapy.sbgn.core.Annotation] = \u001b[31mfrozenset()\u001b[0m\n",
      "  \u001b[34m* entity_pools\u001b[35m: frozenset[momapy.sbgn.pd.EntityPool] = \u001b[31mfrozenset({Macromolecule(id='g...\u001b[0m\n",
      "  \u001b[34m* processes\u001b[35m: frozenset[momapy.sbgn.pd.Process] = \u001b[31mfrozenset({GenericProcess(id='...\u001b[0m\n",
      "  \u001b[34m* compartments\u001b[35m: frozenset[momapy.sbgn.pd.Compartment] = \u001b[31mfrozenset()\u001b[0m\n",
      "  \u001b[34m* modulations\u001b[35m: frozenset[momapy.sbgn.pd.Modulation] = \u001b[31mfrozenset({Catalysis(id='arc3'...\u001b[0m\n",
      "  \u001b[34m* logical_operators\u001b[35m: frozenset[momapy.sbgn.pd.LogicalOperator] = \u001b[31mfrozenset()\u001b[0m\n",
      "  \u001b[34m* equivalence_operators\u001b[35m: frozenset[momapy.sbgn.pd.EquivalenceOperator] = \u001b[31mfrozenset()\u001b[0m\n",
      "  \u001b[34m* submaps\u001b[35m: frozenset[momapy.sbgn.pd.Submap] = \u001b[31mfrozenset()\u001b[0m\n",
      "  \u001b[34m* tags\u001b[35m: frozenset[momapy.sbgn.pd.Tag] = \u001b[31mfrozenset()\u001b[0m\n"
     ]
    }
   ],
   "source": [
    "momapy.utils.pretty_print(m.model)"
   ]
  },
  {
   "cell_type": "markdown",
   "id": "d96ed2cd",
   "metadata": {},
   "source": [
    "These attributes may be `ModelElement`s or collections of `ModelElements`. For example, the `entity_pools` attribute of an `SBGNPDModel` may contain zero or more `EntityPool`s.\n",
    "We pick the first element from the collection:"
   ]
  },
  {
   "cell_type": "code",
   "execution_count": 6,
   "id": "21b6b343",
   "metadata": {
    "scrolled": true
   },
   "outputs": [
    {
     "name": "stdout",
     "output_type": "stream",
     "text": [
      "\u001b[30m<class 'momapy.sbgn.pd.Macromolecule'>\u001b[31m: Macromolecule(id='glyph1', not...\u001b[0m\n",
      "  \u001b[34m* id\u001b[35m: <class 'str'> = \u001b[31mglyph1\u001b[0m\n",
      "  \u001b[34m* notes\u001b[35m: str | None = \u001b[31mNone\u001b[0m\n",
      "  \u001b[34m* annotations\u001b[35m: frozenset[momapy.sbgn.core.Annotation] = \u001b[31mfrozenset()\u001b[0m\n",
      "  \u001b[34m* compartment\u001b[35m: typing.Optional[momapy.sbgn.pd.Compartment] = \u001b[31mNone\u001b[0m\n",
      "  \u001b[34m* label\u001b[35m: typing.Optional[str] = \u001b[31mA\u001b[0m\n",
      "  \u001b[34m* state_variables\u001b[35m: frozenset[momapy.sbgn.pd.StateVariable] = \u001b[31mfrozenset({StateVariable(id='g...\u001b[0m\n",
      "  \u001b[34m* units_of_information\u001b[35m: frozenset[momapy.sbgn.pd.UnitOfInformation] = \u001b[31mfrozenset()\u001b[0m\n"
     ]
    }
   ],
   "source": [
    "for e in m.model.entity_pools:\n",
    "    break\n",
    "momapy.utils.pretty_print(e)"
   ]
  },
  {
   "cell_type": "markdown",
   "id": "4f34acb7",
   "metadata": {},
   "source": [
    "Here, the element is a `Macromolecule`.\n",
    "The data model for SBGN PD is built on a hierarchy of classes following the corresponding ontology.\n",
    "Hence this element is also an `EntityPool`, and more generally a `ModelElement`:"
   ]
  },
  {
   "cell_type": "code",
   "execution_count": 7,
   "id": "dcae32cd",
   "metadata": {},
   "outputs": [],
   "source": [
    "assert isinstance(e, momapy.sbgn.pd.EntityPool)\n",
    "assert isinstance(e, momapy.core.ModelElement)"
   ]
  },
  {
   "cell_type": "markdown",
   "id": "e37efc3a",
   "metadata": {},
   "source": [
    "## The `Layout` object"
   ]
  },
  {
   "cell_type": "markdown",
   "id": "64d93b53",
   "metadata": {},
   "source": [
    "A `Layout` is some sort of canvas that may contain other `LayoutElement`s that correspond to shapes that represent `ModelElement`s and that may be rendered.\n",
    "The `LayoutElement`s of a `Layout` are contained in its `layout_elements` attribute:"
   ]
  },
  {
   "cell_type": "code",
   "execution_count": 8,
   "id": "eb960ce0",
   "metadata": {
    "scrolled": false
   },
   "outputs": [
    {
     "name": "stdout",
     "output_type": "stream",
     "text": [
      "\u001b[30m<class 'momapy.sbgn.pd.SBGNPDLayout'>\u001b[31m: SBGNPDLayout(id=UUID('301e95e6...\u001b[0m\n",
      "  \u001b[34m* id\u001b[35m: <class 'str'> = \u001b[31m301e95e6-43b6-4dfa-95a1-26d7ee...\u001b[0m\n",
      "  \u001b[34m* layout_elements\u001b[35m: tuple[momapy.core.LayoutElement] = \u001b[31m(MacromoleculeLayout(id='glyph...\u001b[0m\n",
      "  \u001b[34m* stroke\u001b[35m: typing.Union[momapy.coloring.Color, momapy.drawing.NoneValueType, NoneType] = \u001b[31mNone\u001b[0m\n",
      "  \u001b[34m* stroke_width\u001b[35m: typing.Optional[float] = \u001b[31mNone\u001b[0m\n",
      "  \u001b[34m* stroke_dasharray\u001b[35m: typing.Union[momapy.drawing.NoneValueType, tuple[float], NoneType] = \u001b[31mNone\u001b[0m\n",
      "  \u001b[34m* stroke_dashoffset\u001b[35m: typing.Optional[float] = \u001b[31mNone\u001b[0m\n",
      "  \u001b[34m* fill\u001b[35m: typing.Union[momapy.coloring.Color, momapy.drawing.NoneValueType, NoneType] = \u001b[31mColor(red=255, green=255, blue...\u001b[0m\n",
      "  \u001b[34m* transform\u001b[35m: typing.Union[momapy.drawing.NoneValueType, tuple[momapy.geometry.Transformation], NoneType] = \u001b[31mNone\u001b[0m\n",
      "  \u001b[34m* filter\u001b[35m: typing.Union[momapy.drawing.NoneValueType, momapy.drawing.Filter, NoneType] = \u001b[31mNone\u001b[0m\n",
      "  \u001b[34m* position\u001b[35m: <class 'momapy.geometry.Point'> = \u001b[31mPoint(x=240.0, y=205.0)\u001b[0m\n",
      "  \u001b[34m* width\u001b[35m: <class 'float'> = \u001b[31m450.0\u001b[0m\n",
      "  \u001b[34m* height\u001b[35m: <class 'float'> = \u001b[31m250.0\u001b[0m\n"
     ]
    }
   ],
   "source": [
    "momapy.utils.pretty_print(m.layout)"
   ]
  },
  {
   "cell_type": "markdown",
   "id": "6a56e5e5",
   "metadata": {},
   "source": [
    "A `LayoutElement` always has a `drawing_elements` method that returns `DrawingElement`s that may be rendered using a `Renderer`.\n",
    "The `DrawingElement`s are built on the fly based on the other attributes of the `LayoutElement`.\n",
    "`DrawingElement`s are like SVG elements: they may represent paths, rectangle, ellipses, text..., and generally have the same attributes as their SVG counterpart (or a subset of them).\n",
    "A `Layout` itself is a `LayoutElement`, whose returned unique `DrawingElement` ultimately represents a rectangle built from its `position`, `width` and `height` attributes.\n",
    "The style of this rectangle depends on the styling attribute of the `Layout` (e.g. the `stroke`, `stroke_width`, and `fill` attributes):"
   ]
  },
  {
   "cell_type": "code",
   "execution_count": 9,
   "id": "08c8f705",
   "metadata": {
    "scrolled": false
   },
   "outputs": [
    {
     "name": "stdout",
     "output_type": "stream",
     "text": [
      "\u001b[30m<class 'list'>\u001b[31m: [Group(stroke_width=None, stro...\u001b[0m\n",
      "  \u001b[34m- 0\u001b[35m: <class 'momapy.drawing.Group'> = \u001b[31mGroup(stroke_width=None, strok...\u001b[0m\n"
     ]
    }
   ],
   "source": [
    "momapy.utils.pretty_print(m.layout.drawing_elements())"
   ]
  },
  {
   "cell_type": "markdown",
   "id": "7d8522e1",
   "metadata": {},
   "source": [
    "A `Layout` may contain other `LayoutElement`s, which themselves may contain other `LayoutElement`s, recursively forming a hierarchy of `LayoutElement`s, and thus of `DrawingElement`s.\n",
    "While a `Layout` represents a `Model`, contained `LayoutElement`s represent `ModelElement`s contained by the `Model`."
   ]
  },
  {
   "cell_type": "markdown",
   "id": "732b769d",
   "metadata": {},
   "source": [
    "We pick the first `LayoutElement` from the `SBGNPDLayout`:"
   ]
  },
  {
   "cell_type": "code",
   "execution_count": 10,
   "id": "56352c9c",
   "metadata": {
    "scrolled": true
   },
   "outputs": [
    {
     "name": "stdout",
     "output_type": "stream",
     "text": [
      "\u001b[30m<class 'momapy.sbgn.pd.MacromoleculeLayout'>\u001b[31m: MacromoleculeLayout(id='glyph2...\u001b[0m\n",
      "  \u001b[34m* id\u001b[35m: <class 'str'> = \u001b[31mglyph2\u001b[0m\n",
      "  \u001b[34m* layout_elements\u001b[35m: tuple[momapy.core.LayoutElement] = \u001b[31m(StateVariableLayout(id='glyph...\u001b[0m\n",
      "  \u001b[34m* stroke\u001b[35m: typing.Union[momapy.coloring.Color, momapy.drawing.NoneValueType, NoneType] = \u001b[31mColor(red=0, green=0, blue=0, ...\u001b[0m\n",
      "  \u001b[34m* stroke_width\u001b[35m: typing.Optional[float] = \u001b[31m1.0\u001b[0m\n",
      "  \u001b[34m* stroke_dasharray\u001b[35m: typing.Union[momapy.drawing.NoneValueType, tuple[float], NoneType] = \u001b[31m<momapy.drawing.NoneValueType ...\u001b[0m\n",
      "  \u001b[34m* stroke_dashoffset\u001b[35m: typing.Optional[float] = \u001b[31m0.0\u001b[0m\n",
      "  \u001b[34m* fill\u001b[35m: typing.Union[momapy.coloring.Color, momapy.drawing.NoneValueType, NoneType] = \u001b[31mColor(red=255, green=255, blue...\u001b[0m\n",
      "  \u001b[34m* transform\u001b[35m: typing.Union[momapy.drawing.NoneValueType, tuple[momapy.geometry.Transformation], NoneType] = \u001b[31m<momapy.drawing.NoneValueType ...\u001b[0m\n",
      "  \u001b[34m* filter\u001b[35m: typing.Union[momapy.drawing.NoneValueType, momapy.drawing.Filter, NoneType] = \u001b[31m<momapy.drawing.NoneValueType ...\u001b[0m\n",
      "  \u001b[34m* position\u001b[35m: <class 'momapy.geometry.Point'> = \u001b[31mPoint(x=85.0, y=270.0)\u001b[0m\n",
      "  \u001b[34m* width\u001b[35m: <class 'float'> = \u001b[31m108.0\u001b[0m\n",
      "  \u001b[34m* height\u001b[35m: <class 'float'> = \u001b[31m60.0\u001b[0m\n",
      "  \u001b[34m* label\u001b[35m: typing.Optional[momapy.core.TextLayout] = \u001b[31mTextLayout(id=UUID('8a2ad9f1-8...\u001b[0m\n",
      "  \u001b[34m* rounded_corners\u001b[35m: <class 'float'> = \u001b[31m10.0\u001b[0m\n"
     ]
    }
   ],
   "source": [
    "for l in m.layout.layout_elements:\n",
    "    break\n",
    "momapy.utils.pretty_print(l)"
   ]
  },
  {
   "cell_type": "markdown",
   "id": "0d7b4bfc",
   "metadata": {},
   "source": [
    "This element is a `MacromoleculeLayout`. Based on its `position`, `width` and `height` attributes, as well as on its styling attributes, it will produce a `DrawingElement` representing a rectangle with rounded corners, containing some text corresponding to its `label`. Since this element also contains other `LayoutElement`s in its `layout_elements` attribute, it will also produce the `DrawingElement`s of these contained `LayoutElement`s (here, a `StateVariableLayout`):"
   ]
  },
  {
   "cell_type": "code",
   "execution_count": 11,
   "id": "4943d9d4",
   "metadata": {
    "scrolled": true
   },
   "outputs": [
    {
     "data": {
      "image/png": "[encoded data removed]",
      "text/plain": [
       "Image(600, 450, ColorType.kBGRA_8888_ColorType, AlphaType.kPremul_AlphaType)"
      ]
     },
     "metadata": {},
     "output_type": "display_data"
    }
   ],
   "source": [
    "display(l)"
   ]
  },
  {
   "cell_type": "markdown",
   "id": "34165fb8",
   "metadata": {},
   "source": [
    "## The `LayoutModelMapping` object"
   ]
  },
  {
   "cell_type": "markdown",
   "id": "db3238e1",
   "metadata": {},
   "source": [
    "A `LayoutModelMapping` is a mapping from `LayoutElement`s to `ModelElement`s and vice-versa.\n",
    "It is used to map the `LayoutElement`s of a `Map` to the `ModelElement`s they represent.\n",
    "It is intended to be as generic as possible so it maps sets of elements rather than elements themselves."
   ]
  },
  {
   "cell_type": "markdown",
   "id": "a37358d9",
   "metadata": {},
   "source": [
    "We pick the `ModelElement` mapped to the `MacromoleculeLayout` we had picked.\n",
    "We know that there is only one `ModelElement` mapped to it so we can safely use the `unpack` option that removes the containing set:"
   ]
  },
  {
   "cell_type": "code",
   "execution_count": 12,
   "id": "6a441c1b",
   "metadata": {
    "scrolled": true
   },
   "outputs": [
    {
     "name": "stdout",
     "output_type": "stream",
     "text": [
      "\u001b[30m<class 'momapy.sbgn.pd.Macromolecule'>\u001b[31m: Macromolecule(id='glyph2', not...\u001b[0m\n",
      "  \u001b[34m* id\u001b[35m: <class 'str'> = \u001b[31mglyph2\u001b[0m\n",
      "  \u001b[34m* notes\u001b[35m: str | None = \u001b[31mNone\u001b[0m\n",
      "  \u001b[34m* annotations\u001b[35m: frozenset[momapy.sbgn.core.Annotation] = \u001b[31mfrozenset()\u001b[0m\n",
      "  \u001b[34m* compartment\u001b[35m: typing.Optional[momapy.sbgn.pd.Compartment] = \u001b[31mNone\u001b[0m\n",
      "  \u001b[34m* label\u001b[35m: typing.Optional[str] = \u001b[31mA\u001b[0m\n",
      "  \u001b[34m* state_variables\u001b[35m: frozenset[momapy.sbgn.pd.StateVariable] = \u001b[31mfrozenset({StateVariable(id='g...\u001b[0m\n",
      "  \u001b[34m* units_of_information\u001b[35m: frozenset[momapy.sbgn.pd.UnitOfInformation] = \u001b[31mfrozenset()\u001b[0m\n"
     ]
    }
   ],
   "source": [
    "e = m.layout_model_mapping.get_mapping(l, unpack=True)[0]\n",
    "momapy.utils.pretty_print(e)"
   ]
  },
  {
   "cell_type": "markdown",
   "id": "633d6985",
   "metadata": {},
   "source": [
    "# Equality and-sub relation for `Map`s, `Model`s, `Layout`s and `LayoutModelMapping`s"
   ]
  },
  {
   "cell_type": "markdown",
   "id": "70aac53c",
   "metadata": {},
   "source": [
    "`Map`s, `Model`s, `Layout`s, `LayoutModelMapping`s, `ModelElement`s and `LayoutElement`s are developped so they can be easily compared.\n",
    "Their identity relies on the value of a subset of their attributes (generally all attributes but their `id`, `notes` and `annotations`).\n",
    "This way, two `Map`s can be easily compared.\n",
    "Is is also possible to check whether a `Map` is a sub-map of another `Map` (not to be confused with SBGN PD's submap glyph)."
   ]
  },
  {
   "cell_type": "markdown",
   "id": "7c8adf9a",
   "metadata": {},
   "source": [
    "## Equality"
   ]
  },
  {
   "cell_type": "markdown",
   "id": "4e71cffc",
   "metadata": {},
   "source": [
    "### Definition"
   ]
  },
  {
   "cell_type": "markdown",
   "id": "3da8c669",
   "metadata": {},
   "source": [
    "Two `Map`s are equal if and only if:\n",
    "* their `Model`s are equal;\n",
    "* their `Layout`s are equal;\n",
    "* and their `LayoutModelMapping`s are equal."
   ]
  },
  {
   "cell_type": "markdown",
   "id": "ac64c3f3",
   "metadata": {},
   "source": [
    "### Example"
   ]
  },
  {
   "cell_type": "code",
   "execution_count": 13,
   "id": "9a415492",
   "metadata": {},
   "outputs": [
    {
     "data": {
      "image/png": "[encoded data removed]",
      "text/plain": [
       "Image(600, 450, ColorType.kBGRA_8888_ColorType, AlphaType.kPremul_AlphaType)"
      ]
     },
     "metadata": {},
     "output_type": "display_data"
    }
   ],
   "source": [
    "m1 = momapy.io.read(\"phospho1.sbgn\")\n",
    "display(m1)"
   ]
  },
  {
   "cell_type": "code",
   "execution_count": 14,
   "id": "a5dada7f",
   "metadata": {
    "scrolled": false
   },
   "outputs": [
    {
     "data": {
      "image/png": "[encoded data removed]",
      "text/plain": [
       "Image(600, 450, ColorType.kBGRA_8888_ColorType, AlphaType.kPremul_AlphaType)"
      ]
     },
     "metadata": {},
     "output_type": "display_data"
    }
   ],
   "source": [
    "m2 = momapy.io.read(\"phospho2.sbgn\")\n",
    "display(m2)"
   ]
  },
  {
   "cell_type": "markdown",
   "id": "4db93189",
   "metadata": {},
   "source": [
    "The two maps represent the exact same concepts, and thus have the same model. However, they do not have the same layout. Hence, the two maps are different.\n",
    "This can be checked easily by comparing the `Map`, `Model`, `Layout` and `LayoutModelMapping` objects representing the two maps:"
   ]
  },
  {
   "cell_type": "code",
   "execution_count": 15,
   "id": "3d25a5b8",
   "metadata": {},
   "outputs": [],
   "source": [
    "assert m1 != m2\n",
    "assert m1.model == m2.model\n",
    "assert m1.layout != m2.layout\n",
    "assert m1.layout_model_mapping != m2.layout_model_mapping"
   ]
  },
  {
   "cell_type": "markdown",
   "id": "cc6f075e",
   "metadata": {},
   "source": [
    "## Sub-map/model/layout/mapping"
   ]
  },
  {
   "cell_type": "markdown",
   "id": "97654936",
   "metadata": {},
   "source": [
    "### Definition"
   ]
  },
  {
   "cell_type": "markdown",
   "id": "c96db392",
   "metadata": {},
   "source": [
    "A `Map` `M` is a sub-map of another `Map` `M'` if and only if:\n",
    "* the `Model` of `M` is a sub-model of the `Model` of `M'`;\n",
    "* the `Layout` of `M` is a sub-layout of the `Layout` of `M'`;\n",
    "* and the `LayoutModelMapping` of `M` is a sub-mapping of the `LayoutModelMapping` of `M'`.\n"
   ]
  },
  {
   "cell_type": "markdown",
   "id": "c692e720",
   "metadata": {},
   "source": [
    "### Example 1"
   ]
  },
  {
   "cell_type": "code",
   "execution_count": 16,
   "id": "6d96c945",
   "metadata": {},
   "outputs": [
    {
     "data": {
      "image/png": "[encoded data removed]",
      "text/plain": [
       "Image(600, 450, ColorType.kBGRA_8888_ColorType, AlphaType.kPremul_AlphaType)"
      ]
     },
     "metadata": {},
     "output_type": "display_data"
    }
   ],
   "source": [
    "m1 = momapy.io.read(\"phospho1.sbgn\")\n",
    "display(m1)"
   ]
  },
  {
   "cell_type": "code",
   "execution_count": 17,
   "id": "7458590e",
   "metadata": {
    "scrolled": true
   },
   "outputs": [
    {
     "data": {
      "image/png": "[encoded data removed]",
      "text/plain": [
       "Image(600, 450, ColorType.kBGRA_8888_ColorType, AlphaType.kPremul_AlphaType)"
      ]
     },
     "metadata": {},
     "output_type": "display_data"
    }
   ],
   "source": [
    "m3 = momapy.io.read(\"phospho3.sbgn\")\n",
    "display(m3)"
   ]
  },
  {
   "cell_type": "markdown",
   "id": "60debce1",
   "metadata": {},
   "source": [
    "The second map is an excerpt of the first map:"
   ]
  },
  {
   "cell_type": "code",
   "execution_count": 18,
   "id": "00e0e61c",
   "metadata": {},
   "outputs": [],
   "source": [
    "assert m3.is_submap(m1)\n",
    "assert m3.model.is_submodel(m1.model)\n",
    "assert m3.layout.is_sublayout(m1.layout)\n",
    "assert m3.layout_model_mapping.is_submapping(m1.layout_model_mapping)"
   ]
  },
  {
   "cell_type": "markdown",
   "id": "d72eddac",
   "metadata": {},
   "source": [
    "### Example 2"
   ]
  },
  {
   "cell_type": "code",
   "execution_count": 19,
   "id": "f0bb406e",
   "metadata": {
    "scrolled": true
   },
   "outputs": [
    {
     "data": {
      "image/png": "[encoded data removed]",
      "text/plain": [
       "Image(600, 450, ColorType.kBGRA_8888_ColorType, AlphaType.kPremul_AlphaType)"
      ]
     },
     "metadata": {},
     "output_type": "display_data"
    }
   ],
   "source": [
    "m4 = momapy.io.read(\"phospho4.sbgn\")\n",
    "display(m4)"
   ]
  },
  {
   "cell_type": "markdown",
   "id": "e36b506f",
   "metadata": {},
   "source": [
    "Because of the compartment, the model of the first map is not an excerpt of the model of the second map.\n",
    "However, the layout of the first map is an excerpt of the layout of the second map:"
   ]
  },
  {
   "cell_type": "code",
   "execution_count": 20,
   "id": "b6efa2dd",
   "metadata": {},
   "outputs": [],
   "source": [
    "assert not m3.is_submap(m4)\n",
    "assert not m3.model.is_submodel(m4.model)\n",
    "assert m3.layout.is_sublayout(m4.layout)\n",
    "assert not m3.layout_model_mapping.is_submapping(m4.layout_model_mapping)"
   ]
  },
  {
   "cell_type": "markdown",
   "id": "773c88d7",
   "metadata": {},
   "source": [
    "# Frozen and builder objects"
   ]
  },
  {
   "cell_type": "markdown",
   "id": "ce64b4c9",
   "metadata": {},
   "source": [
    "`Map`, `Model`, `Layout`, `ModelElement` and `LayoutElement` objects cannot be modified; they are frozen:"
   ]
  },
  {
   "cell_type": "code",
   "execution_count": 21,
   "id": "e732195e",
   "metadata": {
    "scrolled": true
   },
   "outputs": [
    {
     "data": {
      "image/png": "[encoded data removed]",
      "text/plain": [
       "Image(600, 450, ColorType.kBGRA_8888_ColorType, AlphaType.kPremul_AlphaType)"
      ]
     },
     "metadata": {},
     "output_type": "display_data"
    }
   ],
   "source": [
    "m = momapy.io.read(\"phospho1.sbgn\")\n",
    "display(m)"
   ]
  },
  {
   "cell_type": "code",
   "execution_count": 22,
   "id": "1d011ff9",
   "metadata": {},
   "outputs": [
    {
     "data": {
      "image/png": "[encoded data removed]",
      "text/plain": [
       "Image(600, 450, ColorType.kBGRA_8888_ColorType, AlphaType.kPremul_AlphaType)"
      ]
     },
     "metadata": {},
     "output_type": "display_data"
    }
   ],
   "source": [
    "for l in m.layout.layout_elements:\n",
    "    break\n",
    "display(l)"
   ]
  },
  {
   "cell_type": "code",
   "execution_count": 23,
   "id": "552f76f2",
   "metadata": {},
   "outputs": [
    {
     "name": "stdout",
     "output_type": "stream",
     "text": [
      "cannot assign to field 'stroke_width'\n"
     ]
    }
   ],
   "source": [
    "try:\n",
    "    l.stroke_width = 3.0\n",
    "except Exception as e:\n",
    "    print(e)"
   ]
  },
  {
   "cell_type": "markdown",
   "id": "583e2a4e",
   "metadata": {},
   "source": [
    "This way they can be hashed, which is necessary to check whether a `Map` object belongs to a `set` efficiently, for example.\n",
    "However, we want to be able to modify them programmatically (e.g., change the stroke width of a shape).\n",
    "To this end, each class has a corresponding builder class, that allows the production of objects that are not frozen.\n",
    "Such objects may be built directly from the frozen objects:"
   ]
  },
  {
   "cell_type": "code",
   "execution_count": 24,
   "id": "afec3426",
   "metadata": {
    "scrolled": true
   },
   "outputs": [
    {
     "name": "stdout",
     "output_type": "stream",
     "text": [
      "\u001b[30m<class 'abc.MacromoleculeLayoutBuilder'>\u001b[31m: MacromoleculeLayoutBuilder(id=...\u001b[0m\n",
      "  \u001b[34m* id\u001b[35m: <class 'str'> = \u001b[31mglyph2\u001b[0m\n",
      "  \u001b[34m* layout_elements\u001b[35m: momapy.core.TupleBuilder[abc.LayoutElementBuilder] = \u001b[31m[StateVariableLayoutBuilder(id...\u001b[0m\n",
      "  \u001b[34m* stroke\u001b[35m: typing.Union[abc.ColorBuilder, momapy.drawing.NoneValueType, NoneType] = \u001b[31mColorBuilder(red=0, green=0, b...\u001b[0m\n",
      "  \u001b[34m* stroke_width\u001b[35m: typing.Optional[float] = \u001b[31m1.0\u001b[0m\n",
      "  \u001b[34m* stroke_dasharray\u001b[35m: typing.Union[momapy.drawing.NoneValueType, momapy.core.TupleBuilder[float], NoneType] = \u001b[31m<momapy.drawing.NoneValueType ...\u001b[0m\n",
      "  \u001b[34m* stroke_dashoffset\u001b[35m: typing.Optional[float] = \u001b[31m0.0\u001b[0m\n",
      "  \u001b[34m* fill\u001b[35m: typing.Union[abc.ColorBuilder, momapy.drawing.NoneValueType, NoneType] = \u001b[31mColorBuilder(red=255, green=25...\u001b[0m\n",
      "  \u001b[34m* transform\u001b[35m: typing.Union[momapy.drawing.NoneValueType, momapy.core.TupleBuilder[abc.TransformationBuilder], NoneType] = \u001b[31m<momapy.drawing.NoneValueType ...\u001b[0m\n",
      "  \u001b[34m* filter\u001b[35m: typing.Union[momapy.drawing.NoneValueType, abc.FilterBuilder, NoneType] = \u001b[31m<momapy.drawing.NoneValueType ...\u001b[0m\n",
      "  \u001b[34m* position\u001b[35m: typing.Optional[abc.PointBuilder] = \u001b[31mPointBuilder(x=85.0, y=270.0)\u001b[0m\n",
      "  \u001b[34m* width\u001b[35m: <class 'float'> = \u001b[31m108.0\u001b[0m\n",
      "  \u001b[34m* height\u001b[35m: <class 'float'> = \u001b[31m60.0\u001b[0m\n",
      "  \u001b[34m* label\u001b[35m: typing.Optional[abc.TextLayoutBuilder] = \u001b[31mTextLayoutBuilder(id=UUID('ccd...\u001b[0m\n",
      "  \u001b[34m* rounded_corners\u001b[35m: <class 'float'> = \u001b[31m10.0\u001b[0m\n"
     ]
    }
   ],
   "source": [
    "lb = momapy.builder.builder_from_object(l)\n",
    "momapy.utils.pretty_print(lb)"
   ]
  },
  {
   "cell_type": "code",
   "execution_count": 25,
   "id": "8341f760",
   "metadata": {
    "scrolled": true
   },
   "outputs": [
    {
     "data": {
      "image/png": "[encoded data removed]",
      "text/plain": [
       "Image(600, 450, ColorType.kBGRA_8888_ColorType, AlphaType.kPremul_AlphaType)"
      ]
     },
     "metadata": {},
     "output_type": "display_data"
    }
   ],
   "source": [
    "lb.stroke_width = 3.0\n",
    "display(lb)"
   ]
  },
  {
   "cell_type": "markdown",
   "id": "d0ce792b",
   "metadata": {},
   "source": [
    "The frozen object may then be built back from the builder:"
   ]
  },
  {
   "cell_type": "code",
   "execution_count": 26,
   "id": "3c0db12b",
   "metadata": {},
   "outputs": [],
   "source": [
    "l = momapy.builder.object_from_builder(lb)"
   ]
  },
  {
   "cell_type": "code",
   "execution_count": 27,
   "id": "a4cf8aab",
   "metadata": {},
   "outputs": [],
   "source": [
    "assert l.stroke_width == 3.0"
   ]
  },
  {
   "cell_type": "markdown",
   "id": "213991ff",
   "metadata": {},
   "source": [
    "The builder version of a map may be returned directly when reading the SBGN-ML file:"
   ]
  },
  {
   "cell_type": "code",
   "execution_count": 28,
   "id": "ec413fc0",
   "metadata": {
    "scrolled": false
   },
   "outputs": [
    {
     "name": "stdout",
     "output_type": "stream",
     "text": [
      "\u001b[30m<class 'abc.SBGNPDMapBuilder'>\u001b[31m: SBGNPDMapBuilder(id=UUID('4304...\u001b[0m\n",
      "  \u001b[34m* id\u001b[35m: <class 'str'> = \u001b[31m430436e7-0d03-43e9-b738-3ab6eb...\u001b[0m\n",
      "  \u001b[34m* model\u001b[35m: typing.Optional[abc.SBGNPDModelBuilder] = \u001b[31mSBGNPDModelBuilder(id=UUID('b5...\u001b[0m\n",
      "  \u001b[34m* layout\u001b[35m: typing.Optional[abc.SBGNPDLayoutBuilder] = \u001b[31mSBGNPDLayoutBuilder(id=UUID('d...\u001b[0m\n",
      "  \u001b[34m* layout_model_mapping\u001b[35m: typing.Optional[momapy.core.LayoutModelMappingBuilder] = \u001b[31mLayoutModelMappingBuilder(_sin...\u001b[0m\n",
      "  \u001b[34m* notes\u001b[35m: typing.Optional[str] = \u001b[31mNone\u001b[0m\n",
      "  \u001b[34m* annotations\u001b[35m: momapy.core.FrozensetBuilder[abc.AnnotationBuilder] = \u001b[31mFrozensetBuilder()\u001b[0m\n"
     ]
    }
   ],
   "source": [
    "mb = momapy.io.read(\"phospho1.sbgn\", return_builder=True)\n",
    "momapy.utils.pretty_print(mb)"
   ]
  },
  {
   "cell_type": "markdown",
   "id": "d3164b20",
   "metadata": {},
   "source": [
    "# Rendering"
   ]
  },
  {
   "cell_type": "code",
   "execution_count": 29,
   "id": "adbf65dc",
   "metadata": {
    "scrolled": true
   },
   "outputs": [
    {
     "data": {
      "image/png": "[encoded data removed]",
      "text/plain": [
       "Image(600, 450, ColorType.kBGRA_8888_ColorType, AlphaType.kPremul_AlphaType)"
      ]
     },
     "metadata": {},
     "output_type": "display_data"
    }
   ],
   "source": [
    "m = momapy.io.read(\"phospho1.sbgn\")\n",
    "display(m)"
   ]
  },
  {
   "cell_type": "markdown",
   "id": "edbafeca",
   "metadata": {},
   "source": [
    "`Map`s can be rendered in different formats using a simple render function:"
   ]
  },
  {
   "cell_type": "code",
   "execution_count": 30,
   "id": "3ac9923f",
   "metadata": {},
   "outputs": [],
   "source": [
    "momapy.rendering.core.render_map(m, \"phospho1.pdf\", format_=\"pdf\")\n",
    "momapy.rendering.core.render_map(m, \"phospho1.png\", format_=\"png\")\n",
    "momapy.rendering.core.render_map(m, \"phospho1.svg\", format_=\"svg\")\n",
    "momapy.rendering.core.render_map(m, \"phospho1.webp\", format_=\"webp\")\n",
    "momapy.rendering.core.render_map(m, \"phospho1.jpeg\", format_=\"jpeg\")"
   ]
  },
  {
   "cell_type": "markdown",
   "id": "28043481",
   "metadata": {},
   "source": [
    "`MapLayout`s can be moved to the top left using the `top_left` option:"
   ]
  },
  {
   "cell_type": "code",
   "execution_count": 31,
   "id": "6c9f3f1b",
   "metadata": {},
   "outputs": [],
   "source": [
    "momapy.rendering.core.render_map(m, \"phospho1.pdf\", format_=\"pdf\", to_top_left=True)"
   ]
  },
  {
   "cell_type": "code",
   "execution_count": 32,
   "id": "5ed85f8a",
   "metadata": {},
   "outputs": [],
   "source": [
    "m1 = momapy.io.read(\"phospho1.sbgn\")\n",
    "m2 = momapy.io.read(\"phospho2.sbgn\")\n",
    "m3 = momapy.io.read(\"phospho3.sbgn\")\n",
    "m4 = momapy.io.read(\"phospho4.sbgn\")"
   ]
  },
  {
   "cell_type": "markdown",
   "id": "cef098b0",
   "metadata": {},
   "source": [
    "Multiple `Map`s can be rendered in one document using a simple function:"
   ]
  },
  {
   "cell_type": "code",
   "execution_count": 33,
   "id": "abd22ed0",
   "metadata": {},
   "outputs": [],
   "source": [
    "momapy.rendering.core.render_maps([m1, m2, m3, m4], \"phospho_multi.pdf\", format_=\"pdf\", multi_pages=True)"
   ]
  },
  {
   "cell_type": "markdown",
   "id": "f1202803",
   "metadata": {},
   "source": [
    "# Styling"
   ]
  },
  {
   "cell_type": "markdown",
   "id": "09b682d0",
   "metadata": {},
   "source": [
    "## Styling `LayoutElement` objects"
   ]
  },
  {
   "cell_type": "markdown",
   "id": "dd6e0594",
   "metadata": {},
   "source": [
    "### Basic styling"
   ]
  },
  {
   "cell_type": "markdown",
   "id": "35a84679",
   "metadata": {},
   "source": [
    "Basic styling can be easily applied to `LayoutElement`s:"
   ]
  },
  {
   "cell_type": "code",
   "execution_count": 34,
   "id": "a3b2b088",
   "metadata": {
    "scrolled": true
   },
   "outputs": [
    {
     "data": {
      "image/png": "[encoded data removed]",
      "text/plain": [
       "Image(600, 450, ColorType.kBGRA_8888_ColorType, AlphaType.kPremul_AlphaType)"
      ]
     },
     "metadata": {},
     "output_type": "display_data"
    }
   ],
   "source": [
    "mb = momapy.io.read(\"phospho1.sbgn\", return_builder=True)\n",
    "display(mb)"
   ]
  },
  {
   "cell_type": "code",
   "execution_count": 35,
   "id": "b16e3ecb",
   "metadata": {
    "scrolled": true
   },
   "outputs": [
    {
     "data": {
      "image/png": "[encoded data removed]",
      "text/plain": [
       "Image(600, 450, ColorType.kBGRA_8888_ColorType, AlphaType.kPremul_AlphaType)"
      ]
     },
     "metadata": {},
     "output_type": "display_data"
    }
   ],
   "source": [
    "for lb in mb.layout.layout_elements:\n",
    "    break\n",
    "display(lb)"
   ]
  },
  {
   "cell_type": "code",
   "execution_count": 36,
   "id": "d9b09ecb",
   "metadata": {
    "scrolled": true
   },
   "outputs": [
    {
     "data": {
      "image/png": "[encoded data removed]",
      "text/plain": [
       "Image(600, 450, ColorType.kBGRA_8888_ColorType, AlphaType.kPremul_AlphaType)"
      ]
     },
     "metadata": {},
     "output_type": "display_data"
    }
   ],
   "source": [
    "lb.fill = momapy.coloring.lightblue\n",
    "lb.stroke = momapy.coloring.brown\n",
    "lb.stroke_width = 3.0\n",
    "lb.stroke_dasharray = (5, 5)\n",
    "display(lb)"
   ]
  },
  {
   "cell_type": "markdown",
   "id": "b2fed192",
   "metadata": {},
   "source": [
    "The `label` of a `NodeLayout` can also be styled:"
   ]
  },
  {
   "cell_type": "code",
   "execution_count": 37,
   "id": "be181f0c",
   "metadata": {},
   "outputs": [
    {
     "data": {
      "image/png": "[encoded data removed]",
      "text/plain": [
       "Image(600, 450, ColorType.kBGRA_8888_ColorType, AlphaType.kPremul_AlphaType)"
      ]
     },
     "metadata": {},
     "output_type": "display_data"
    }
   ],
   "source": [
    "lb.label.font_family = \"Times\"\n",
    "lb.label.font_size = 30.0\n",
    "lb.label.font_color = momapy.coloring.red\n",
    "display(lb)"
   ]
  },
  {
   "cell_type": "markdown",
   "id": "2d1eda11",
   "metadata": {},
   "source": [
    "### Advanced styling"
   ]
  },
  {
   "cell_type": "markdown",
   "id": "1de530f1",
   "metadata": {},
   "source": [
    "Advanced effects such as transformations (translation, rotation, ...) and filter effects can be applied to `LayoutElement`s:"
   ]
  },
  {
   "cell_type": "code",
   "execution_count": 38,
   "id": "7d3c5350",
   "metadata": {
    "scrolled": true
   },
   "outputs": [
    {
     "data": {
      "image/png": "[encoded data removed]",
      "text/plain": [
       "Image(600, 450, ColorType.kBGRA_8888_ColorType, AlphaType.kPremul_AlphaType)"
      ]
     },
     "metadata": {},
     "output_type": "display_data"
    }
   ],
   "source": [
    "lb.transform = (momapy.geometry.Scaling(2, 1), momapy.geometry.Rotation(0.5, lb.position),)\n",
    "lb.filter = momapy.drawing.Filter(effects=(momapy.drawing.DropShadowEffect(dx=3.0, dy=3.0, std_deviation=5.0, flood_opacity=0.5, flood_color=momapy.coloring.blue),))\n",
    "display(lb)"
   ]
  },
  {
   "cell_type": "markdown",
   "id": "db745e83",
   "metadata": {},
   "source": [
    "## CSS-like style sheets"
   ]
  },
  {
   "cell_type": "markdown",
   "id": "bce267b9",
   "metadata": {},
   "source": [
    "Styles may be applied to a `Map` using a `StyleSheet`. A `StyleSheet` can be built from a text document whose syntax is a subset of the CSS syntax."
   ]
  },
  {
   "cell_type": "code",
   "execution_count": 39,
   "id": "6dda91e5",
   "metadata": {
    "scrolled": true
   },
   "outputs": [
    {
     "data": {
      "image/png": "[encoded data removed]",
      "text/plain": [
       "Image(600, 450, ColorType.kBGRA_8888_ColorType, AlphaType.kPremul_AlphaType)"
      ]
     },
     "metadata": {},
     "output_type": "display_data"
    }
   ],
   "source": [
    "mb = momapy.io.read(\"phospho1.sbgn\", return_builder=True)\n",
    "display(mb)"
   ]
  },
  {
   "cell_type": "markdown",
   "id": "5e69c1c4",
   "metadata": {},
   "source": [
    "There are pre-built `StyleSheet` objects for Vanted and Newt-like styles, for colors, and for shadows:"
   ]
  },
  {
   "cell_type": "code",
   "execution_count": 40,
   "id": "fd3ac6fa",
   "metadata": {
    "scrolled": true
   },
   "outputs": [
    {
     "data": {
      "image/png": "[encoded data removed]",
      "text/plain": [
       "Image(600, 450, ColorType.kBGRA_8888_ColorType, AlphaType.kPremul_AlphaType)"
      ]
     },
     "metadata": {},
     "output_type": "display_data"
    }
   ],
   "source": [
    "momapy.styling.apply_style_sheet(mb, momapy.sbgn.styling.newt)\n",
    "display(mb)"
   ]
  },
  {
   "cell_type": "markdown",
   "id": "79f42511",
   "metadata": {},
   "source": [
    "Applying a `StyleSheet` to a `Map` may change the size of the nodes.\n",
    "Some simple functions can be used to tidy the `Map`:"
   ]
  },
  {
   "cell_type": "code",
   "execution_count": 41,
   "id": "ce147ed4",
   "metadata": {},
   "outputs": [
    {
     "data": {
      "image/png": "[encoded data removed]",
      "text/plain": [
       "Image(600, 450, ColorType.kBGRA_8888_ColorType, AlphaType.kPremul_AlphaType)"
      ]
     },
     "metadata": {},
     "output_type": "display_data"
    }
   ],
   "source": [
    "momapy.sbgn.utils.newt_tidy(mb)\n",
    "display(mb)"
   ]
  },
  {
   "cell_type": "code",
   "execution_count": 42,
   "id": "a5698ae2",
   "metadata": {
    "scrolled": true
   },
   "outputs": [
    {
     "data": {
      "image/png": "[encoded data removed]",
      "text/plain": [
       "Image(600, 450, ColorType.kBGRA_8888_ColorType, AlphaType.kPremul_AlphaType)"
      ]
     },
     "metadata": {},
     "output_type": "display_data"
    }
   ],
   "source": [
    "momapy.styling.apply_style_sheet(mb, momapy.sbgn.styling.vanted)\n",
    "momapy.sbgn.utils.vanted_tidy(mb)\n",
    "display(mb)"
   ]
  },
  {
   "cell_type": "code",
   "execution_count": 43,
   "id": "4f4c17ae",
   "metadata": {
    "scrolled": false
   },
   "outputs": [
    {
     "data": {
      "image/png": "[encoded data removed]",
      "text/plain": [
       "Image(600, 450, ColorType.kBGRA_8888_ColorType, AlphaType.kPremul_AlphaType)"
      ]
     },
     "metadata": {},
     "output_type": "display_data"
    }
   ],
   "source": [
    "momapy.styling.apply_style_sheet(mb, momapy.sbgn.styling.default_colorscheme)\n",
    "display(mb)"
   ]
  },
  {
   "cell_type": "code",
   "execution_count": 44,
   "id": "84a98dbf",
   "metadata": {
    "scrolled": false
   },
   "outputs": [
    {
     "data": {
      "image/png": "[encoded data removed]",
      "text/plain": [
       "Image(600, 450, ColorType.kBGRA_8888_ColorType, AlphaType.kPremul_AlphaType)"
      ]
     },
     "metadata": {},
     "output_type": "display_data"
    }
   ],
   "source": [
    "momapy.styling.apply_style_sheet(mb, momapy.sbgn.styling.shadows)\n",
    "display(mb)"
   ]
  },
  {
   "cell_type": "markdown",
   "id": "045e9301",
   "metadata": {},
   "source": [
    "These pre-built `StyleSheet`s are built from CSS-like text files:"
   ]
  },
  {
   "cell_type": "code",
   "execution_count": 45,
   "id": "c5623af8",
   "metadata": {
    "scrolled": false
   },
   "outputs": [
    {
     "name": "stdout",
     "output_type": "stream",
     "text": [
      "TextLayout {\n",
      "    font-family: \"Cantarell\";\n",
      "    font-size: 14.0;\n",
      "    font-color: black;\n",
      "}\n",
      "\n",
      "MapLayout {\n",
      "    stroke: none;\n",
      "    stroke-width: 2.0;\n",
      "    fill: white;\n",
      "    filter: none;\n",
      "}\n",
      "\n",
      "CompartmentLayout {\n",
      "    stroke: black;\n",
      "    stroke-width: 7.0;\n",
      "    fill: white;\n",
      "    rounded-corners: 20.0;\n",
      "    filter: none;\n",
      "}\n",
      "\n",
      "GenericProcessLayout {\n",
      "    width: 24;\n",
      "    height: 24;\n",
      "    stroke: black;\n",
      "    stroke-width: 2.0;\n",
      "    fill: white;\n",
      "    left-connector-length: 10.0;\n",
      "    right-connector-length: 10.0;\n",
      "    left-connector-stroke-width: 1.5;\n",
      "    right-connector-stroke-width: 1.5;\n",
      "    filter: none;\n",
      "}\n",
      "\n",
      "UncertainProcessLayout {\n"
     ]
    }
   ],
   "source": [
    "with open(\"../sbgn/styling/vanted.css\") as f:\n",
    "    for line in f.readlines()[:35]:\n",
    "        print(line[:-1])"
   ]
  },
  {
   "cell_type": "markdown",
   "id": "a4a6436b",
   "metadata": {},
   "source": [
    "One may build a `StyleSheet` from a file and apply it to a `Map` with simple functions:"
   ]
  },
  {
   "cell_type": "code",
   "execution_count": 46,
   "id": "2050c913",
   "metadata": {
    "scrolled": true
   },
   "outputs": [
    {
     "data": {
      "image/png": "[encoded data removed]",
      "text/plain": [
       "Image(600, 450, ColorType.kBGRA_8888_ColorType, AlphaType.kPremul_AlphaType)"
      ]
     },
     "metadata": {},
     "output_type": "display_data"
    }
   ],
   "source": [
    "with open(\"my_style_sheet.css\", \"w\") as f:\n",
    "    f.write(\"\"\"\n",
    "    SBGNPDLayout {\n",
    "        stroke: red;\n",
    "        fill: lightyellow;\n",
    "    }\n",
    "    \n",
    "    MacromoleculeLayout {\n",
    "        fill: green;\n",
    "    }\n",
    "    \"\"\")\n",
    "my_style_sheet = momapy.styling.read_file(\"my_style_sheet.css\")\n",
    "momapy.styling.apply_style_sheet(mb, my_style_sheet)\n",
    "display(mb)"
   ]
  },
  {
   "cell_type": "markdown",
   "id": "cf07b397",
   "metadata": {},
   "source": [
    "# Automatic geometry and anchor points"
   ]
  },
  {
   "cell_type": "markdown",
   "id": "550f043c",
   "metadata": {},
   "source": [
    "## For `NodeLayout`s"
   ]
  },
  {
   "cell_type": "code",
   "execution_count": 47,
   "id": "0d6f1c55",
   "metadata": {
    "scrolled": false
   },
   "outputs": [
    {
     "data": {
      "image/png": "[encoded data removed]",
      "text/plain": [
       "Image(600, 450, ColorType.kBGRA_8888_ColorType, AlphaType.kPremul_AlphaType)"
      ]
     },
     "metadata": {},
     "output_type": "display_data"
    }
   ],
   "source": [
    "lb = macromolecule_toy()\n",
    "display(lb)"
   ]
  },
  {
   "cell_type": "markdown",
   "id": "aff7ba3f",
   "metadata": {},
   "source": [
    "### Cardinal points"
   ]
  },
  {
   "cell_type": "code",
   "execution_count": 48,
   "id": "07cb24f9",
   "metadata": {
    "scrolled": false
   },
   "outputs": [
    {
     "data": {
      "text/plain": [
       "Point(x=85.02983425275443, y=80.01491712637721)"
      ]
     },
     "execution_count": 48,
     "metadata": {},
     "output_type": "execute_result"
    }
   ],
   "source": [
    "lb.north_west()"
   ]
  },
  {
   "cell_type": "code",
   "execution_count": 49,
   "id": "303fbaaf",
   "metadata": {
    "scrolled": true
   },
   "outputs": [
    {
     "data": {
      "image/png": "[encoded data removed]",
      "text/plain": [
       "Image(600, 450, ColorType.kBGRA_8888_ColorType, AlphaType.kPremul_AlphaType)"
      ]
     },
     "metadata": {},
     "output_type": "display_data"
    }
   ],
   "source": [
    "display_at(lb, lb.north_west())"
   ]
  },
  {
   "cell_type": "markdown",
   "id": "08ffbf2e",
   "metadata": {},
   "source": [
    "All `NodeLayout`s have at least the following anchor points:\n",
    "* `north_west`\n",
    "* `north`\n",
    "* `north_east`\n",
    "* `east`\n",
    "* `south_east`\n",
    "* `south`\n",
    "* `south_west`\n",
    "* `west`\n",
    "* `center`\n",
    "* `label_center`"
   ]
  },
  {
   "cell_type": "code",
   "execution_count": 50,
   "id": "6ddacee6",
   "metadata": {},
   "outputs": [
    {
     "data": {
      "image/png": "[encoded data removed]",
      "text/plain": [
       "Image(600, 450, ColorType.kBGRA_8888_ColorType, AlphaType.kPremul_AlphaType)"
      ]
     },
     "metadata": {},
     "output_type": "display_data"
    }
   ],
   "source": [
    "show_room(momapy.sbgn.pd.MacromoleculeLayout)"
   ]
  },
  {
   "cell_type": "code",
   "execution_count": 51,
   "id": "b26c1842",
   "metadata": {
    "scrolled": true
   },
   "outputs": [
    {
     "data": {
      "image/png": "[encoded data removed]",
      "text/plain": [
       "Image(600, 450, ColorType.kBGRA_8888_ColorType, AlphaType.kPremul_AlphaType)"
      ]
     },
     "metadata": {},
     "output_type": "display_data"
    }
   ],
   "source": [
    "show_room(momapy.sbgn.pd.GenericProcessLayout)"
   ]
  },
  {
   "cell_type": "code",
   "execution_count": 52,
   "id": "ed8874a8",
   "metadata": {
    "scrolled": false
   },
   "outputs": [
    {
     "data": {
      "image/png": "[encoded data removed]",
      "text/plain": [
       "Image(600, 450, ColorType.kBGRA_8888_ColorType, AlphaType.kPremul_AlphaType)"
      ]
     },
     "metadata": {},
     "output_type": "display_data"
    }
   ],
   "source": [
    "show_room(momapy.sbgn.pd.ComplexMultimerLayout)"
   ]
  },
  {
   "cell_type": "markdown",
   "id": "dffe8216",
   "metadata": {},
   "source": [
    "### Angles"
   ]
  },
  {
   "cell_type": "code",
   "execution_count": 53,
   "id": "2edadf5a",
   "metadata": {
    "scrolled": false
   },
   "outputs": [
    {
     "data": {
      "text/plain": [
       "Point(x=181.69872981077808, y=75.0)"
      ]
     },
     "execution_count": 53,
     "metadata": {},
     "output_type": "execute_result"
    }
   ],
   "source": [
    "lb.self_angle(120)"
   ]
  },
  {
   "cell_type": "code",
   "execution_count": 59,
   "id": "fb5a2c71",
   "metadata": {
    "scrolled": false
   },
   "outputs": [
    {
     "data": {
      "image/png": "[encoded data removed]",
      "text/plain": [
       "Image(600, 450, ColorType.kBGRA_8888_ColorType, AlphaType.kPremul_AlphaType)"
      ]
     },
     "metadata": {},
     "output_type": "display_data"
    }
   ],
   "source": [
    "display_at(lb, lb.self_angle(130))"
   ]
  },
  {
   "cell_type": "code",
   "execution_count": 55,
   "id": "07140cb9",
   "metadata": {
    "scrolled": true
   },
   "outputs": [
    {
     "data": {
      "image/png": "[encoded data removed]",
      "text/plain": [
       "Image(600, 450, ColorType.kBGRA_8888_ColorType, AlphaType.kPremul_AlphaType)"
      ]
     },
     "metadata": {},
     "output_type": "display_data"
    }
   ],
   "source": [
    "show_room(momapy.sbgn.pd.MacromoleculeLayout, \"self_angle\")"
   ]
  },
  {
   "cell_type": "code",
   "execution_count": 56,
   "id": "500a1437",
   "metadata": {
    "scrolled": false
   },
   "outputs": [
    {
     "data": {
      "image/png": "[encoded data removed]",
      "text/plain": [
       "Image(600, 450, ColorType.kBGRA_8888_ColorType, AlphaType.kPremul_AlphaType)"
      ]
     },
     "metadata": {},
     "output_type": "display_data"
    }
   ],
   "source": [
    "display_at(lb, lb.angle(120))"
   ]
  },
  {
   "cell_type": "code",
   "execution_count": 57,
   "id": "fc5fa05f",
   "metadata": {
    "scrolled": true
   },
   "outputs": [
    {
     "data": {
      "image/png": "[encoded data removed]",
      "text/plain": [
       "Image(600, 450, ColorType.kBGRA_8888_ColorType, AlphaType.kPremul_AlphaType)"
      ]
     },
     "metadata": {},
     "output_type": "display_data"
    }
   ],
   "source": [
    "show_room(momapy.sbgn.pd.MacromoleculeLayout, \"angle\")"
   ]
  },
  {
   "cell_type": "markdown",
   "id": "8c04102f",
   "metadata": {},
   "source": [
    "## For `ArcLayout`s"
   ]
  },
  {
   "cell_type": "code",
   "execution_count": 58,
   "id": "eb00de35",
   "metadata": {},
   "outputs": [
    {
     "ename": "NameError",
     "evalue": "name 'StimulationLayoutBuilder' is not defined",
     "output_type": "error",
     "traceback": [
      "\u001b[0;31m---------------------------------------------------------------------------\u001b[0m",
      "\u001b[0;31mNameError\u001b[0m                                 Traceback (most recent call last)",
      "Cell \u001b[0;32mIn[58], line 1\u001b[0m\n\u001b[0;32m----> 1\u001b[0m s \u001b[38;5;241m=\u001b[39m \u001b[43mStimulationLayoutBuilder\u001b[49m(\n\u001b[1;32m      2\u001b[0m     segments\u001b[38;5;241m=\u001b[39m[momapy\u001b[38;5;241m.\u001b[39mgeometry\u001b[38;5;241m.\u001b[39mSegment(momapy\u001b[38;5;241m.\u001b[39mgeometry\u001b[38;5;241m.\u001b[39mPointBuilder(\u001b[38;5;241m50\u001b[39m, \u001b[38;5;241m220\u001b[39m), momapy\u001b[38;5;241m.\u001b[39mgeometry\u001b[38;5;241m.\u001b[39mPointBuilder(\u001b[38;5;241m400\u001b[39m, \u001b[38;5;241m30\u001b[39m))],\n\u001b[1;32m      3\u001b[0m     width\u001b[38;5;241m=\u001b[39m\u001b[38;5;241m30\u001b[39m,\n\u001b[1;32m      4\u001b[0m     height\u001b[38;5;241m=\u001b[39m\u001b[38;5;241m30\u001b[39m,\n\u001b[1;32m      5\u001b[0m     stroke_width\u001b[38;5;241m=\u001b[39m\u001b[38;5;241m1\u001b[39m,\n\u001b[1;32m      6\u001b[0m     stroke\u001b[38;5;241m=\u001b[39mmomapy\u001b[38;5;241m.\u001b[39mcoloring\u001b[38;5;241m.\u001b[39mblack,\n\u001b[1;32m      7\u001b[0m )\n",
      "\u001b[0;31mNameError\u001b[0m: name 'StimulationLayoutBuilder' is not defined"
     ]
    }
   ],
   "source": [
    "s = StimulationLayoutBuilder(\n",
    "    segments=[momapy.geometry.Segment(momapy.geometry.PointBuilder(50, 220), momapy.geometry.PointBuilder(400, 30))],\n",
    "    width=30,\n",
    "    height=30,\n",
    "    stroke_width=1,\n",
    "    stroke=momapy.coloring.black,\n",
    ")"
   ]
  },
  {
   "cell_type": "code",
   "execution_count": null,
   "id": "97ba24cf",
   "metadata": {
    "scrolled": false
   },
   "outputs": [],
   "source": [
    "mb = momapy.io.read(\"phospho1.sbgn\", return_builder=True)\n",
    "for lb in mb.layout.layout_elements:\n",
    "    break\n",
    "display(lb)"
   ]
  },
  {
   "cell_type": "code",
   "execution_count": null,
   "id": "608f035c",
   "metadata": {
    "scrolled": false
   },
   "outputs": [],
   "source": []
  },
  {
   "cell_type": "code",
   "execution_count": null,
   "id": "7b9b4ea5",
   "metadata": {
    "scrolled": true
   },
   "outputs": [],
   "source": [
    "s.fraction(0.3)"
   ]
  },
  {
   "cell_type": "code",
   "execution_count": null,
   "id": "59801727",
   "metadata": {
    "scrolled": true
   },
   "outputs": [],
   "source": [
    "cross_point.position = s.fraction(0.3)[0]\n",
    "s.add_element(cross_point)\n",
    "display(s)"
   ]
  },
  {
   "cell_type": "code",
   "execution_count": null,
   "id": "43e94d33",
   "metadata": {},
   "outputs": [],
   "source": [
    "s.layout_elements.clear()"
   ]
  },
  {
   "cell_type": "code",
   "execution_count": null,
   "id": "f65c42be",
   "metadata": {
    "scrolled": true
   },
   "outputs": [],
   "source": [
    "c = CardinalityLayoutBuilder(\n",
    "    width=90,\n",
    "    height=45,\n",
    ")\n",
    "position, angle = s.fraction(0.3)\n",
    "c.position = position\n",
    "c.transform = tuple([momapy.geometry.Rotation(angle, position)])\n",
    "s.add_element(c)\n",
    "display(s)"
   ]
  },
  {
   "cell_type": "code",
   "execution_count": null,
   "id": "c0b12481",
   "metadata": {
    "scrolled": true
   },
   "outputs": [],
   "source": [
    "label = momapy.core.TextLayoutBuilder(\n",
    "    text=\"N\",\n",
    "    font_family=\"Arial\",\n",
    "    font_size=18,\n",
    "    position=c.label_center()\n",
    ")\n",
    "c.label = label\n",
    "display(s)"
   ]
  },
  {
   "cell_type": "code",
   "execution_count": null,
   "id": "42829f0f",
   "metadata": {
    "scrolled": false
   },
   "outputs": [],
   "source": [
    "momapy.positioning.set_fraction_of(c, s, 0.3, anchor=\"south\")\n",
    "c.label.position = c.label_center()\n",
    "display(s)"
   ]
  },
  {
   "cell_type": "code",
   "execution_count": null,
   "id": "188f5cca",
   "metadata": {},
   "outputs": [],
   "source": [
    "class MyTriangle(momapy.core.NodeLayout):\n",
    "    \n",
    "    def border_drawing_element(self):\n",
    "        path = momapy.drawing.Path()\n",
    "        path += momapy.drawing.move_to(self.position - (0, self.height / 2)) # top\n",
    "        path += momapy.drawing.line_to(self.position + (self.width / 2, self.height / 2)) # bottom right\n",
    "        path += momapy.drawing.line_to(self.position + (-self.width / 2, self.height / 2)) # bottom left\n",
    "        path += momapy.drawing.close()\n",
    "        return path\n",
    "\n"
   ]
  },
  {
   "cell_type": "code",
   "execution_count": null,
   "id": "a79b98ea",
   "metadata": {},
   "outputs": [],
   "source": [
    "show_room(MyTriangle)"
   ]
  },
  {
   "cell_type": "code",
   "execution_count": null,
   "id": "2b08e972",
   "metadata": {},
   "outputs": [],
   "source": [
    "show_room(MyTriangle, \"self_angle\")"
   ]
  },
  {
   "cell_type": "code",
   "execution_count": null,
   "id": "01964042",
   "metadata": {},
   "outputs": [],
   "source": []
  },
  {
   "cell_type": "code",
   "execution_count": null,
   "id": "333e3929",
   "metadata": {},
   "outputs": [],
   "source": []
  },
  {
   "cell_type": "code",
   "execution_count": null,
   "id": "e0fe9394",
   "metadata": {},
   "outputs": [],
   "source": []
  },
  {
   "cell_type": "code",
   "execution_count": null,
   "id": "041d5ce0",
   "metadata": {},
   "outputs": [],
   "source": []
  },
  {
   "cell_type": "code",
   "execution_count": null,
   "id": "9dfa2ba8",
   "metadata": {},
   "outputs": [],
   "source": []
  },
  {
   "cell_type": "code",
   "execution_count": null,
   "id": "c412dd9e",
   "metadata": {},
   "outputs": [],
   "source": []
  },
  {
   "cell_type": "code",
   "execution_count": null,
   "id": "9f3c3a60",
   "metadata": {},
   "outputs": [],
   "source": []
  },
  {
   "cell_type": "code",
   "execution_count": null,
   "id": "8d91a4b4",
   "metadata": {},
   "outputs": [],
   "source": []
  },
  {
   "cell_type": "code",
   "execution_count": null,
   "id": "19cc4e4c",
   "metadata": {},
   "outputs": [],
   "source": []
  }
 ],
 "metadata": {
  "kernelspec": {
   "display_name": "my-virtualenv-name",
   "language": "python",
   "name": "my-virtualenv-name"
  },
  "language_info": {
   "codemirror_mode": {
    "name": "ipython",
    "version": 3
   },
   "file_extension": ".py",
   "mimetype": "text/x-python",
   "name": "python",
   "nbconvert_exporter": "python",
   "pygments_lexer": "ipython3",
   "version": "3.11.3"
  }
 },
 "nbformat": 4,
 "nbformat_minor": 5
}
