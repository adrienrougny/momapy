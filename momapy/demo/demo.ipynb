{
 "cells": [
  {
   "cell_type": "markdown",
   "id": "b188df16",
   "metadata": {},
   "source": [
    "# momapy: a python library for molecular maps"
   ]
  },
  {
   "cell_type": "code",
   "execution_count": 1,
   "id": "71b516ba",
   "metadata": {},
   "outputs": [],
   "source": [
    "import momapy.sbgn.io\n",
    "import momapy.sbgn.styling\n",
    "import momapy.sbgn.utils\n",
    "import momapy.rendering.skia\n",
    "import momapy.builder\n",
    "import momapy.coloring\n",
    "import momapy.styling"
   ]
  },
  {
   "cell_type": "code",
   "execution_count": 2,
   "id": "ce745d1b",
   "metadata": {},
   "outputs": [
    {
     "name": "stdout",
     "output_type": "stream",
     "text": [
      "\u001b[38;2;128;0;0mmaroon\n",
      "\u001b[38;2;139;0;0mdarkred\n",
      "\u001b[38;2;165;42;42mbrown\n",
      "\u001b[38;2;178;34;34mfirebrick\n",
      "\u001b[38;2;220;20;60mcrimson\n",
      "\u001b[38;2;255;0;0mred\n",
      "\u001b[38;2;255;99;71mtomato\n",
      "\u001b[38;2;255;127;80mcoral\n",
      "\u001b[38;2;205;92;92mindianred\n",
      "\u001b[38;2;240;128;128mlightcoral\n",
      "\u001b[38;2;233;150;122mdarksalmon\n",
      "\u001b[38;2;250;128;114msalmon\n",
      "\u001b[38;2;255;160;122mlightsalmon\n",
      "\u001b[38;2;255;69;0morangered\n",
      "\u001b[38;2;255;140;0mdarkorange\n",
      "\u001b[38;2;255;165;0morange\n",
      "\u001b[38;2;255;215;0mgold\n",
      "\u001b[38;2;184;134;11mdarkgoldenrod\n",
      "\u001b[38;2;218;165;32mgoldenrod\n",
      "\u001b[38;2;238;232;170mpalegoldenrod\n",
      "\u001b[38;2;189;183;107mdarkkhaki\n",
      "\u001b[38;2;240;230;140mkhaki\n",
      "\u001b[38;2;128;128;0molive\n",
      "\u001b[38;2;255;255;0myellow\n",
      "\u001b[38;2;154;205;50myellowgreen\n",
      "\u001b[38;2;85;107;47mdarkolivegreen\n",
      "\u001b[38;2;107;142;35molivedrab\n",
      "\u001b[38;2;124;252;0mlawngreen\n",
      "\u001b[38;2;127;255;0mchartreuse\n",
      "\u001b[38;2;173;255;47mgreenyellow\n",
      "\u001b[38;2;0;100;0mdarkgreen\n",
      "\u001b[38;2;0;128;0mgreen\n",
      "\u001b[38;2;34;139;34mforestgreen\n",
      "\u001b[38;2;0;255;0mlime\n",
      "\u001b[38;2;50;205;50mlimegreen\n",
      "\u001b[38;2;144;238;144mlightgreen\n",
      "\u001b[38;2;152;251;152mpalegreen\n",
      "\u001b[38;2;143;188;143mdarkseagreen\n",
      "\u001b[38;2;0;250;154mmediumspringgreen\n",
      "\u001b[38;2;0;255;127mspringgreen\n",
      "\u001b[38;2;46;139;87mseagreen\n",
      "\u001b[38;2;102;205;170mmediumaquamarine\n",
      "\u001b[38;2;60;179;113mmediumseagreen\n",
      "\u001b[38;2;32;178;170mlightseagreen\n",
      "\u001b[38;2;47;79;79mdarkslategray\n",
      "\u001b[38;2;0;128;128mteal\n",
      "\u001b[38;2;0;139;139mdarkcyan\n",
      "\u001b[38;2;0;255;255maqua\n",
      "\u001b[38;2;0;255;255mcyan\n",
      "\u001b[38;2;224;255;255mlightcyan\n",
      "\u001b[38;2;0;206;209mdarkturquoise\n",
      "\u001b[38;2;64;224;208mturquoise\n",
      "\u001b[38;2;72;209;204mmediumturquoise\n",
      "\u001b[38;2;175;238;238mpaleturquoise\n",
      "\u001b[38;2;127;255;212maquamarine\n",
      "\u001b[38;2;176;224;230mpowderblue\n",
      "\u001b[38;2;95;158;160mcadetblue\n",
      "\u001b[38;2;70;130;180msteelblue\n",
      "\u001b[38;2;100;149;237mcornflowerblue\n",
      "\u001b[38;2;0;191;255mdeepskyblue\n",
      "\u001b[38;2;30;144;255mdodgerblue\n",
      "\u001b[38;2;173;216;230mlightblue\n",
      "\u001b[38;2;135;206;235mskyblue\n",
      "\u001b[38;2;135;206;250mlightskyblue\n",
      "\u001b[38;2;25;25;112mmidnightblue\n",
      "\u001b[38;2;0;0;128mnavy\n",
      "\u001b[38;2;0;0;139mdarkblue\n",
      "\u001b[38;2;0;0;205mmediumblue\n",
      "\u001b[38;2;0;0;255mblue\n",
      "\u001b[38;2;65;105;225mroyalblue\n",
      "\u001b[38;2;138;43;226mblueviolet\n",
      "\u001b[38;2;75;0;130mindigo\n",
      "\u001b[38;2;72;61;139mdarkslateblue\n",
      "\u001b[38;2;106;90;205mslateblue\n",
      "\u001b[38;2;123;104;238mmediumslateblue\n",
      "\u001b[38;2;147;112;219mmediumpurple\n",
      "\u001b[38;2;139;0;139mdarkmagenta\n",
      "\u001b[38;2;148;0;211mdarkviolet\n",
      "\u001b[38;2;153;50;204mdarkorchid\n",
      "\u001b[38;2;186;85;211mmediumorchid\n",
      "\u001b[38;2;128;0;128mpurple\n",
      "\u001b[38;2;216;191;216mthistle\n",
      "\u001b[38;2;221;160;221mplum\n",
      "\u001b[38;2;238;130;238mviolet\n",
      "\u001b[38;2;255;0;255mmagenta\n",
      "\u001b[38;2;255;0;255mfuchsia\n",
      "\u001b[38;2;218;112;214morchid\n",
      "\u001b[38;2;199;21;133mmediumvioletred\n",
      "\u001b[38;2;219;112;147mpalevioletred\n",
      "\u001b[38;2;255;20;147mdeeppink\n",
      "\u001b[38;2;255;105;180mhotpink\n",
      "\u001b[38;2;255;182;193mlightpink\n",
      "\u001b[38;2;255;192;203mpink\n",
      "\u001b[38;2;250;235;215mantiquewhite\n",
      "\u001b[38;2;245;245;220mbeige\n",
      "\u001b[38;2;255;228;196mbisque\n",
      "\u001b[38;2;255;235;205mblanchedalmond\n",
      "\u001b[38;2;245;222;179mwheat\n",
      "\u001b[38;2;255;248;220mcornsilk\n",
      "\u001b[38;2;255;250;205mlemonchiffon\n",
      "\u001b[38;2;250;250;210mlightgoldenrodyellow\n",
      "\u001b[38;2;255;255;224mlightyellow\n",
      "\u001b[38;2;139;69;19msaddlebrown\n",
      "\u001b[38;2;160;82;45msienna\n",
      "\u001b[38;2;210;105;30mchocolate\n",
      "\u001b[38;2;205;133;63mperu\n",
      "\u001b[38;2;244;164;96msandybrown\n",
      "\u001b[38;2;222;184;135mburlywood\n",
      "\u001b[38;2;210;180;140mtan\n",
      "\u001b[38;2;188;143;143mrosybrown\n",
      "\u001b[38;2;255;228;181mmoccasin\n",
      "\u001b[38;2;255;222;173mnavajowhite\n",
      "\u001b[38;2;255;218;185mpeachpuff\n",
      "\u001b[38;2;255;228;225mmistyrose\n",
      "\u001b[38;2;255;240;245mlavenderblush\n",
      "\u001b[38;2;250;240;230mlinen\n",
      "\u001b[38;2;253;245;230moldlace\n",
      "\u001b[38;2;255;239;213mpapayawhip\n",
      "\u001b[38;2;255;245;238mseashell\n",
      "\u001b[38;2;245;255;250mmintcream\n",
      "\u001b[38;2;112;128;144mslategray\n",
      "\u001b[38;2;119;136;153mlightslategray\n",
      "\u001b[38;2;176;196;222mlightsteelblue\n",
      "\u001b[38;2;230;230;250mlavender\n",
      "\u001b[38;2;255;250;240mfloralwhite\n",
      "\u001b[38;2;240;248;255maliceblue\n",
      "\u001b[38;2;248;248;255mghostwhite\n",
      "\u001b[38;2;240;255;240mhoneydew\n",
      "\u001b[38;2;255;255;240mivory\n",
      "\u001b[38;2;240;255;255mazure\n",
      "\u001b[38;2;255;250;250msnow\n",
      "\u001b[38;2;0;0;0mblack\n",
      "\u001b[38;2;105;105;105mdimgray\n",
      "\u001b[38;2;105;105;105mdimgrey\n",
      "\u001b[38;2;128;128;128mgray\n",
      "\u001b[38;2;128;128;128mgrey\n",
      "\u001b[38;2;169;169;169mdarkgray\n",
      "\u001b[38;2;169;169;169mdarkgrey\n",
      "\u001b[38;2;192;192;192msilver\n",
      "\u001b[38;2;211;211;211mlightgray\n",
      "\u001b[38;2;211;211;211mlightgrey\n",
      "\u001b[38;2;220;220;220mgainsboro\n",
      "\u001b[38;2;245;245;245mwhitesmoke\n",
      "\u001b[38;2;255;255;255mwhite\n"
     ]
    }
   ],
   "source": [
    "momapy.coloring.list_colors()"
   ]
  },
  {
   "cell_type": "code",
   "execution_count": 3,
   "id": "7f00e3d3",
   "metadata": {},
   "outputs": [],
   "source": [
    "from momapy.demo.utils import display, show_room"
   ]
  },
  {
   "cell_type": "code",
   "execution_count": null,
   "id": "ea8c9f24",
   "metadata": {},
   "outputs": [],
   "source": [
    "m1 = momapy.sbgn.io.read_file(\"phospho1.sbgn\")\n",
    "display(m1)"
   ]
  },
  {
   "cell_type": "code",
   "execution_count": null,
   "id": "a5dada7f",
   "metadata": {},
   "outputs": [],
   "source": [
    "m2 = momapy.sbgn.io.read_file(\"phospho2.sbgn\")\n",
    "display(m2)"
   ]
  },
  {
   "cell_type": "code",
   "execution_count": null,
   "id": "3d25a5b8",
   "metadata": {},
   "outputs": [],
   "source": [
    "m1 == m2"
   ]
  },
  {
   "cell_type": "code",
   "execution_count": null,
   "id": "7d0155e8",
   "metadata": {},
   "outputs": [],
   "source": [
    "m1.layout == m2.layout"
   ]
  },
  {
   "cell_type": "code",
   "execution_count": null,
   "id": "f2b75b47",
   "metadata": {
    "scrolled": true
   },
   "outputs": [],
   "source": [
    "m1.model == m2.model"
   ]
  },
  {
   "cell_type": "code",
   "execution_count": null,
   "id": "29cc2990",
   "metadata": {},
   "outputs": [],
   "source": [
    "try:\n",
    "    m1.layout.stroke = momapy.coloring.colors.red\n",
    "except Exception as e:\n",
    "    print(e)"
   ]
  },
  {
   "cell_type": "code",
   "execution_count": null,
   "id": "7853cd79",
   "metadata": {},
   "outputs": [],
   "source": [
    "m1_builder = momapy.builder.builder_from_object(m1)"
   ]
  },
  {
   "cell_type": "code",
   "execution_count": null,
   "id": "d573efa2",
   "metadata": {},
   "outputs": [],
   "source": [
    "m1_builder.layout.stroke = momapy.coloring.red\n",
    "display(m1_builder)"
   ]
  },
  {
   "cell_type": "code",
   "execution_count": null,
   "id": "fc9e18cb",
   "metadata": {},
   "outputs": [],
   "source": [
    "m1_builder = momapy.sbgn.io.read_file(\"phospho1.sbgn\", return_builder=True)"
   ]
  },
  {
   "cell_type": "code",
   "execution_count": null,
   "id": "280c61c8",
   "metadata": {
    "scrolled": false
   },
   "outputs": [],
   "source": [
    "m1_builder.layout.stroke = momapy.coloring.red\n",
    "display(m1_builder)"
   ]
  },
  {
   "cell_type": "code",
   "execution_count": null,
   "id": "fe7233ab",
   "metadata": {},
   "outputs": [],
   "source": [
    "m1 = momapy.sbgn.io.read_file(\"phospho1.sbgn\")\n",
    "m1_builder = momapy.builder.builder_from_object(m1)\n",
    "m1 == m1_builder.build()"
   ]
  },
  {
   "cell_type": "code",
   "execution_count": null,
   "id": "026c3693",
   "metadata": {},
   "outputs": [],
   "source": [
    "m1a_builder = momapy.sbgn.io.read_file(\"phospho1.sbgn\", return_builder=True)\n",
    "m1b_builder = momapy.sbgn.io.read_file(\"phospho1.sbgn\", return_builder=True)\n",
    "m1a_builder == m1b_builder"
   ]
  },
  {
   "cell_type": "code",
   "execution_count": null,
   "id": "522d6429",
   "metadata": {},
   "outputs": [],
   "source": [
    "m1a = m1a_builder.build()\n",
    "m1b = m1b_builder.build()\n",
    "m1a == m1b"
   ]
  },
  {
   "cell_type": "code",
   "execution_count": null,
   "id": "cb860b1b",
   "metadata": {},
   "outputs": [],
   "source": [
    "m1_builder = momapy.sbgn.io.read_file(\"phospho1.sbgn\", return_builder=True)\n",
    "m1_builder.layout.stroke_width = 3\n",
    "m1_builder.layout.stroke = momapy.coloring.red\n",
    "m1 = m1_builder.build()"
   ]
  },
  {
   "cell_type": "code",
   "execution_count": null,
   "id": "6e9c7832",
   "metadata": {},
   "outputs": [],
   "source": [
    "s = set([])\n",
    "for i in range(256):\n",
    "    for j in range(1):\n",
    "            m1_builder.layout.stroke = momapy.coloring.Color.from_rgba(i, j, 0, 1.0)\n",
    "            s.add(m1_builder.build())\n",
    "l = list(s)"
   ]
  },
  {
   "cell_type": "code",
   "execution_count": null,
   "id": "c1a698dc",
   "metadata": {
    "scrolled": true
   },
   "outputs": [],
   "source": [
    "%%time\n",
    "m1 in s"
   ]
  },
  {
   "cell_type": "code",
   "execution_count": null,
   "id": "9b263331",
   "metadata": {
    "scrolled": true
   },
   "outputs": [],
   "source": [
    "%%time\n",
    "m1 in l"
   ]
  },
  {
   "cell_type": "code",
   "execution_count": null,
   "id": "7458590e",
   "metadata": {},
   "outputs": [],
   "source": [
    "m1_builder = momapy.sbgn.io.read_file(\"phospho1comp.sbgn\", return_builder=True)\n",
    "m1 = m1_builder.build()\n",
    "display(m1)"
   ]
  },
  {
   "cell_type": "code",
   "execution_count": null,
   "id": "f9495f59",
   "metadata": {
    "scrolled": true
   },
   "outputs": [],
   "source": [
    "m2_builder = momapy.sbgn.io.read_file(\"phospho1.sbgn\", return_builder=True)\n",
    "m2_builder.layout.position = m1_builder.layout.position\n",
    "m2_builder.layout.width = m1_builder.layout.width\n",
    "m2_builder.layout.height = m1_builder.layout.height\n",
    "m2 = m2_builder.build()\n",
    "display(m2)"
   ]
  },
  {
   "cell_type": "code",
   "execution_count": null,
   "id": "5fb89bf9",
   "metadata": {},
   "outputs": [],
   "source": [
    "m1.layout.is_sublayout(m2.layout)"
   ]
  },
  {
   "cell_type": "code",
   "execution_count": null,
   "id": "eb562fbb",
   "metadata": {},
   "outputs": [],
   "source": [
    "m1.is_submap(m2)"
   ]
  },
  {
   "cell_type": "code",
   "execution_count": null,
   "id": "75aca933",
   "metadata": {},
   "outputs": [],
   "source": [
    "m1.model.is_submodel(m2.model)"
   ]
  },
  {
   "cell_type": "code",
   "execution_count": null,
   "id": "6dda91e5",
   "metadata": {
    "scrolled": false
   },
   "outputs": [],
   "source": [
    "m1_builder = momapy.sbgn.io.read_file(\"phospho1.sbgn\", return_builder=True)\n",
    "m1_builder.layout.stroke = momapy.coloring.purple\n",
    "momapy.sbgn.utils.set_layout_to_fit_content(m1_builder, xsep=10, ysep=10)"
   ]
  },
  {
   "cell_type": "code",
   "execution_count": null,
   "id": "d18b5385",
   "metadata": {
    "scrolled": false
   },
   "outputs": [],
   "source": [
    "display(m1_builder)"
   ]
  },
  {
   "cell_type": "code",
   "execution_count": null,
   "id": "fd3ac6fa",
   "metadata": {
    "scrolled": true
   },
   "outputs": [],
   "source": [
    "momapy.styling.apply_style_sheet(m1_builder.layout, momapy.sbgn.styling.newt)\n",
    "display(m1_builder)"
   ]
  },
  {
   "cell_type": "code",
   "execution_count": null,
   "id": "89c8cfab",
   "metadata": {},
   "outputs": [],
   "source": [
    "momapy.sbgn.utils.set_auxilliary_units_to_borders(m1_builder)\n",
    "momapy.sbgn.utils.set_arcs_to_borders(m1_builder)\n",
    "display(m1_builder)"
   ]
  },
  {
   "cell_type": "code",
   "execution_count": null,
   "id": "18772982",
   "metadata": {},
   "outputs": [],
   "source": [
    "momapy.styling.apply_style_sheet(m1_builder.layout, momapy.sbgn.styling.vanted)\n",
    "display(m1_builder)"
   ]
  },
  {
   "cell_type": "code",
   "execution_count": null,
   "id": "30a69034",
   "metadata": {
    "scrolled": false
   },
   "outputs": [],
   "source": [
    "momapy.sbgn.utils.set_auxilliary_units_to_borders(m1_builder)\n",
    "momapy.sbgn.utils.set_arcs_to_borders(m1_builder)\n",
    "display(m1_builder)"
   ]
  },
  {
   "cell_type": "code",
   "execution_count": null,
   "id": "4f4c17ae",
   "metadata": {
    "scrolled": false
   },
   "outputs": [],
   "source": [
    "momapy.styling.apply_style_sheet(m1_builder.layout, momapy.sbgn.styling.default_colorscheme)\n",
    "display(m1_builder)"
   ]
  },
  {
   "cell_type": "code",
   "execution_count": null,
   "id": "84a98dbf",
   "metadata": {
    "scrolled": false
   },
   "outputs": [],
   "source": [
    "momapy.styling.apply_style_sheet(m1_builder.layout, momapy.sbgn.styling.shadows)\n",
    "display(m1_builder)"
   ]
  },
  {
   "cell_type": "code",
   "execution_count": null,
   "id": "59986209",
   "metadata": {
    "scrolled": true
   },
   "outputs": [],
   "source": [
    "s = \"\"\"\n",
    "    MacromoleculeLayout {\n",
    "        stroke_width: 3;\n",
    "        fill: red;\n",
    "    }\n",
    "    \n",
    "    StateVariableLayout > TextLayout {\n",
    "        font_size: 20.0;\n",
    "    }\n",
    "    \"\"\"\n",
    "my_style_sheet = momapy.styling.read_string(s)\n",
    "momapy.styling.apply_style_sheet(m1_builder.layout, my_style_sheet)\n",
    "display(m1_builder)"
   ]
  },
  {
   "cell_type": "code",
   "execution_count": null,
   "id": "2050c913",
   "metadata": {
    "scrolled": false
   },
   "outputs": [],
   "source": [
    "s = s.replace(\"red\", \"blue\")\n",
    "with open(\"my_style_sheet.css\", \"w\") as f:\n",
    "    f.write(s)\n",
    "my_style_sheet = momapy.styling.read_file(\"my_style_sheet.css\")\n",
    "momapy.styling.apply_style_sheet(m1_builder.layout, my_style_sheet)\n",
    "display(m1_builder)"
   ]
  },
  {
   "cell_type": "code",
   "execution_count": null,
   "id": "bc80f94e",
   "metadata": {
    "scrolled": false
   },
   "outputs": [],
   "source": [
    "MacromoleculeLayoutBuilder = momapy.builder.get_or_make_builder_cls(momapy.sbgn.pd.MacromoleculeLayout)\n",
    "m = MacromoleculeLayoutBuilder(\n",
    "        position=momapy.geometry.PointBuilder(225, 150),\n",
    "        width=300,\n",
    "        height=150,\n",
    "        stroke_width=1,\n",
    "        rounded_corners=15,\n",
    "        stroke=momapy.coloring.black,\n",
    ")"
   ]
  },
  {
   "cell_type": "code",
   "execution_count": null,
   "id": "bb2c1ead",
   "metadata": {
    "scrolled": false
   },
   "outputs": [],
   "source": [
    "m.north_west()"
   ]
  },
  {
   "cell_type": "code",
   "execution_count": null,
   "id": "9b732df0",
   "metadata": {
    "scrolled": false
   },
   "outputs": [],
   "source": [
    "CrossPointBuilder = momapy.builder.get_or_make_builder_cls(momapy.shapes.CrossPoint)\n",
    "cross_point = CrossPointBuilder(\n",
    "    width=12.0,\n",
    "    height=12.0,\n",
    "    stroke_width=1.5,\n",
    "    stroke=momapy.coloring.red\n",
    ")\n",
    "cross_point.position = m.north_west()\n",
    "m.add_element(cross_point)\n",
    "display(m)"
   ]
  },
  {
   "cell_type": "markdown",
   "id": "60a6b400",
   "metadata": {},
   "source": [
    "All nodes have at least the following anchor points:\n",
    "* north_west\n",
    "* north\n",
    "* north_east\n",
    "* east\n",
    "* south_east\n",
    "* south\n",
    "* south_west\n",
    "* west\n",
    "* center\n",
    "* label_center"
   ]
  },
  {
   "cell_type": "code",
   "execution_count": null,
   "id": "6ddacee6",
   "metadata": {},
   "outputs": [],
   "source": [
    "show_room(momapy.sbgn.pd.SimpleChemicalLayout)"
   ]
  },
  {
   "cell_type": "code",
   "execution_count": null,
   "id": "b26c1842",
   "metadata": {
    "scrolled": true
   },
   "outputs": [],
   "source": [
    "show_room(momapy.sbgn.pd.GenericProcessLayout)"
   ]
  },
  {
   "cell_type": "code",
   "execution_count": null,
   "id": "ed8874a8",
   "metadata": {
    "scrolled": true
   },
   "outputs": [],
   "source": [
    "show_room(momapy.sbgn.pd.ComplexMultimerLayout)"
   ]
  },
  {
   "cell_type": "code",
   "execution_count": null,
   "id": "2edadf5a",
   "metadata": {
    "scrolled": false
   },
   "outputs": [],
   "source": [
    "m.self_angle(120)"
   ]
  },
  {
   "cell_type": "code",
   "execution_count": null,
   "id": "de20bb04",
   "metadata": {
    "scrolled": true
   },
   "outputs": [],
   "source": [
    "cross_point.position = m.self_angle(120)\n",
    "display(m)"
   ]
  },
  {
   "cell_type": "code",
   "execution_count": null,
   "id": "b99cf9f8",
   "metadata": {},
   "outputs": [],
   "source": [
    "m.layout_elements.clear()\n",
    "StateVariableLayoutBuilder = momapy.builder.get_or_make_builder_cls(momapy.sbgn.pd.StateVariableLayout)"
   ]
  },
  {
   "cell_type": "code",
   "execution_count": null,
   "id": "98c243d4",
   "metadata": {
    "scrolled": false
   },
   "outputs": [],
   "source": [
    "s = StateVariableLayoutBuilder(\n",
    "    width=90,\n",
    "    height=45\n",
    ")\n",
    "s.position = m.self_angle(120)\n",
    "m.add_element(s)\n",
    "cross_point.position = m.self_angle(120)\n",
    "m.add_element(cross_point)\n",
    "display(m)"
   ]
  },
  {
   "cell_type": "code",
   "execution_count": null,
   "id": "b4b6706f",
   "metadata": {
    "scrolled": false
   },
   "outputs": [],
   "source": [
    "cross_point.position = m.angle(120)\n",
    "display(m)"
   ]
  },
  {
   "cell_type": "code",
   "execution_count": null,
   "id": "6259a0c0",
   "metadata": {
    "scrolled": false
   },
   "outputs": [],
   "source": [
    "show_room(momapy.sbgn.pd.MacromoleculeLayout, \"angle\")"
   ]
  },
  {
   "cell_type": "code",
   "execution_count": null,
   "id": "608f035c",
   "metadata": {
    "scrolled": false
   },
   "outputs": [],
   "source": [
    "StimulationLayoutBuilder = momapy.builder.get_or_make_builder_cls(momapy.sbgn.pd.StimulationLayout)\n",
    "s = StimulationLayoutBuilder(\n",
    "        segments=[momapy.geometry.Segment(momapy.geometry.PointBuilder(50, 220), momapy.geometry.PointBuilder(400, 30))],\n",
    "        width=30,\n",
    "        height=30,\n",
    "        stroke_width=1,\n",
    "        stroke=momapy.coloring.black,\n",
    ")\n",
    "display(s)"
   ]
  },
  {
   "cell_type": "code",
   "execution_count": null,
   "id": "7b9b4ea5",
   "metadata": {
    "scrolled": true
   },
   "outputs": [],
   "source": [
    "s.fraction(0.3)"
   ]
  },
  {
   "cell_type": "code",
   "execution_count": null,
   "id": "59801727",
   "metadata": {
    "scrolled": true
   },
   "outputs": [],
   "source": [
    "cross_point.position = s.fraction(0.3)[0]\n",
    "s.add_element(cross_point)\n",
    "display(s)"
   ]
  },
  {
   "cell_type": "code",
   "execution_count": null,
   "id": "43e94d33",
   "metadata": {},
   "outputs": [],
   "source": [
    "s.layout_elements.clear()\n",
    "CardinalityLayoutBuilder = momapy.builder.get_or_make_builder_cls(momapy.sbgn.pd.CardinalityLayout)"
   ]
  },
  {
   "cell_type": "code",
   "execution_count": null,
   "id": "f65c42be",
   "metadata": {
    "scrolled": true
   },
   "outputs": [],
   "source": [
    "c = CardinalityLayoutBuilder(\n",
    "    width=90,\n",
    "    height=45,\n",
    ")\n",
    "position, angle = s.fraction(0.3)\n",
    "c.position = position\n",
    "c.transform = tuple([momapy.geometry.Rotation(angle, position)])\n",
    "s.add_element(c)\n",
    "display(s)"
   ]
  },
  {
   "cell_type": "code",
   "execution_count": null,
   "id": "c0b12481",
   "metadata": {
    "scrolled": true
   },
   "outputs": [],
   "source": [
    "label=momapy.core.TextLayoutBuilder(\n",
    "    text=\"N\",\n",
    "    font_family=\"Arial\",\n",
    "    font_size=18,\n",
    "    position=c.label_center()\n",
    ")\n",
    "c.label = label\n",
    "display(s)"
   ]
  },
  {
   "cell_type": "code",
   "execution_count": null,
   "id": "42829f0f",
   "metadata": {
    "scrolled": false
   },
   "outputs": [],
   "source": [
    "momapy.positioning.set_fraction_of(c, s, 0.3, anchor=\"south\")\n",
    "c.label.position = c.label_center()\n",
    "display(s)"
   ]
  },
  {
   "cell_type": "code",
   "execution_count": null,
   "id": "188f5cca",
   "metadata": {},
   "outputs": [],
   "source": [
    "class MyTriangle(momapy.core.NodeLayout):\n",
    "    \n",
    "    def border_drawing_element(self):\n",
    "        path = momapy.drawing.Path()\n",
    "        path += momapy.drawing.move_to(self.position - (0, self.height / 2)) # top\n",
    "        path += momapy.drawing.line_to(self.position + (self.width / 2, self.height / 2)) # bottom right\n",
    "        path += momapy.drawing.line_to(self.position + (-self.width / 2, self.height / 2)) # bottom left\n",
    "        path += momapy.drawing.close()\n",
    "        return path\n",
    "\n"
   ]
  },
  {
   "cell_type": "code",
   "execution_count": null,
   "id": "a79b98ea",
   "metadata": {},
   "outputs": [],
   "source": [
    "show_room(MyTriangle)"
   ]
  },
  {
   "cell_type": "code",
   "execution_count": null,
   "id": "2b08e972",
   "metadata": {},
   "outputs": [],
   "source": [
    "show_room(MyTriangle, \"self_angle\")"
   ]
  },
  {
   "cell_type": "code",
   "execution_count": null,
   "id": "01964042",
   "metadata": {},
   "outputs": [],
   "source": []
  },
  {
   "cell_type": "code",
   "execution_count": null,
   "id": "333e3929",
   "metadata": {},
   "outputs": [],
   "source": []
  },
  {
   "cell_type": "code",
   "execution_count": null,
   "id": "e0fe9394",
   "metadata": {},
   "outputs": [],
   "source": []
  },
  {
   "cell_type": "code",
   "execution_count": null,
   "id": "041d5ce0",
   "metadata": {},
   "outputs": [],
   "source": []
  },
  {
   "cell_type": "code",
   "execution_count": null,
   "id": "9dfa2ba8",
   "metadata": {},
   "outputs": [],
   "source": []
  },
  {
   "cell_type": "code",
   "execution_count": null,
   "id": "c412dd9e",
   "metadata": {},
   "outputs": [],
   "source": []
  }
 ],
 "metadata": {
  "kernelspec": {
   "display_name": "my-virtualenv-name",
   "language": "python",
   "name": "my-virtualenv-name"
  },
  "language_info": {
   "codemirror_mode": {
    "name": "ipython",
    "version": 3
   },
   "file_extension": ".py",
   "mimetype": "text/x-python",
   "name": "python",
   "nbconvert_exporter": "python",
   "pygments_lexer": "ipython3",
   "version": "3.10.10"
  }
 },
 "nbformat": 4,
 "nbformat_minor": 5
}
