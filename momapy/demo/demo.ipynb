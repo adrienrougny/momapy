{
 "cells": [
  {
   "cell_type": "markdown",
   "id": "b188df16",
   "metadata": {},
   "source": [
    "# MomaPy: a python library for molecular maps"
   ]
  },
  {
   "cell_type": "markdown",
   "id": "38c02689",
   "metadata": {},
   "source": [
    "The MomaPy library is a new python library for working with molecular maps such as SBGN maps.\n",
    "Its key feature is its definition of a map, that is now formed of two entities: a model, that describes what concepts are represented, and a layout, that describes how these concepts are represented.\n",
    "This definition is borrowed from SBML and its extensions layout/render, that allowed users to add a layout to an SBML model.\n",
    "MomaPy aims at extending this definition to all types of molecular maps, and in particular to SBGN maps.\n",
    "\n",
    "MomaPy offers the following features:\n",
    "* support for SBGN PD and AF maps (read/write SBGN-ML with annotations, rendering information, and notes)\n",
    "* decomposition of a map object into:\n",
    "    - a model object;\n",
    "    - a layout object;\n",
    "    - a mapping between the model and layout objects' subelements\n",
    "* map, model, layout and mapping objects comparison; fast object in set checking\n",
    "* rendering of maps to images (SVG, PDF, JPEG, PNG, WebP) and other surfaces (e.g. GLFW window)\n",
    "* support for styling and css like stylesheets (including effects such as shadows)\n",
    "* automatic geometry and anchors (for arcs, shape borders)\n",
    "* local positioning (e.g. right of shape, fit set of shapes)\n",
    "* easy extension with new model and layout subelements"
   ]
  },
  {
   "cell_type": "code",
   "execution_count": 1,
   "id": "71b516ba",
   "metadata": {},
   "outputs": [],
   "source": [
    "import momapy.io\n",
    "import momapy.builder\n",
    "import momapy.coloring\n",
    "import momapy.styling\n",
    "import momapy.utils\n",
    "\n",
    "import momapy.sbgn.io.sbgnml\n",
    "import momapy.sbgn.styling\n",
    "import momapy.sbgn.utils"
   ]
  },
  {
   "cell_type": "code",
   "execution_count": 2,
   "id": "7f00e3d3",
   "metadata": {},
   "outputs": [],
   "source": [
    "from momapy.demo.utils import display, display_at, show_room, macromolecule_toy, production_toy"
   ]
  },
  {
   "cell_type": "markdown",
   "id": "2738f562",
   "metadata": {},
   "source": [
    "# The `Map` object"
   ]
  },
  {
   "cell_type": "code",
   "execution_count": 3,
   "id": "ea8c9f24",
   "metadata": {
    "scrolled": false
   },
   "outputs": [
    {
     "name": "stderr",
     "output_type": "stream",
     "text": [
      "Fontconfig warning: \"/usr/share/fontconfig/conf.avail/05-reset-dirs-sample.conf\", line 6: unknown element \"reset-dirs\"\n"
     ]
    },
    {
     "data": {
      "image/png": "[encoded data removed]",
      "text/plain": [
       "Image(600, 450, ColorType.kBGRA_8888_ColorType, AlphaType.kPremul_AlphaType)"
      ]
     },
     "metadata": {},
     "output_type": "display_data"
    }
   ],
   "source": [
    "m = momapy.io.read(\"phospho1.sbgn\")\n",
    "display(m)"
   ]
  },
  {
   "cell_type": "markdown",
   "id": "05edf792",
   "metadata": {},
   "source": [
    "A `Map` object always contains a `Model`, a `Layout` and a `LayoutModelMapping` (that maps model elements to layout elements).\n",
    "It may also have additional attributes depending on its nature. For example, an SBGN PD map also has an `id`, `notes`, and `annotations`."
   ]
  },
  {
   "cell_type": "code",
   "execution_count": 4,
   "id": "a63e2eb1",
   "metadata": {
    "scrolled": true
   },
   "outputs": [
    {
     "name": "stdout",
     "output_type": "stream",
     "text": [
      "\u001b[30m<class 'momapy.sbgn.pd.SBGNPDMap'>\u001b[31m: SBGNPDMap(id=UUID('75d377c8-77...\u001b[0m\n",
      "  \u001b[34m* id\u001b[35m: <class 'str'> = \u001b[31m75d377c8-7768-4fbb-a75b-dbb775...\u001b[0m\n",
      "  \u001b[34m* model\u001b[35m: <class 'momapy.sbgn.pd.SBGNPDModel'> = \u001b[31mSBGNPDModel(id=UUID('8e997455-...\u001b[0m\n",
      "  \u001b[34m* layout\u001b[35m: <class 'momapy.sbgn.pd.SBGNPDLayout'> = \u001b[31mSBGNPDLayout(id=UUID('d0a092c4...\u001b[0m\n",
      "  \u001b[34m* layout_model_mapping\u001b[35m: <class 'momapy.core.LayoutModelMapping'> = \u001b[31mLayoutModelMapping(_singleton_...\u001b[0m\n",
      "  \u001b[34m* notes\u001b[35m: str | None = \u001b[31mNone\u001b[0m\n",
      "  \u001b[34m* annotations\u001b[35m: frozenset[momapy.sbgn.core.Annotation] = \u001b[31mfrozenset()\u001b[0m\n"
     ]
    }
   ],
   "source": [
    "momapy.utils.pretty_print(m)"
   ]
  },
  {
   "cell_type": "markdown",
   "id": "670f0e3e",
   "metadata": {},
   "source": [
    "## The `Model` object"
   ]
  },
  {
   "cell_type": "markdown",
   "id": "95d4786f",
   "metadata": {},
   "source": [
    "A `Model` may have an arbitrary number of attributes, depending on its nature.\n",
    "For example, an `SBGNPDModel` has the following attributes: `entity_pools`, `processes`, `compartments`, `modulations`, `logical_operators`, `equivalence_operators`, `submaps` and `tags`, but also an `id`, `notes` and `annotations`."
   ]
  },
  {
   "cell_type": "code",
   "execution_count": 5,
   "id": "c47b3ee3",
   "metadata": {
    "scrolled": false
   },
   "outputs": [
    {
     "name": "stdout",
     "output_type": "stream",
     "text": [
      "\u001b[30m<class 'momapy.sbgn.pd.SBGNPDModel'>\u001b[31m: SBGNPDModel(id=UUID('8e997455-...\u001b[0m\n",
      "  \u001b[34m* id\u001b[35m: <class 'str'> = \u001b[31m8e997455-8340-4347-9a26-8b04b1...\u001b[0m\n",
      "  \u001b[34m* notes\u001b[35m: str | None = \u001b[31mNone\u001b[0m\n",
      "  \u001b[34m* annotations\u001b[35m: frozenset[momapy.sbgn.core.Annotation] = \u001b[31mfrozenset()\u001b[0m\n",
      "  \u001b[34m* entity_pools\u001b[35m: frozenset[momapy.sbgn.pd.EntityPool] = \u001b[31mfrozenset({Macromolecule(id='g...\u001b[0m\n",
      "  \u001b[34m* processes\u001b[35m: frozenset[momapy.sbgn.pd.Process] = \u001b[31mfrozenset({GenericProcess(id='...\u001b[0m\n",
      "  \u001b[34m* compartments\u001b[35m: frozenset[momapy.sbgn.pd.Compartment] = \u001b[31mfrozenset()\u001b[0m\n",
      "  \u001b[34m* modulations\u001b[35m: frozenset[momapy.sbgn.pd.Modulation] = \u001b[31mfrozenset({Catalysis(id='arc3'...\u001b[0m\n",
      "  \u001b[34m* logical_operators\u001b[35m: frozenset[momapy.sbgn.pd.LogicalOperator] = \u001b[31mfrozenset()\u001b[0m\n",
      "  \u001b[34m* equivalence_operators\u001b[35m: frozenset[momapy.sbgn.pd.EquivalenceOperator] = \u001b[31mfrozenset()\u001b[0m\n",
      "  \u001b[34m* submaps\u001b[35m: frozenset[momapy.sbgn.pd.Submap] = \u001b[31mfrozenset()\u001b[0m\n",
      "  \u001b[34m* tags\u001b[35m: frozenset[momapy.sbgn.pd.Tag] = \u001b[31mfrozenset()\u001b[0m\n"
     ]
    }
   ],
   "source": [
    "momapy.utils.pretty_print(m.model)"
   ]
  },
  {
   "cell_type": "markdown",
   "id": "0554ca24",
   "metadata": {},
   "source": [
    "These attributes may be `ModelElement`s or collections of `ModelElements`. For example, the `entity_pools` attribute of an `SBGNPDModel` may contain zero or more `EntityPool`s.\n",
    "We pick the first element from the collection:"
   ]
  },
  {
   "cell_type": "code",
   "execution_count": 6,
   "id": "21b6b343",
   "metadata": {
    "scrolled": true
   },
   "outputs": [
    {
     "name": "stdout",
     "output_type": "stream",
     "text": [
      "\u001b[30m<class 'momapy.sbgn.pd.Macromolecule'>\u001b[31m: Macromolecule(id='glyph3', not...\u001b[0m\n",
      "  \u001b[34m* id\u001b[35m: <class 'str'> = \u001b[31mglyph3\u001b[0m\n",
      "  \u001b[34m* notes\u001b[35m: str | None = \u001b[31mNone\u001b[0m\n",
      "  \u001b[34m* annotations\u001b[35m: frozenset[momapy.sbgn.core.Annotation] = \u001b[31mfrozenset()\u001b[0m\n",
      "  \u001b[34m* compartment\u001b[35m: typing.Optional[momapy.sbgn.pd.Compartment] = \u001b[31mNone\u001b[0m\n",
      "  \u001b[34m* label\u001b[35m: typing.Optional[str] = \u001b[31mB\u001b[0m\n",
      "  \u001b[34m* state_variables\u001b[35m: frozenset[momapy.sbgn.pd.StateVariable] = \u001b[31mfrozenset()\u001b[0m\n",
      "  \u001b[34m* units_of_information\u001b[35m: frozenset[momapy.sbgn.pd.UnitOfInformation] = \u001b[31mfrozenset()\u001b[0m\n"
     ]
    }
   ],
   "source": [
    "for e in m.model.entity_pools:\n",
    "    break\n",
    "momapy.utils.pretty_print(e)"
   ]
  },
  {
   "cell_type": "markdown",
   "id": "16832313",
   "metadata": {},
   "source": [
    "Here, the element is a `Macromolecule`.\n",
    "The data model for SBGN PD is built on a hierarchy of classes following the corresponding ontology.\n",
    "Hence this element is also an `EntityPool`, and more generally a `ModelElement`:"
   ]
  },
  {
   "cell_type": "code",
   "execution_count": 7,
   "id": "2c76ab0d",
   "metadata": {},
   "outputs": [],
   "source": [
    "assert isinstance(e, momapy.sbgn.pd.EntityPool)\n",
    "assert isinstance(e, momapy.core.ModelElement)"
   ]
  },
  {
   "cell_type": "markdown",
   "id": "04d417d8",
   "metadata": {},
   "source": [
    "## The `Layout` object"
   ]
  },
  {
   "cell_type": "markdown",
   "id": "003e622d",
   "metadata": {},
   "source": [
    "A `Layout` is some sort of canvas that may contain other `LayoutElement`s that correspond to shapes that represent `ModelElement`s and that may be rendered.\n",
    "The `LayoutElement`s of a `Layout` are contained in its `layout_elements` attribute:"
   ]
  },
  {
   "cell_type": "code",
   "execution_count": 8,
   "id": "eb960ce0",
   "metadata": {
    "scrolled": false
   },
   "outputs": [
    {
     "name": "stdout",
     "output_type": "stream",
     "text": [
      "\u001b[30m<class 'momapy.sbgn.pd.SBGNPDLayout'>\u001b[31m: SBGNPDLayout(id=UUID('d0a092c4...\u001b[0m\n",
      "  \u001b[34m* id\u001b[35m: <class 'str'> = \u001b[31md0a092c4-2320-414c-9ac7-ebdd14...\u001b[0m\n",
      "  \u001b[34m* layout_elements\u001b[35m: tuple[momapy.core.LayoutElement] = \u001b[31m(MacromoleculeLayout(id='glyph...\u001b[0m\n",
      "  \u001b[34m* stroke\u001b[35m: momapy.drawing.NoneValueType | momapy.coloring.Color | None = \u001b[31mNone\u001b[0m\n",
      "  \u001b[34m* stroke_width\u001b[35m: float | None = \u001b[31mNone\u001b[0m\n",
      "  \u001b[34m* stroke_dasharray\u001b[35m: momapy.drawing.NoneValueType | tuple[float] | None = \u001b[31mNone\u001b[0m\n",
      "  \u001b[34m* stroke_dashoffset\u001b[35m: float | None = \u001b[31mNone\u001b[0m\n",
      "  \u001b[34m* fill\u001b[35m: momapy.drawing.NoneValueType | momapy.coloring.Color | None = \u001b[31mColor(red=255, green=255, blue...\u001b[0m\n",
      "  \u001b[34m* transform\u001b[35m: momapy.drawing.NoneValueType | tuple[momapy.geometry.Transformation] | None = \u001b[31mNone\u001b[0m\n",
      "  \u001b[34m* filter\u001b[35m: momapy.drawing.NoneValueType | momapy.drawing.Filter | None = \u001b[31mNone\u001b[0m\n",
      "  \u001b[34m* position\u001b[35m: <class 'momapy.geometry.Point'> = \u001b[31mPoint(x=240.0, y=205.0)\u001b[0m\n",
      "  \u001b[34m* width\u001b[35m: <class 'float'> = \u001b[31m450.0\u001b[0m\n",
      "  \u001b[34m* height\u001b[35m: <class 'float'> = \u001b[31m250.0\u001b[0m\n"
     ]
    }
   ],
   "source": [
    "momapy.utils.pretty_print(m.layout)"
   ]
  },
  {
   "cell_type": "markdown",
   "id": "8408d722",
   "metadata": {},
   "source": [
    "A `LayoutElement` always has a `drawing_elements` method that returns `DrawingElement`s that may be rendered using a `Renderer`.\n",
    "The `DrawingElement`s are built on the fly based on the other attributes of the `LayoutElement`.\n",
    "`DrawingElement`s are like SVG elements: they may represent paths, rectangle, ellipses, text..., and generally have the same attributes as their SVG counterpart (or a subset of them).\n",
    "A `Layout` itself is a `LayoutElement`, whose returned unique `DrawingElement` ultimately represents a rectangle built from its `position`, `width` and `height` attributes.\n",
    "The style of this rectangle depends on the styling attribute of the `Layout` (e.g. the `stroke`, `stroke_width`, and `fill` attributes):"
   ]
  },
  {
   "cell_type": "code",
   "execution_count": 9,
   "id": "dae7e775",
   "metadata": {
    "scrolled": false
   },
   "outputs": [
    {
     "name": "stdout",
     "output_type": "stream",
     "text": [
      "\u001b[30m<class 'list'>\u001b[31m: [Group(stroke_width=None, stro...\u001b[0m\n",
      "  \u001b[34m- 0\u001b[35m: <class 'momapy.drawing.Group'> = \u001b[31mGroup(stroke_width=None, strok...\u001b[0m\n"
     ]
    }
   ],
   "source": [
    "momapy.utils.pretty_print(m.layout.drawing_elements())"
   ]
  },
  {
   "cell_type": "markdown",
   "id": "7254f36b",
   "metadata": {},
   "source": [
    "A `Layout` may contain other `LayoutElement`s, which themselves may contain other `LayoutElement`s, recursively forming a hierarchy of `LayoutElement`s, and thus of `DrawingElement`s.\n",
    "While a `Layout` represents a `Model`, contained `LayoutElement`s represent `ModelElement`s contained by the `Model`."
   ]
  },
  {
   "cell_type": "markdown",
   "id": "d6cf70f6",
   "metadata": {},
   "source": [
    "We pick the first `LayoutElement` from the `SBGNPDLayout`:"
   ]
  },
  {
   "cell_type": "code",
   "execution_count": 10,
   "id": "56352c9c",
   "metadata": {
    "scrolled": true
   },
   "outputs": [
    {
     "name": "stdout",
     "output_type": "stream",
     "text": [
      "\u001b[30m<class 'momapy.sbgn.pd.MacromoleculeLayout'>\u001b[31m: MacromoleculeLayout(id='glyph2...\u001b[0m\n",
      "  \u001b[34m* id\u001b[35m: <class 'str'> = \u001b[31mglyph2\u001b[0m\n",
      "  \u001b[34m* layout_elements\u001b[35m: tuple[momapy.core.LayoutElement] = \u001b[31m(StateVariableLayout(id='glyph...\u001b[0m\n",
      "  \u001b[34m* stroke\u001b[35m: <class 'momapy.coloring.Color'> = \u001b[31mColor(red=0, green=0, blue=0, ...\u001b[0m\n",
      "  \u001b[34m* stroke_width\u001b[35m: <class 'float'> = \u001b[31m1.0\u001b[0m\n",
      "  \u001b[34m* stroke_dasharray\u001b[35m: momapy.drawing.NoneValueType | tuple[float] | None = \u001b[31mNone\u001b[0m\n",
      "  \u001b[34m* stroke_dashoffset\u001b[35m: float | None = \u001b[31mNone\u001b[0m\n",
      "  \u001b[34m* fill\u001b[35m: <class 'momapy.coloring.Color'> = \u001b[31mColor(red=255, green=255, blue...\u001b[0m\n",
      "  \u001b[34m* transform\u001b[35m: momapy.drawing.NoneValueType | tuple[momapy.geometry.Transformation] | None = \u001b[31mNone\u001b[0m\n",
      "  \u001b[34m* filter\u001b[35m: momapy.drawing.NoneValueType | momapy.drawing.Filter | None = \u001b[31mNone\u001b[0m\n",
      "  \u001b[34m* position\u001b[35m: <class 'momapy.geometry.Point'> = \u001b[31mPoint(x=85.0, y=270.0)\u001b[0m\n",
      "  \u001b[34m* width\u001b[35m: <class 'float'> = \u001b[31m108.0\u001b[0m\n",
      "  \u001b[34m* height\u001b[35m: <class 'float'> = \u001b[31m60.0\u001b[0m\n",
      "  \u001b[34m* label\u001b[35m: momapy.core.TextLayout | None = \u001b[31mTextLayout(id=UUID('fa789c95-8...\u001b[0m\n",
      "  \u001b[34m* border_stroke\u001b[35m: momapy.drawing.NoneValueType | momapy.coloring.Color | None = \u001b[31mNone\u001b[0m\n",
      "  \u001b[34m* border_stroke_width\u001b[35m: float | None = \u001b[31mNone\u001b[0m\n",
      "  \u001b[34m* border_stroke_dasharray\u001b[35m: momapy.drawing.NoneValueType | tuple[float] | None = \u001b[31mNone\u001b[0m\n",
      "  \u001b[34m* border_stroke_dashoffset\u001b[35m: float | None = \u001b[31mNone\u001b[0m\n",
      "  \u001b[34m* border_fill\u001b[35m: momapy.drawing.NoneValueType | momapy.coloring.Color | None = \u001b[31mNone\u001b[0m\n",
      "  \u001b[34m* border_transform\u001b[35m: momapy.drawing.NoneValueType | tuple[momapy.geometry.Transformation] | None = \u001b[31mNone\u001b[0m\n",
      "  \u001b[34m* border_filter\u001b[35m: momapy.drawing.NoneValueType | momapy.drawing.Filter | None = \u001b[31mNone\u001b[0m\n",
      "  \u001b[34m* rounded_corners\u001b[35m: <class 'float'> = \u001b[31m5.0\u001b[0m\n"
     ]
    }
   ],
   "source": [
    "for l in m.layout.layout_elements:\n",
    "    break\n",
    "momapy.utils.pretty_print(l)"
   ]
  },
  {
   "cell_type": "markdown",
   "id": "c5c91cac",
   "metadata": {},
   "source": [
    "This element is a `MacromoleculeLayout`. Based on its `position`, `width` and `height` attributes, as well as on its styling attributes, it will produce a `DrawingElement` representing a rectangle with rounded corners, containing some text corresponding to its `label`. Since this element also contains other `LayoutElement`s in its `layout_elements` attribute, it will also produce the `DrawingElement`s of these contained `LayoutElement`s (here, a `StateVariableLayout`):"
   ]
  },
  {
   "cell_type": "code",
   "execution_count": 11,
   "id": "3781bb46",
   "metadata": {
    "scrolled": true
   },
   "outputs": [
    {
     "data": {
      "image/png": "[encoded data removed]",
      "text/plain": [
       "Image(600, 450, ColorType.kBGRA_8888_ColorType, AlphaType.kPremul_AlphaType)"
      ]
     },
     "metadata": {},
     "output_type": "display_data"
    }
   ],
   "source": [
    "display(l)"
   ]
  },
  {
   "cell_type": "markdown",
   "id": "764b565a",
   "metadata": {},
   "source": [
    "## The `LayoutModelMapping` object"
   ]
  },
  {
   "cell_type": "markdown",
   "id": "44788606",
   "metadata": {},
   "source": [
    "A `LayoutModelMapping` is a mapping from `LayoutElement`s to `ModelElement`s and vice-versa.\n",
    "It is used to map the `LayoutElement`s of a `Map` to the `ModelElement`s they represent.\n",
    "It is intended to be as generic as possible so it maps sets of elements rather than elements themselves."
   ]
  },
  {
   "cell_type": "markdown",
   "id": "0b944171",
   "metadata": {},
   "source": [
    "We pick the `ModelElement` mapped to the `MacromoleculeLayout` we had picked.\n",
    "We know that there is only one `ModelElement` mapped to it so we can safely use the `unpack` option that removes the containing set:"
   ]
  },
  {
   "cell_type": "code",
   "execution_count": 12,
   "id": "6a441c1b",
   "metadata": {
    "scrolled": true
   },
   "outputs": [
    {
     "name": "stdout",
     "output_type": "stream",
     "text": [
      "\u001b[30m<class 'momapy.sbgn.pd.Macromolecule'>\u001b[31m: Macromolecule(id='glyph2', not...\u001b[0m\n",
      "  \u001b[34m* id\u001b[35m: <class 'str'> = \u001b[31mglyph2\u001b[0m\n",
      "  \u001b[34m* notes\u001b[35m: str | None = \u001b[31mNone\u001b[0m\n",
      "  \u001b[34m* annotations\u001b[35m: frozenset[momapy.sbgn.core.Annotation] = \u001b[31mfrozenset()\u001b[0m\n",
      "  \u001b[34m* compartment\u001b[35m: typing.Optional[momapy.sbgn.pd.Compartment] = \u001b[31mNone\u001b[0m\n",
      "  \u001b[34m* label\u001b[35m: typing.Optional[str] = \u001b[31mA\u001b[0m\n",
      "  \u001b[34m* state_variables\u001b[35m: frozenset[momapy.sbgn.pd.StateVariable] = \u001b[31mfrozenset({StateVariable(id='g...\u001b[0m\n",
      "  \u001b[34m* units_of_information\u001b[35m: frozenset[momapy.sbgn.pd.UnitOfInformation] = \u001b[31mfrozenset()\u001b[0m\n"
     ]
    }
   ],
   "source": [
    "e = m.layout_model_mapping.get_mapping(l, unpack=True)[0]\n",
    "momapy.utils.pretty_print(e)"
   ]
  },
  {
   "cell_type": "markdown",
   "id": "c034e17c",
   "metadata": {},
   "source": [
    "# Equality and-sub relation for `Map`s, `Model`s, `Layout`s and `LayoutModelMapping`s"
   ]
  },
  {
   "cell_type": "markdown",
   "id": "03e425df",
   "metadata": {},
   "source": [
    "`Map`s, `Model`s, `Layout`s, `LayoutModelMapping`s, `ModelElement`s and `LayoutElement`s are developped so they can be easily compared.\n",
    "Their identity relies on the value of a subset of their attributes (generally all attributes but their `id`, `notes` and `annotations`).\n",
    "This way, two `Map`s can be easily compared.\n",
    "Is is also possible to check whether a `Map` is a sub-map of another `Map` (not to be confused with SBGN PD's submap glyph)."
   ]
  },
  {
   "cell_type": "markdown",
   "id": "8271dfaa",
   "metadata": {},
   "source": [
    "## Equality"
   ]
  },
  {
   "cell_type": "markdown",
   "id": "48ceb8ab",
   "metadata": {},
   "source": [
    "### Definition"
   ]
  },
  {
   "cell_type": "markdown",
   "id": "fb691aa6",
   "metadata": {},
   "source": [
    "Two `Map`s are equal if and only if:\n",
    "* their `Model`s are equal;\n",
    "* their `Layout`s are equal;\n",
    "* and their `LayoutModelMapping`s are equal."
   ]
  },
  {
   "cell_type": "markdown",
   "id": "8a6ede69",
   "metadata": {},
   "source": [
    "### Example"
   ]
  },
  {
   "cell_type": "code",
   "execution_count": 13,
   "id": "9272b504",
   "metadata": {},
   "outputs": [
    {
     "data": {
      "image/png": "[encoded data removed]",
      "text/plain": [
       "Image(600, 450, ColorType.kBGRA_8888_ColorType, AlphaType.kPremul_AlphaType)"
      ]
     },
     "metadata": {},
     "output_type": "display_data"
    }
   ],
   "source": [
    "m1 = momapy.io.read(\"phospho1.sbgn\")\n",
    "display(m1)"
   ]
  },
  {
   "cell_type": "code",
   "execution_count": 14,
   "id": "a5dada7f",
   "metadata": {
    "scrolled": false
   },
   "outputs": [
    {
     "data": {
      "image/png": "[encoded data removed]",
      "text/plain": [
       "Image(600, 450, ColorType.kBGRA_8888_ColorType, AlphaType.kPremul_AlphaType)"
      ]
     },
     "metadata": {},
     "output_type": "display_data"
    }
   ],
   "source": [
    "m2 = momapy.io.read(\"phospho2.sbgn\")\n",
    "display(m2)"
   ]
  },
  {
   "cell_type": "markdown",
   "id": "325540b1",
   "metadata": {},
   "source": [
    "The two maps represent the exact same concepts, and thus have the same model. However, they do not have the same layout. Hence, the two maps are different.\n",
    "This can be checked easily by comparing the `Map`, `Model`, `Layout` and `LayoutModelMapping` objects representing the two maps:"
   ]
  },
  {
   "cell_type": "code",
   "execution_count": 15,
   "id": "3d25a5b8",
   "metadata": {},
   "outputs": [],
   "source": [
    "assert m1 != m2\n",
    "assert m1.model == m2.model\n",
    "assert m1.layout != m2.layout\n",
    "assert m1.layout_model_mapping != m2.layout_model_mapping"
   ]
  },
  {
   "cell_type": "markdown",
   "id": "0d37a254",
   "metadata": {},
   "source": [
    "## Sub-map/model/layout/mapping"
   ]
  },
  {
   "cell_type": "markdown",
   "id": "bd06325a",
   "metadata": {},
   "source": [
    "### Definition"
   ]
  },
  {
   "cell_type": "markdown",
   "id": "bec5a377",
   "metadata": {},
   "source": [
    "A `Map` `M` is a sub-map of another `Map` `M'` if and only if:\n",
    "* the `Model` of `M` is a sub-model of the `Model` of `M'`;\n",
    "* the `Layout` of `M` is a sub-layout of the `Layout` of `M'`;\n",
    "* and the `LayoutModelMapping` of `M` is a sub-mapping of the `LayoutModelMapping` of `M'`.\n"
   ]
  },
  {
   "cell_type": "markdown",
   "id": "6590e038",
   "metadata": {},
   "source": [
    "### Example 1"
   ]
  },
  {
   "cell_type": "code",
   "execution_count": 16,
   "id": "47080316",
   "metadata": {},
   "outputs": [
    {
     "data": {
      "image/png": "[encoded data removed]",
      "text/plain": [
       "Image(600, 450, ColorType.kBGRA_8888_ColorType, AlphaType.kPremul_AlphaType)"
      ]
     },
     "metadata": {},
     "output_type": "display_data"
    }
   ],
   "source": [
    "m1 = momapy.io.read(\"phospho1.sbgn\")\n",
    "display(m1)"
   ]
  },
  {
   "cell_type": "code",
   "execution_count": 17,
   "id": "7458590e",
   "metadata": {
    "scrolled": true
   },
   "outputs": [
    {
     "data": {
      "image/png": "[encoded data removed]",
      "text/plain": [
       "Image(600, 450, ColorType.kBGRA_8888_ColorType, AlphaType.kPremul_AlphaType)"
      ]
     },
     "metadata": {},
     "output_type": "display_data"
    }
   ],
   "source": [
    "m3 = momapy.io.read(\"phospho3.sbgn\")\n",
    "display(m3)"
   ]
  },
  {
   "cell_type": "markdown",
   "id": "d2a19e4f",
   "metadata": {},
   "source": [
    "The second map is an excerpt of the first map:"
   ]
  },
  {
   "cell_type": "code",
   "execution_count": 18,
   "id": "887fbede",
   "metadata": {},
   "outputs": [],
   "source": [
    "assert m3.is_submap(m1)\n",
    "assert m3.model.is_submodel(m1.model)\n",
    "assert m3.layout.is_sublayout(m1.layout)\n",
    "assert m3.layout_model_mapping.is_submapping(m1.layout_model_mapping)"
   ]
  },
  {
   "cell_type": "markdown",
   "id": "90579fed",
   "metadata": {},
   "source": [
    "### Example 2"
   ]
  },
  {
   "cell_type": "code",
   "execution_count": 19,
   "id": "620ee53a",
   "metadata": {
    "scrolled": true
   },
   "outputs": [
    {
     "data": {
      "image/png": "[encoded data removed]",
      "text/plain": [
       "Image(600, 450, ColorType.kBGRA_8888_ColorType, AlphaType.kPremul_AlphaType)"
      ]
     },
     "metadata": {},
     "output_type": "display_data"
    }
   ],
   "source": [
    "m4 = momapy.io.read(\"phospho4.sbgn\")\n",
    "display(m4)"
   ]
  },
  {
   "cell_type": "markdown",
   "id": "2a3150b2",
   "metadata": {},
   "source": [
    "Because of the compartment, the model of the first map is not an excerpt of the model of the second map.\n",
    "However, the layout of the first map is an excerpt of the layout of the second map:"
   ]
  },
  {
   "cell_type": "code",
   "execution_count": 20,
   "id": "e1e1ce9d",
   "metadata": {},
   "outputs": [],
   "source": [
    "assert not m3.is_submap(m4)\n",
    "assert not m3.model.is_submodel(m4.model)\n",
    "assert m3.layout.is_sublayout(m4.layout)\n",
    "assert not m3.layout_model_mapping.is_submapping(m4.layout_model_mapping)"
   ]
  },
  {
   "cell_type": "markdown",
   "id": "5d92c9d6",
   "metadata": {},
   "source": [
    "# Frozen and builder objects"
   ]
  },
  {
   "cell_type": "markdown",
   "id": "ec88c643",
   "metadata": {},
   "source": [
    "`Map`, `Model`, `Layout`, `ModelElement` and `LayoutElement` objects cannot be modified; they are frozen:"
   ]
  },
  {
   "cell_type": "code",
   "execution_count": 21,
   "id": "523ea2f7",
   "metadata": {
    "scrolled": true
   },
   "outputs": [
    {
     "data": {
      "image/png": "[encoded data removed]",
      "text/plain": [
       "Image(600, 450, ColorType.kBGRA_8888_ColorType, AlphaType.kPremul_AlphaType)"
      ]
     },
     "metadata": {},
     "output_type": "display_data"
    }
   ],
   "source": [
    "m = momapy.io.read(\"phospho1.sbgn\")\n",
    "display(m)"
   ]
  },
  {
   "cell_type": "code",
   "execution_count": 22,
   "id": "bb25543f",
   "metadata": {},
   "outputs": [
    {
     "data": {
      "image/png": "[encoded data removed]",
      "text/plain": [
       "Image(600, 450, ColorType.kBGRA_8888_ColorType, AlphaType.kPremul_AlphaType)"
      ]
     },
     "metadata": {},
     "output_type": "display_data"
    }
   ],
   "source": [
    "for l in m.layout.layout_elements:\n",
    "    break\n",
    "display(l)"
   ]
  },
  {
   "cell_type": "code",
   "execution_count": 23,
   "id": "19525a56",
   "metadata": {},
   "outputs": [
    {
     "name": "stdout",
     "output_type": "stream",
     "text": [
      "cannot assign to field 'stroke_width'\n"
     ]
    }
   ],
   "source": [
    "try:\n",
    "    l.stroke_width = 3.0\n",
    "except Exception as e:\n",
    "    print(e)"
   ]
  },
  {
   "cell_type": "markdown",
   "id": "52c644c3",
   "metadata": {},
   "source": [
    "This way they can be hashed, which is necessary to check whether a `Map` object belongs to a `set` efficiently, for example.\n",
    "However, we want to be able to modify them programmatically (e.g., change the stroke width of a shape).\n",
    "To this end, each class has a corresponding builder class, that allows the production of objects that are not frozen.\n",
    "Such objects may be built directly from the frozen objects:"
   ]
  },
  {
   "cell_type": "code",
   "execution_count": 24,
   "id": "cd8ef1a9",
   "metadata": {
    "scrolled": true
   },
   "outputs": [
    {
     "name": "stdout",
     "output_type": "stream",
     "text": [
      "\u001b[30m<class 'abc.MacromoleculeLayoutBuilder'>\u001b[31m: MacromoleculeLayoutBuilder(id=...\u001b[0m\n",
      "  \u001b[34m* id\u001b[35m: <class 'str'> = \u001b[31mglyph2\u001b[0m\n",
      "  \u001b[34m* layout_elements\u001b[35m: momapy.core.TupleBuilder[abc.LayoutElementBuilder] = \u001b[31m[StateVariableLayoutBuilder(id...\u001b[0m\n",
      "  \u001b[34m* stroke\u001b[35m: <class 'abc.ColorBuilder'> = \u001b[31mColorBuilder(red=0, green=0, b...\u001b[0m\n",
      "  \u001b[34m* stroke_width\u001b[35m: <class 'float'> = \u001b[31m1.0\u001b[0m\n",
      "  \u001b[34m* stroke_dasharray\u001b[35m: typing.Union[momapy.drawing.NoneValueType, momapy.core.TupleBuilder[float], NoneType] = \u001b[31mNone\u001b[0m\n",
      "  \u001b[34m* stroke_dashoffset\u001b[35m: typing.Optional[float] = \u001b[31mNone\u001b[0m\n",
      "  \u001b[34m* fill\u001b[35m: <class 'abc.ColorBuilder'> = \u001b[31mColorBuilder(red=255, green=25...\u001b[0m\n",
      "  \u001b[34m* transform\u001b[35m: typing.Union[momapy.drawing.NoneValueType, momapy.core.TupleBuilder[abc.TransformationBuilder], NoneType] = \u001b[31mNone\u001b[0m\n",
      "  \u001b[34m* filter\u001b[35m: typing.Union[momapy.drawing.NoneValueType, abc.FilterBuilder, NoneType] = \u001b[31mNone\u001b[0m\n",
      "  \u001b[34m* position\u001b[35m: typing.Optional[abc.PointBuilder] = \u001b[31mPointBuilder(x=85.0, y=270.0)\u001b[0m\n",
      "  \u001b[34m* width\u001b[35m: <class 'float'> = \u001b[31m108.0\u001b[0m\n",
      "  \u001b[34m* height\u001b[35m: <class 'float'> = \u001b[31m60.0\u001b[0m\n",
      "  \u001b[34m* label\u001b[35m: typing.Optional[abc.TextLayoutBuilder] = \u001b[31mTextLayoutBuilder(id=UUID('994...\u001b[0m\n",
      "  \u001b[34m* border_stroke\u001b[35m: typing.Union[momapy.drawing.NoneValueType, abc.ColorBuilder, NoneType] = \u001b[31mNone\u001b[0m\n",
      "  \u001b[34m* border_stroke_width\u001b[35m: typing.Optional[float] = \u001b[31mNone\u001b[0m\n",
      "  \u001b[34m* border_stroke_dasharray\u001b[35m: typing.Union[momapy.drawing.NoneValueType, momapy.core.TupleBuilder[float], NoneType] = \u001b[31mNone\u001b[0m\n",
      "  \u001b[34m* border_stroke_dashoffset\u001b[35m: typing.Optional[float] = \u001b[31mNone\u001b[0m\n",
      "  \u001b[34m* border_fill\u001b[35m: typing.Union[momapy.drawing.NoneValueType, abc.ColorBuilder, NoneType] = \u001b[31mNone\u001b[0m\n",
      "  \u001b[34m* border_transform\u001b[35m: typing.Union[momapy.drawing.NoneValueType, momapy.core.TupleBuilder[abc.TransformationBuilder], NoneType] = \u001b[31mNone\u001b[0m\n",
      "  \u001b[34m* border_filter\u001b[35m: typing.Union[momapy.drawing.NoneValueType, abc.FilterBuilder, NoneType] = \u001b[31mNone\u001b[0m\n",
      "  \u001b[34m* rounded_corners\u001b[35m: <class 'float'> = \u001b[31m5.0\u001b[0m\n"
     ]
    }
   ],
   "source": [
    "lb = momapy.builder.builder_from_object(l)\n",
    "momapy.utils.pretty_print(lb)"
   ]
  },
  {
   "cell_type": "code",
   "execution_count": 25,
   "id": "4e795b8b",
   "metadata": {
    "scrolled": true
   },
   "outputs": [
    {
     "data": {
      "image/png": "[encoded data removed]",
      "text/plain": [
       "Image(600, 450, ColorType.kBGRA_8888_ColorType, AlphaType.kPremul_AlphaType)"
      ]
     },
     "metadata": {},
     "output_type": "display_data"
    }
   ],
   "source": [
    "lb.stroke_width = 3.0\n",
    "display(lb)"
   ]
  },
  {
   "cell_type": "markdown",
   "id": "67b8f379",
   "metadata": {},
   "source": [
    "The frozen object may then be built back from the builder:"
   ]
  },
  {
   "cell_type": "code",
   "execution_count": 26,
   "id": "a2240a6b",
   "metadata": {},
   "outputs": [],
   "source": [
    "l = momapy.builder.object_from_builder(lb)"
   ]
  },
  {
   "cell_type": "code",
   "execution_count": 27,
   "id": "cca9b9f1",
   "metadata": {},
   "outputs": [],
   "source": [
    "assert l.stroke_width == 3.0"
   ]
  },
  {
   "cell_type": "markdown",
   "id": "823956ec",
   "metadata": {},
   "source": [
    "The builder version of a map may be returned directly when reading the SBGN-ML file:"
   ]
  },
  {
   "cell_type": "code",
   "execution_count": 28,
   "id": "8d91d99d",
   "metadata": {
    "scrolled": false
   },
   "outputs": [
    {
     "name": "stdout",
     "output_type": "stream",
     "text": [
      "\u001b[30m<class 'abc.SBGNPDMapBuilder'>\u001b[31m: SBGNPDMapBuilder(id=UUID('ad64...\u001b[0m\n",
      "  \u001b[34m* id\u001b[35m: <class 'str'> = \u001b[31mad64fb2d-f4d0-4d6d-b8f5-592f73...\u001b[0m\n",
      "  \u001b[34m* model\u001b[35m: typing.Optional[abc.SBGNPDModelBuilder] = \u001b[31mSBGNPDModelBuilder(id=UUID('3a...\u001b[0m\n",
      "  \u001b[34m* layout\u001b[35m: typing.Optional[abc.SBGNPDLayoutBuilder] = \u001b[31mSBGNPDLayoutBuilder(id=UUID('f...\u001b[0m\n",
      "  \u001b[34m* layout_model_mapping\u001b[35m: typing.Optional[momapy.core.LayoutModelMappingBuilder] = \u001b[31mLayoutModelMappingBuilder(_sin...\u001b[0m\n",
      "  \u001b[34m* notes\u001b[35m: typing.Optional[str] = \u001b[31mNone\u001b[0m\n",
      "  \u001b[34m* annotations\u001b[35m: momapy.core.FrozensetBuilder[abc.AnnotationBuilder] = \u001b[31mFrozensetBuilder()\u001b[0m\n"
     ]
    }
   ],
   "source": [
    "mb = momapy.io.read(\"phospho1.sbgn\", return_builder=True)\n",
    "momapy.utils.pretty_print(mb)"
   ]
  },
  {
   "cell_type": "markdown",
   "id": "94a41116",
   "metadata": {},
   "source": [
    "# Rendering"
   ]
  },
  {
   "cell_type": "code",
   "execution_count": 29,
   "id": "41f2ae37",
   "metadata": {
    "scrolled": true
   },
   "outputs": [
    {
     "data": {
      "image/png": "[encoded data removed]",
      "text/plain": [
       "Image(600, 450, ColorType.kBGRA_8888_ColorType, AlphaType.kPremul_AlphaType)"
      ]
     },
     "metadata": {},
     "output_type": "display_data"
    }
   ],
   "source": [
    "m = momapy.io.read(\"phospho1.sbgn\")\n",
    "display(m)"
   ]
  },
  {
   "cell_type": "markdown",
   "id": "67f5cac4",
   "metadata": {},
   "source": [
    "`Map`s can be rendered in different formats using a simple render function:"
   ]
  },
  {
   "cell_type": "code",
   "execution_count": 30,
   "id": "7da44392",
   "metadata": {},
   "outputs": [],
   "source": [
    "momapy.rendering.core.render_map(m, \"phospho1.pdf\", format_=\"pdf\")\n",
    "momapy.rendering.core.render_map(m, \"phospho1.png\", format_=\"png\")\n",
    "momapy.rendering.core.render_map(m, \"phospho1.svg\", format_=\"svg\")\n",
    "momapy.rendering.core.render_map(m, \"phospho1.webp\", format_=\"webp\")\n",
    "momapy.rendering.core.render_map(m, \"phospho1.jpeg\", format_=\"jpeg\")"
   ]
  },
  {
   "cell_type": "markdown",
   "id": "60838863",
   "metadata": {},
   "source": [
    "`MapLayout`s can be moved to the top left using the `top_left` option:"
   ]
  },
  {
   "cell_type": "code",
   "execution_count": 31,
   "id": "212bb0b4",
   "metadata": {},
   "outputs": [],
   "source": [
    "momapy.rendering.core.render_map(m, \"phospho1.pdf\", format_=\"pdf\", to_top_left=True)"
   ]
  },
  {
   "cell_type": "code",
   "execution_count": 32,
   "id": "32ac65b3",
   "metadata": {},
   "outputs": [],
   "source": [
    "m1 = momapy.io.read(\"phospho1.sbgn\")\n",
    "m2 = momapy.io.read(\"phospho2.sbgn\")\n",
    "m3 = momapy.io.read(\"phospho3.sbgn\")\n",
    "m4 = momapy.io.read(\"phospho4.sbgn\")"
   ]
  },
  {
   "cell_type": "markdown",
   "id": "b6b05c50",
   "metadata": {},
   "source": [
    "Multiple `Map`s can be rendered in one document using a simple function:"
   ]
  },
  {
   "cell_type": "code",
   "execution_count": 33,
   "id": "ce14d73c",
   "metadata": {},
   "outputs": [],
   "source": [
    "momapy.rendering.core.render_maps([m1, m2, m3, m4], \"phospho_multi.pdf\", format_=\"pdf\", multi_pages=True)"
   ]
  },
  {
   "cell_type": "markdown",
   "id": "1b1deff3",
   "metadata": {},
   "source": [
    "# Styling"
   ]
  },
  {
   "cell_type": "markdown",
   "id": "7ed6ea84",
   "metadata": {},
   "source": [
    "## Styling `LayoutElement` objects"
   ]
  },
  {
   "cell_type": "markdown",
   "id": "2ed1ea2b",
   "metadata": {},
   "source": [
    "### Basic styling"
   ]
  },
  {
   "cell_type": "markdown",
   "id": "2a059032",
   "metadata": {},
   "source": [
    "Basic styling can be easily applied to `LayoutElement`s:"
   ]
  },
  {
   "cell_type": "code",
   "execution_count": 34,
   "id": "f5768ef0",
   "metadata": {
    "scrolled": true
   },
   "outputs": [
    {
     "data": {
      "image/png": "[encoded data removed]",
      "text/plain": [
       "Image(600, 450, ColorType.kBGRA_8888_ColorType, AlphaType.kPremul_AlphaType)"
      ]
     },
     "metadata": {},
     "output_type": "display_data"
    }
   ],
   "source": [
    "mb = momapy.io.read(\"phospho1.sbgn\", return_builder=True)\n",
    "display(mb)"
   ]
  },
  {
   "cell_type": "code",
   "execution_count": 35,
   "id": "99699990",
   "metadata": {
    "scrolled": true
   },
   "outputs": [
    {
     "data": {
      "image/png": "[encoded data removed]",
      "text/plain": [
       "Image(600, 450, ColorType.kBGRA_8888_ColorType, AlphaType.kPremul_AlphaType)"
      ]
     },
     "metadata": {},
     "output_type": "display_data"
    }
   ],
   "source": [
    "for lb in mb.layout.layout_elements:\n",
    "    break\n",
    "display(lb)"
   ]
  },
  {
   "cell_type": "code",
   "execution_count": 36,
   "id": "46a33894",
   "metadata": {
    "scrolled": true
   },
   "outputs": [
    {
     "data": {
      "image/png": "[encoded data removed]",
      "text/plain": [
       "Image(600, 450, ColorType.kBGRA_8888_ColorType, AlphaType.kPremul_AlphaType)"
      ]
     },
     "metadata": {},
     "output_type": "display_data"
    }
   ],
   "source": [
    "lb.fill = momapy.coloring.lightblue\n",
    "lb.stroke = momapy.coloring.brown\n",
    "lb.stroke_width = 3.0\n",
    "lb.stroke_dasharray = (5, 5)\n",
    "display(lb)"
   ]
  },
  {
   "cell_type": "markdown",
   "id": "3bea215c",
   "metadata": {},
   "source": [
    "The `label` of a `NodeLayout` can also be styled:"
   ]
  },
  {
   "cell_type": "code",
   "execution_count": 37,
   "id": "015c124d",
   "metadata": {},
   "outputs": [
    {
     "data": {
      "image/png": "[encoded data removed]",
      "text/plain": [
       "Image(600, 450, ColorType.kBGRA_8888_ColorType, AlphaType.kPremul_AlphaType)"
      ]
     },
     "metadata": {},
     "output_type": "display_data"
    }
   ],
   "source": [
    "lb.label.font_family = \"Times\"\n",
    "lb.label.font_size = 30.0\n",
    "lb.label.font_color = momapy.coloring.red\n",
    "display(lb)"
   ]
  },
  {
   "cell_type": "markdown",
   "id": "4bf56189",
   "metadata": {},
   "source": [
    "### Advanced styling"
   ]
  },
  {
   "cell_type": "markdown",
   "id": "7179ce40",
   "metadata": {},
   "source": [
    "Advanced effects such as transformations (translation, rotation, ...) and filter effects can be applied to `LayoutElement`s:"
   ]
  },
  {
   "cell_type": "code",
   "execution_count": 38,
   "id": "bf23f55b",
   "metadata": {
    "scrolled": true
   },
   "outputs": [
    {
     "data": {
      "image/png": "[encoded data removed]",
      "text/plain": [
       "Image(600, 450, ColorType.kBGRA_8888_ColorType, AlphaType.kPremul_AlphaType)"
      ]
     },
     "metadata": {},
     "output_type": "display_data"
    }
   ],
   "source": [
    "lb.transform = (momapy.geometry.Scaling(2, 1), momapy.geometry.Rotation(0.5, lb.position),)\n",
    "lb.filter = momapy.drawing.Filter(effects=(momapy.drawing.DropShadowEffect(dx=3.0, dy=3.0, std_deviation=5.0, flood_opacity=0.5, flood_color=momapy.coloring.blue),))\n",
    "display(lb)"
   ]
  },
  {
   "cell_type": "markdown",
   "id": "84aea5ab",
   "metadata": {},
   "source": [
    "## CSS-like style sheets"
   ]
  },
  {
   "cell_type": "markdown",
   "id": "9e6d530a",
   "metadata": {},
   "source": [
    "Styles may be applied to a `Map` using a `StyleSheet`. A `StyleSheet` can be built from a text document whose syntax is a subset of the CSS syntax."
   ]
  },
  {
   "cell_type": "code",
   "execution_count": 39,
   "id": "6dda91e5",
   "metadata": {
    "scrolled": true
   },
   "outputs": [
    {
     "data": {
      "image/png": "[encoded data removed]",
      "text/plain": [
       "Image(600, 450, ColorType.kBGRA_8888_ColorType, AlphaType.kPremul_AlphaType)"
      ]
     },
     "metadata": {},
     "output_type": "display_data"
    }
   ],
   "source": [
    "mb = momapy.io.read(\"phospho1.sbgn\", return_builder=True)\n",
    "display(mb)"
   ]
  },
  {
   "cell_type": "markdown",
   "id": "0e1ddea8",
   "metadata": {},
   "source": [
    "There are pre-built `StyleSheet` objects for Vanted and Newt-like styles, for colors, and for shadows:"
   ]
  },
  {
   "cell_type": "code",
   "execution_count": 40,
   "id": "fd3ac6fa",
   "metadata": {
    "scrolled": true
   },
   "outputs": [
    {
     "ename": "AttributeError",
     "evalue": "<class 'abc.ProductionLayoutBuilder'> object has no attribute 'width'",
     "output_type": "error",
     "traceback": [
      "\u001b[0;31m---------------------------------------------------------------------------\u001b[0m",
      "\u001b[0;31mAttributeError\u001b[0m                            Traceback (most recent call last)",
      "Cell \u001b[0;32mIn[40], line 1\u001b[0m\n\u001b[0;32m----> 1\u001b[0m \u001b[43mmomapy\u001b[49m\u001b[38;5;241;43m.\u001b[39;49m\u001b[43mstyling\u001b[49m\u001b[38;5;241;43m.\u001b[39;49m\u001b[43mapply_style_sheet\u001b[49m\u001b[43m(\u001b[49m\u001b[43mmb\u001b[49m\u001b[43m,\u001b[49m\u001b[43m \u001b[49m\u001b[43mmomapy\u001b[49m\u001b[38;5;241;43m.\u001b[39;49m\u001b[43msbgn\u001b[49m\u001b[38;5;241;43m.\u001b[39;49m\u001b[43mstyling\u001b[49m\u001b[38;5;241;43m.\u001b[39;49m\u001b[43mnewt\u001b[49m\u001b[43m)\u001b[49m\n\u001b[1;32m      2\u001b[0m display(mb)\n",
      "File \u001b[0;32m~/code/momapy/momapy/styling.py:146\u001b[0m, in \u001b[0;36mapply_style_sheet\u001b[0;34m(layout_element, style_sheet, strict, ancestors)\u001b[0m\n\u001b[1;32m    144\u001b[0m ancestors \u001b[38;5;241m=\u001b[39m ancestors \u001b[38;5;241m+\u001b[39m [layout_element]\n\u001b[1;32m    145\u001b[0m \u001b[38;5;28;01mfor\u001b[39;00m child \u001b[38;5;129;01min\u001b[39;00m layout_element\u001b[38;5;241m.\u001b[39mchildren():\n\u001b[0;32m--> 146\u001b[0m     \u001b[43mapply_style_sheet\u001b[49m\u001b[43m(\u001b[49m\u001b[43mchild\u001b[49m\u001b[43m,\u001b[49m\u001b[43m \u001b[49m\u001b[43mstyle_sheet\u001b[49m\u001b[43m,\u001b[49m\u001b[43m \u001b[49m\u001b[43mstrict\u001b[49m\u001b[43m,\u001b[49m\u001b[43m \u001b[49m\u001b[43mancestors\u001b[49m\u001b[43m)\u001b[49m\n",
      "File \u001b[0;32m~/code/momapy/momapy/styling.py:146\u001b[0m, in \u001b[0;36mapply_style_sheet\u001b[0;34m(layout_element, style_sheet, strict, ancestors)\u001b[0m\n\u001b[1;32m    144\u001b[0m ancestors \u001b[38;5;241m=\u001b[39m ancestors \u001b[38;5;241m+\u001b[39m [layout_element]\n\u001b[1;32m    145\u001b[0m \u001b[38;5;28;01mfor\u001b[39;00m child \u001b[38;5;129;01min\u001b[39;00m layout_element\u001b[38;5;241m.\u001b[39mchildren():\n\u001b[0;32m--> 146\u001b[0m     \u001b[43mapply_style_sheet\u001b[49m\u001b[43m(\u001b[49m\u001b[43mchild\u001b[49m\u001b[43m,\u001b[49m\u001b[43m \u001b[49m\u001b[43mstyle_sheet\u001b[49m\u001b[43m,\u001b[49m\u001b[43m \u001b[49m\u001b[43mstrict\u001b[49m\u001b[43m,\u001b[49m\u001b[43m \u001b[49m\u001b[43mancestors\u001b[49m\u001b[43m)\u001b[49m\n",
      "File \u001b[0;32m~/code/momapy/momapy/styling.py:143\u001b[0m, in \u001b[0;36mapply_style_sheet\u001b[0;34m(layout_element, style_sheet, strict, ancestors)\u001b[0m\n\u001b[1;32m    141\u001b[0m \u001b[38;5;28;01mfor\u001b[39;00m selector, style_collection \u001b[38;5;129;01min\u001b[39;00m style_sheet\u001b[38;5;241m.\u001b[39mitems():\n\u001b[1;32m    142\u001b[0m     \u001b[38;5;28;01mif\u001b[39;00m selector\u001b[38;5;241m.\u001b[39mselect(layout_element, ancestors):\n\u001b[0;32m--> 143\u001b[0m         \u001b[43mapply_style_collection\u001b[49m\u001b[43m(\u001b[49m\u001b[43mlayout_element\u001b[49m\u001b[43m,\u001b[49m\u001b[43m \u001b[49m\u001b[43mstyle_collection\u001b[49m\u001b[43m,\u001b[49m\u001b[43m \u001b[49m\u001b[43mstrict\u001b[49m\u001b[43m)\u001b[49m\n\u001b[1;32m    144\u001b[0m ancestors \u001b[38;5;241m=\u001b[39m ancestors \u001b[38;5;241m+\u001b[39m [layout_element]\n\u001b[1;32m    145\u001b[0m \u001b[38;5;28;01mfor\u001b[39;00m child \u001b[38;5;129;01min\u001b[39;00m layout_element\u001b[38;5;241m.\u001b[39mchildren():\n",
      "File \u001b[0;32m~/code/momapy/momapy/styling.py:129\u001b[0m, in \u001b[0;36mapply_style_collection\u001b[0;34m(layout_element, style_collection, strict)\u001b[0m\n\u001b[1;32m    127\u001b[0m \u001b[38;5;28;01melse\u001b[39;00m:\n\u001b[1;32m    128\u001b[0m     \u001b[38;5;28;01mif\u001b[39;00m strict:\n\u001b[0;32m--> 129\u001b[0m         \u001b[38;5;28;01mraise\u001b[39;00m \u001b[38;5;167;01mAttributeError\u001b[39;00m(\n\u001b[1;32m    130\u001b[0m             \u001b[38;5;124mf\u001b[39m\u001b[38;5;124m\"\u001b[39m\u001b[38;5;132;01m{\u001b[39;00m\u001b[38;5;28mtype\u001b[39m(layout_element)\u001b[38;5;132;01m}\u001b[39;00m\u001b[38;5;124m object has no \u001b[39m\u001b[38;5;124m\"\u001b[39m\n\u001b[1;32m    131\u001b[0m             \u001b[38;5;124mf\u001b[39m\u001b[38;5;124m\"\u001b[39m\u001b[38;5;124mattribute \u001b[39m\u001b[38;5;124m'\u001b[39m\u001b[38;5;132;01m{\u001b[39;00mattribute\u001b[38;5;132;01m}\u001b[39;00m\u001b[38;5;124m'\u001b[39m\u001b[38;5;124m\"\u001b[39m\n\u001b[1;32m    132\u001b[0m         )\n",
      "\u001b[0;31mAttributeError\u001b[0m: <class 'abc.ProductionLayoutBuilder'> object has no attribute 'width'"
     ]
    }
   ],
   "source": [
    "momapy.styling.apply_style_sheet(mb, momapy.sbgn.styling.newt)\n",
    "display(mb)"
   ]
  },
  {
   "cell_type": "markdown",
   "id": "e69aeab2",
   "metadata": {},
   "source": [
    "Applying a `StyleSheet` to a `Map` may change the size of the nodes.\n",
    "Some simple functions can be used to tidy the `Map`:"
   ]
  },
  {
   "cell_type": "code",
   "execution_count": null,
   "id": "7a46da0a",
   "metadata": {},
   "outputs": [],
   "source": [
    "momapy.sbgn.utils.newt_tidy(mb)\n",
    "display(mb)"
   ]
  },
  {
   "cell_type": "code",
   "execution_count": null,
   "id": "ecc991ca",
   "metadata": {
    "scrolled": true
   },
   "outputs": [],
   "source": [
    "momapy.styling.apply_style_sheet(mb, momapy.sbgn.styling.sbgned)\n",
    "momapy.sbgn.utils.sbgned_tidy(mb)\n",
    "display(mb)"
   ]
  },
  {
   "cell_type": "code",
   "execution_count": null,
   "id": "4f4c17ae",
   "metadata": {
    "scrolled": false
   },
   "outputs": [],
   "source": [
    "momapy.styling.apply_style_sheet(mb, momapy.sbgn.styling.default_colorscheme)\n",
    "display(mb)"
   ]
  },
  {
   "cell_type": "code",
   "execution_count": null,
   "id": "84a98dbf",
   "metadata": {
    "scrolled": false
   },
   "outputs": [],
   "source": [
    "momapy.styling.apply_style_sheet(mb, momapy.sbgn.styling.shadows)\n",
    "display(mb)"
   ]
  },
  {
   "cell_type": "markdown",
   "id": "8d98eeba",
   "metadata": {},
   "source": [
    "These pre-built `StyleSheet`s are built from CSS-like text files:"
   ]
  },
  {
   "cell_type": "code",
   "execution_count": null,
   "id": "f630e11e",
   "metadata": {
    "scrolled": false
   },
   "outputs": [],
   "source": [
    "with open(\"../sbgn/styling/sbgned.css\") as f:\n",
    "    for line in f.readlines()[:35]:\n",
    "        print(line[:-1])"
   ]
  },
  {
   "cell_type": "markdown",
   "id": "025148cf",
   "metadata": {},
   "source": [
    "One may build a `StyleSheet` from a file and apply it to a `Map` with simple functions:"
   ]
  },
  {
   "cell_type": "code",
   "execution_count": null,
   "id": "2050c913",
   "metadata": {
    "scrolled": true
   },
   "outputs": [],
   "source": [
    "with open(\"my_style_sheet.css\", \"w\") as f:\n",
    "    f.write(\"\"\"\n",
    "    SBGNPDLayout {\n",
    "        stroke: red;\n",
    "        fill: lightyellow;\n",
    "    }\n",
    "    \n",
    "    MacromoleculeLayout {\n",
    "        fill: green;\n",
    "    }\n",
    "    \"\"\")\n",
    "my_style_sheet = momapy.styling.read_file(\"my_style_sheet.css\")\n",
    "momapy.styling.apply_style_sheet(mb, my_style_sheet)\n",
    "display(mb)"
   ]
  },
  {
   "cell_type": "markdown",
   "id": "d1e153aa",
   "metadata": {},
   "source": [
    "# Automatic geometry"
   ]
  },
  {
   "cell_type": "markdown",
   "id": "7b25f894",
   "metadata": {},
   "source": [
    "`LayoutElement`s support automatic geometry: their borders can be automatically computed from the `DrawingElement`s they return."
   ]
  },
  {
   "cell_type": "markdown",
   "id": "756981df",
   "metadata": {},
   "source": [
    "## For `NodeLayout`s"
   ]
  },
  {
   "cell_type": "code",
   "execution_count": null,
   "id": "d61f3cdd",
   "metadata": {
    "scrolled": false
   },
   "outputs": [],
   "source": [
    "lb = macromolecule_toy()\n",
    "display(lb)"
   ]
  },
  {
   "cell_type": "markdown",
   "id": "fa90149e",
   "metadata": {},
   "source": [
    "### Anchors"
   ]
  },
  {
   "cell_type": "code",
   "execution_count": null,
   "id": "45d995e9",
   "metadata": {
    "scrolled": false
   },
   "outputs": [],
   "source": [
    "lb.north_west()"
   ]
  },
  {
   "cell_type": "code",
   "execution_count": null,
   "id": "637214c9",
   "metadata": {
    "scrolled": true
   },
   "outputs": [],
   "source": [
    "display_at(lb, lb.north_west())"
   ]
  },
  {
   "cell_type": "markdown",
   "id": "1f69ae53",
   "metadata": {},
   "source": [
    "All `NodeLayout`s have at least the following anchor points:\n",
    "* `north_west`\n",
    "* `north`\n",
    "* `north_east`\n",
    "* `east`\n",
    "* `south_east`\n",
    "* `south`\n",
    "* `south_west`\n",
    "* `west`\n",
    "* `center`\n",
    "* `label_center`"
   ]
  },
  {
   "cell_type": "code",
   "execution_count": null,
   "id": "6ddacee6",
   "metadata": {},
   "outputs": [],
   "source": [
    "show_room(momapy.sbgn.pd.MacromoleculeLayout)"
   ]
  },
  {
   "cell_type": "code",
   "execution_count": null,
   "id": "b26c1842",
   "metadata": {
    "scrolled": true
   },
   "outputs": [],
   "source": [
    "show_room(momapy.sbgn.pd.GenericProcessLayout)"
   ]
  },
  {
   "cell_type": "code",
   "execution_count": null,
   "id": "ed8874a8",
   "metadata": {
    "scrolled": false
   },
   "outputs": [],
   "source": [
    "show_room(momapy.sbgn.pd.ComplexMultimerLayout)"
   ]
  },
  {
   "cell_type": "markdown",
   "id": "8c7904a0",
   "metadata": {},
   "source": [
    "### Angles"
   ]
  },
  {
   "cell_type": "code",
   "execution_count": null,
   "id": "2edadf5a",
   "metadata": {
    "scrolled": false
   },
   "outputs": [],
   "source": [
    "lb.self_angle(130)"
   ]
  },
  {
   "cell_type": "code",
   "execution_count": null,
   "id": "e065b82d",
   "metadata": {
    "scrolled": false
   },
   "outputs": [],
   "source": [
    "display_at(lb, lb.self_angle(130))"
   ]
  },
  {
   "cell_type": "code",
   "execution_count": null,
   "id": "08c4f801",
   "metadata": {
    "scrolled": true
   },
   "outputs": [],
   "source": [
    "show_room(momapy.sbgn.pd.MacromoleculeLayout, \"self_angle\")"
   ]
  },
  {
   "cell_type": "code",
   "execution_count": null,
   "id": "36ae9841",
   "metadata": {
    "scrolled": false
   },
   "outputs": [],
   "source": [
    "display_at(lb, lb.angle(130))"
   ]
  },
  {
   "cell_type": "code",
   "execution_count": null,
   "id": "cc7af700",
   "metadata": {
    "scrolled": true
   },
   "outputs": [],
   "source": [
    "show_room(momapy.sbgn.pd.MacromoleculeLayout, \"angle\")"
   ]
  },
  {
   "cell_type": "markdown",
   "id": "ea66b483",
   "metadata": {},
   "source": [
    "## For `ArcLayout`s"
   ]
  },
  {
   "cell_type": "code",
   "execution_count": null,
   "id": "7bf7ebaf",
   "metadata": {},
   "outputs": [],
   "source": [
    "lb = production_toy()\n",
    "display(lb)"
   ]
  },
  {
   "cell_type": "markdown",
   "id": "df025525",
   "metadata": {},
   "source": [
    "### Anchors"
   ]
  },
  {
   "cell_type": "code",
   "execution_count": null,
   "id": "18230b56",
   "metadata": {},
   "outputs": [],
   "source": [
    "lb.arrowhead_base()"
   ]
  },
  {
   "cell_type": "code",
   "execution_count": null,
   "id": "414552d2",
   "metadata": {},
   "outputs": [],
   "source": [
    "display_at(lb, lb.arrowhead_base())"
   ]
  },
  {
   "cell_type": "code",
   "execution_count": null,
   "id": "ef1fc64a",
   "metadata": {
    "scrolled": true
   },
   "outputs": [],
   "source": [
    "show_room(momapy.sbgn.pd.ProductionLayout)"
   ]
  },
  {
   "cell_type": "markdown",
   "id": "fb7364c1",
   "metadata": {},
   "source": [
    "### Fraction"
   ]
  },
  {
   "cell_type": "code",
   "execution_count": null,
   "id": "bb5df456",
   "metadata": {},
   "outputs": [],
   "source": [
    "lb.fraction(0.50)"
   ]
  },
  {
   "cell_type": "code",
   "execution_count": null,
   "id": "c1dab76d",
   "metadata": {},
   "outputs": [],
   "source": [
    "pos, angle = lb.fraction(0.50)\n",
    "display_at(lb, pos)"
   ]
  },
  {
   "cell_type": "code",
   "execution_count": null,
   "id": "6fb1100f",
   "metadata": {},
   "outputs": [],
   "source": [
    "show_room(momapy.sbgn.pd.ProductionLayout, \"fraction\")"
   ]
  },
  {
   "cell_type": "markdown",
   "id": "94fd5ad5",
   "metadata": {},
   "source": [
    "# Relative positioning"
   ]
  },
  {
   "cell_type": "markdown",
   "id": "d0d7e2db",
   "metadata": {},
   "source": [
    "Automatic geometry enables positioning `LayoutElement`s relatively to one another."
   ]
  },
  {
   "cell_type": "code",
   "execution_count": null,
   "id": "2eb6bba5",
   "metadata": {},
   "outputs": [],
   "source": [
    "mb = momapy.io.read(\"phospho1.sbgn\", return_builder=True)\n",
    "display(mb)"
   ]
  },
  {
   "cell_type": "code",
   "execution_count": null,
   "id": "5447c6d2",
   "metadata": {},
   "outputs": [],
   "source": [
    "for lb in mb.layout.layout_elements:\n",
    "    if hasattr(lb, \"label\") and lb.label is not None and lb.label.text == \"B\": # we select the layout for B\n",
    "        eb = lb\n",
    "    elif momapy.builder.isinstance_or_builder(lb, momapy.sbgn.pd.GenericProcessLayout): # we select the process layout\n",
    "        pb = lb\n",
    "display(eb)\n",
    "display(pb)"
   ]
  },
  {
   "cell_type": "code",
   "execution_count": null,
   "id": "1938bbfd",
   "metadata": {
    "scrolled": false
   },
   "outputs": [],
   "source": [
    "eb.position = momapy.positioning.above_left_of(pb, 200, 50) # eb's position is set 200 units above and 50 units left of pb's position\n",
    "eb.label.position = eb.position\n",
    "momapy.sbgn.utils.tidy(mb)\n",
    "display(mb)"
   ]
  },
  {
   "cell_type": "markdown",
   "id": "2ae4f2f2",
   "metadata": {},
   "source": [
    "The following functions are available:\n",
    "* above_left_of\n",
    "* above_of\n",
    "* above_right_of\n",
    "* right_of\n",
    "* below_right_of\n",
    "* below_of\n",
    "* below_left_of\n",
    "* left_of"
   ]
  },
  {
   "cell_type": "markdown",
   "id": "8e93aae8",
   "metadata": {},
   "source": [
    "For container `NodeElement`s, the `fit` function is also available:"
   ]
  },
  {
   "cell_type": "code",
   "execution_count": null,
   "id": "2cbc4545",
   "metadata": {
    "scrolled": false
   },
   "outputs": [],
   "source": [
    "momapy.positioning.fit(mb.layout.layout_elements, xsep=20, ysep=10)"
   ]
  },
  {
   "cell_type": "markdown",
   "id": "4cb6c587",
   "metadata": {},
   "source": [
    "Each of the above functions has a corresponding `set` function, which directly sets the returned value(s) to the correct `NodeElement`'s attributes:"
   ]
  },
  {
   "cell_type": "code",
   "execution_count": null,
   "id": "9c8dec7e",
   "metadata": {
    "scrolled": false
   },
   "outputs": [],
   "source": [
    "mb.layout.stroke = momapy.coloring.red\n",
    "momapy.positioning.set_fit(mb.layout, mb.layout.layout_elements, xsep=20, ysep=10)\n",
    "display(mb)"
   ]
  },
  {
   "cell_type": "markdown",
   "id": "3acde95c",
   "metadata": {},
   "source": [
    "The `set` functions have an `anchor` option that sets the relative target anchor of the `NodeLayout` receiving the new position (default is `center`):"
   ]
  },
  {
   "cell_type": "code",
   "execution_count": null,
   "id": "c9b59172",
   "metadata": {
    "scrolled": true
   },
   "outputs": [],
   "source": [
    "momapy.positioning.set_above_left_of(eb, pb, 200, 50, anchor=\"south_east\") # eb's position is set such that its south_east anchor is 200 units above and 50 units left of pb's position\n",
    "eb.label.position = eb.position\n",
    "momapy.sbgn.utils.tidy(mb)\n",
    "display(mb)"
   ]
  },
  {
   "cell_type": "markdown",
   "id": "887b09f7",
   "metadata": {},
   "source": [
    "# Building new types of `NodeElement`s and `ArcElement`s"
   ]
  },
  {
   "cell_type": "markdown",
   "id": "8259ff40",
   "metadata": {},
   "source": [
    "New types of `NodeElement`s and `ArcElement`s can be easily programmed.\n",
    "Since the geometry is automatic, it is only required to program the general shape of the `LayoutElement` using `DrawingElement`s."
   ]
  },
  {
   "cell_type": "markdown",
   "id": "a6b341e8",
   "metadata": {},
   "source": [
    "## New `NodeLayout`"
   ]
  },
  {
   "cell_type": "code",
   "execution_count": null,
   "id": "188f5cca",
   "metadata": {},
   "outputs": [],
   "source": [
    "class MyTriangle(momapy.core.NodeLayout):\n",
    "    \n",
    "    def border_drawing_element(self):\n",
    "        path = momapy.drawing.Path()\n",
    "        path += momapy.drawing.MoveTo(self.position - (0, self.height / 2)) # top\n",
    "        path += momapy.drawing.LineTo(self.position + (self.width / 2, self.height / 2)) # bottom right\n",
    "        path += momapy.drawing.LineTo(self.position + (-self.width / 2, self.height / 2)) # bottom left\n",
    "        path += momapy.drawing.Close()\n",
    "        return path\n",
    "\n"
   ]
  },
  {
   "cell_type": "code",
   "execution_count": null,
   "id": "a79b98ea",
   "metadata": {},
   "outputs": [],
   "source": [
    "show_room(MyTriangle)"
   ]
  },
  {
   "cell_type": "code",
   "execution_count": null,
   "id": "2b08e972",
   "metadata": {
    "scrolled": true
   },
   "outputs": [],
   "source": [
    "show_room(MyTriangle, \"angle\")"
   ]
  },
  {
   "cell_type": "markdown",
   "id": "0a548f55",
   "metadata": {},
   "source": [
    "## New `ArcLayout`"
   ]
  },
  {
   "cell_type": "code",
   "execution_count": null,
   "id": "cb28bf21",
   "metadata": {},
   "outputs": [],
   "source": [
    "class MySquareArrow(momapy.core.ArcLayout):\n",
    "    width: float = 10.0\n",
    "    height: float = 10.0\n",
    "\n",
    "    def arrowhead_drawing_element(self):\n",
    "        path = momapy.drawing.Path()\n",
    "        path += momapy.drawing.MoveTo(self.arrowhead_base())\n",
    "        path += momapy.drawing.LineTo(self.arrowhead_base() + (0, -self.height / 2)) # top left\n",
    "        path += momapy.drawing.LineTo(self.arrowhead_base() + (self.width, -self.height / 2)) # top right\n",
    "        path += momapy.drawing.LineTo(self.arrowhead_base() + (self.width, self.height / 2)) # bottom right\n",
    "        path += momapy.drawing.LineTo(self.arrowhead_base() + (0, self.height / 2)) # bottom left\n",
    "        path += momapy.drawing.Close()\n",
    "        return path\n",
    "\n",
    "    def arrowhead_length(self):\n",
    "        return self.width\n",
    "\n",
    "    def arrowhead_bbox(self):\n",
    "        return momapy.geometry.Bbox(self.arrowhead_tip(), 0, 0)\n",
    "\n"
   ]
  },
  {
   "cell_type": "code",
   "execution_count": null,
   "id": "2936e6ec",
   "metadata": {},
   "outputs": [],
   "source": [
    "show_room(MySquareArrow)"
   ]
  },
  {
   "cell_type": "code",
   "execution_count": null,
   "id": "c5355973",
   "metadata": {},
   "outputs": [],
   "source": [
    "show_room(MySquareArrow, \"fraction\")"
   ]
  },
  {
   "cell_type": "markdown",
   "id": "aa114cdb",
   "metadata": {},
   "source": [
    "# Ongoing and future work"
   ]
  },
  {
   "cell_type": "markdown",
   "id": "2c0e2523",
   "metadata": {},
   "source": [
    "### Ongoing work:\n",
    "* Support for CellDesigner\n",
    "* Improve performance of geometry (currently slow)"
   ]
  },
  {
   "cell_type": "markdown",
   "id": "dee490d4",
   "metadata": {},
   "source": [
    "### Future work:\n",
    "* Support for background images and gradients\n",
    "* Support for SBGN ER\n",
    "* Support for SBML models (map skeleton) and layouts\n",
    "* Automatic XML/JSON format\n",
    "* Automatic Neo4j storing (StonPy2)\n",
    "* Developpment of converters\n",
    "* Support for BioPAX models"
   ]
  }
 ],
 "metadata": {
  "kernelspec": {
   "display_name": "my-virtualenv-name",
   "language": "python",
   "name": "my-virtualenv-name"
  },
  "language_info": {
   "codemirror_mode": {
    "name": "ipython",
    "version": 3
   },
   "file_extension": ".py",
   "mimetype": "text/x-python",
   "name": "python",
   "nbconvert_exporter": "python",
   "pygments_lexer": "ipython3",
   "version": "3.11.3"
  }
 },
 "nbformat": 4,
 "nbformat_minor": 5
}
